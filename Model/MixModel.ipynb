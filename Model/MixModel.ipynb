{
 "cells": [
  {
   "cell_type": "code",
   "execution_count": 2,
   "metadata": {},
   "outputs": [],
   "source": [
    "import pandas as pd\n",
    "import torch \n",
    "import torch.nn as nn\n",
    "from torch.utils.data import DataLoader,Dataset\n",
    "import numpy as np\n",
    "from tqdm import tqdm"
   ]
  },
  {
   "cell_type": "markdown",
   "metadata": {},
   "source": [
    "!pip install --upgrade --force-reinstall --no-deps kaggle==1.5.8\n",
    "!mkdir /root/.kaggle\n",
    "\n",
    "with open(\"/root/.kaggle/kaggle.json\", \"w+\") as f:\n",
    "    f.write('{\"username\":\"yimingxiao\",\"key\":\"a7d197fbcf8334a668ce1ba47f1dc75d\"}') # Put your kaggle username & key here"
   ]
  },
  {
   "cell_type": "markdown",
   "metadata": {},
   "source": [
    "!chmod 600 /root/.kaggle/kaggle.json\n",
    "!kaggle competitions download -c ubiquant-market-prediction\n",
    "\n"
   ]
  },
  {
   "cell_type": "markdown",
   "metadata": {},
   "source": [
    "!unzip -q ubiquant-market-prediction.zip\n",
    "\n",
    "!ls"
   ]
  },
  {
   "cell_type": "code",
   "execution_count": 3,
   "metadata": {},
   "outputs": [],
   "source": [
    "path=\"/root/Ubiquant/\"\n",
    "originaldatapath = \"train.csv\"\n",
    "targetpath =\"mytrain.csv\"\n",
    "valpath = \"myval.csv\"\n",
    "testpath =\"mytest.csv\""
   ]
  },
  {
   "cell_type": "markdown",
   "metadata": {},
   "source": [
    "df= pd.read_csv(path+originaldatapath)\n"
   ]
  },
  {
   "cell_type": "markdown",
   "metadata": {},
   "source": [
    "offset1 = int(df.shape[0]*0.7)\n",
    "offset2 = int(df.shape[0]*0.9)\n",
    "train =df.iloc[:offset1,:]\n",
    "val = df.iloc[offset1:offset2,:]\n",
    "test = df.iloc[offset2:,:]"
   ]
  },
  {
   "cell_type": "markdown",
   "metadata": {},
   "source": [
    "train.to_csv(path+targetpath)\n",
    "val.to_csv(path+valpath)\n",
    "test.to_csv(path+testpath)"
   ]
  },
  {
   "cell_type": "markdown",
   "metadata": {},
   "source": [
    "df= pd.read_csv(path+valpath)"
   ]
  },
  {
   "cell_type": "markdown",
   "metadata": {},
   "source": [
    "df"
   ]
  },
  {
   "cell_type": "code",
   "execution_count": 7,
   "metadata": {},
   "outputs": [],
   "source": [
    "#两方面去考虑attention,首先,可以忽视事件数据,将所有Id一样的人聚集在一起,将他们视作一个sequence,将他们的target作为另一个,观察两个sequence的关系\n",
    "#其次,可以以同一个时域做Attention,将这个时域中的数据作为一个切面sequence,然后跟他们的结果做相关性"
   ]
  },
  {
   "cell_type": "code",
   "execution_count": 4,
   "metadata": {},
   "outputs": [],
   "source": [
    "def GetDataFromKaggle():\n",
    "    print(\"successful get date\")"
   ]
  },
  {
   "cell_type": "code",
   "execution_count": 5,
   "metadata": {},
   "outputs": [],
   "source": [
    "def GetMaxFeature(x):\n",
    "    id_size = x[\"investment_id\"].nunique()\n",
    "    time_id_size = x[\"time_id\"].nunique()\n",
    "    return id_size,time_id_size"
   ]
  },
  {
   "cell_type": "code",
   "execution_count": 6,
   "metadata": {},
   "outputs": [],
   "source": [
    "class Ubiquant(Dataset):\n",
    "    def __init__(self,datapath,context = 100,train_data = True,get_time_data = True):\n",
    "        super(Ubiquant,self).__init__()\n",
    "        self.get_time = get_time_data\n",
    "        if(train_data):\n",
    "            self.data = pd.read_csv(datapath)\n",
    "            self.id_size,self.time_size = GetMaxFeature(self.data)\n",
    "            if(get_time_data):#get an x,y base on time frame\n",
    "                self.y = self.data.loc[:,\"target\"]\n",
    "                self.x = self.data.drop(columns=[\"Unnamed: 0\",\"row_id\",\"time_id\",\"target\"])\n",
    "                #self.x.loc[:,\"time_id\"] -=self.x.loc[0,\"time_id\"]\n",
    "                #self.id = self.x[[\"time_id\"]]\n",
    "                self.id = self.x[[\"investment_id\"]]\n",
    "                self.x = self.x.drop(columns=[\"investment_id\"])\n",
    "                \n",
    "                #self.x = self.x.drop(columns=[\"time_id\"])\n",
    "            else:#get (x,y) base on investment_id\n",
    "                self.data = self.data.sort_values(by=[\"investment_id\"])\n",
    "                self.y = self.data.loc[:,\"target\"]\n",
    "                self.x = self.data.drop(columns=[\"Unnamed: 0\",\"row_id\",\"time_id\",\"target\"])\n",
    "                self.id = self.x[[\"investment_id\"]]\n",
    "                self.x = self.x.drop(columns=[\"investment_id\"])\n",
    "        \n",
    "        #pad context before the data\n",
    "        self.context = context\n",
    "        self.pad_id =np.pad(self.id.to_numpy(),((context-1,0),(0,0)),constant_values = 0)\n",
    "        self.pad_x =np.pad(self.x.to_numpy(),((context-1,0),(0,0)),constant_values = 0)\n",
    "        self.y =self.y.to_numpy()\n",
    "        \n",
    "        \n",
    "        self.pad_id =torch.LongTensor(self.pad_id)\n",
    "        self.pad_x = torch.FloatTensor(self.pad_x)\n",
    "        self.y = torch.FloatTensor(self.y)\n",
    "        \n",
    "        print(f\"succesfully load data with shape x : {self.x.shape} | shape y :{self.y.shape} | get time data is: {get_time_data}\")\n",
    "        \n",
    "                \n",
    "            \n",
    "    def __getitem__(self,index):\n",
    "        context = self.context\n",
    "        return self.pad_id[index:index+context],self.pad_x[index:index+context],self.y[index]\n",
    "        \n",
    "    def __len__(self):\n",
    "        return self.x.shape[0]\n",
    "    \n",
    "    def GetSize(self):\n",
    "        if(get_time_data):\n",
    "            return self.time_size\n",
    "        else:\n",
    "            return self.id_size\n",
    "\n",
    "            \n",
    "            "
   ]
  },
  {
   "cell_type": "code",
   "execution_count": 7,
   "metadata": {},
   "outputs": [],
   "source": [
    "def LoadData(config, get_time_data = True):\n",
    "    trainSet =Ubiquant(path+targetpath,context = config[\"context\"], get_time_data = get_time_data)\n",
    "    valSet =Ubiquant(path+valpath, context = config[\"context\"], get_time_data = get_time_data)\n",
    "    testSet =Ubiquant(path+testpath, context = config[\"context\"], get_time_data = get_time_data)\n",
    "    trainLoader = DataLoader(trainSet,batch_size = config[\"batch_size\"],shuffle =True,drop_last=True)#,num_workers=2)\n",
    "    valLoader = DataLoader(valSet,batch_size = config[\"batch_size\"],shuffle =True,drop_last=True)#,num_workers=2)\n",
    "    testLoader = DataLoader(testSet,batch_size = config[\"batch_size\"],shuffle =False,drop_last=False)\n",
    "    return trainLoader,valLoader,testLoader"
   ]
  },
  {
   "cell_type": "code",
   "execution_count": 8,
   "metadata": {},
   "outputs": [],
   "source": [
    "class SimpleAttention(nn.Module):\n",
    "    def __init__(self,seq_len = 32, input_feature =311):\n",
    "        super(SimpleAttention,self).__init__() \n",
    "        \n",
    "        self.id_embedding = nn.Embedding(10000,12)\n",
    "        self.att = nn.MultiheadAttention(input_feature,8)\n",
    "        \n",
    "       \n",
    "        \n",
    "        self.flat = nn.Flatten()\n",
    "        self.MLP =nn.Sequential(\n",
    "            nn.Linear(input_feature*seq_len,512),\n",
    "            nn.BatchNorm1d(512),\n",
    "            nn.SiLU(),\n",
    "            nn.Dropout(0.4),\n",
    "            nn.Linear(512,256),\n",
    "            nn.BatchNorm1d(256),\n",
    "            nn.SiLU(),\n",
    "            nn.Dropout(0.4),\n",
    "            nn.Linear(256,128),\n",
    "            nn.BatchNorm1d(128),\n",
    "            nn.SiLU(),\n",
    "            nn.Dropout(0.4),\n",
    "            nn.Linear(128,8),\n",
    "     \n",
    "        )\n",
    "        self.FinalOutPut = nn.Sequential(\n",
    "            nn.BatchNorm1d(8),\n",
    "            nn.SiLU(),\n",
    "            nn.Dropout(0.4),\n",
    "            nn.Linear(8,1)\n",
    "        )\n",
    "        self.criterion = nn.MSELoss()\n",
    "        \n",
    "    def forward(self,_id, f_features , Get_fea = False):\n",
    "        invest_embedding = self.id_embedding(_id).squeeze(dim=2)\n",
    "        \n",
    "        _input =torch.cat((invest_embedding,f_features),axis =-1)\n",
    "        #print(_input.shape)\n",
    "        _input =_input.permute(1,0,2)\n",
    "        feature, _ = self.att(_input,_input,_input)\n",
    "        feature = feature.permute(1,0,2)\n",
    "        #print(output.shape)\n",
    "        feature = self.flat(feature)\n",
    "        #print(output.shape)\n",
    "        feature = self.MLP(feature)\n",
    "        output =  self.FinalOutPut(feature)\n",
    "        if(Get_fea):\n",
    "            return feature\n",
    "        else:\n",
    "            return output\n",
    "    \n",
    "    def cal_Loss(self,y_hat,y):\n",
    "        return self.criterion(y_hat,y)"
   ]
  },
  {
   "cell_type": "code",
   "execution_count": 9,
   "metadata": {},
   "outputs": [],
   "source": [
    "class DNN(nn.Module):\n",
    "    def __init__(self,seq_len = 32,input_feature = 312):\n",
    "        super(DNN,self).__init__()\n",
    "        \n",
    "        self.id_embedding = nn.Embedding(10000,12)\n",
    "        self.dnn = nn.Sequential(\n",
    "            nn.Conv1d(1,256,15,1,padding=7),\n",
    "            nn.BatchNorm1d(256),\n",
    "            nn.LeakyReLU(),\n",
    "            nn.Dropout(0.4),\n",
    "            nn.Conv1d(256,64,3,1,padding=1),\n",
    "            nn.BatchNorm1d(64),\n",
    "            nn.LeakyReLU(),\n",
    "            nn.Dropout(0.4),\n",
    "            nn.Conv1d(64,64,3,1,padding=1),\n",
    "            nn.BatchNorm1d(64),\n",
    "            nn.LeakyReLU(),\n",
    "            nn.Dropout(0.4),\n",
    "            nn.Conv1d(64,64,3,1,padding=1),\n",
    "            nn.BatchNorm1d(64),\n",
    "            nn.LeakyReLU(),\n",
    "            nn.Dropout(0.4),\n",
    "        )\n",
    "        \n",
    "        self.flat = nn.Flatten()\n",
    "        self.MLP =nn.Sequential(\n",
    "            nn.Linear(input_feature*64,64),\n",
    "            nn.BatchNorm1d(64),\n",
    "            nn.SiLU(),\n",
    "            nn.Dropout(0.4),\n",
    "            nn.Linear(64,128),\n",
    "            nn.BatchNorm1d(128),\n",
    "            nn.SiLU(),\n",
    "            nn.Dropout(0.4),\n",
    "            nn.Linear(128,256),\n",
    "            nn.BatchNorm1d(256),\n",
    "            nn.SiLU(),\n",
    "            nn.Dropout(0.4),\n",
    "            nn.Linear(256,512),\n",
    "            nn.BatchNorm1d(512),\n",
    "            nn.SiLU(),\n",
    "            nn.Dropout(0.4),\n",
    "            nn.Linear(512,256),\n",
    "            nn.BatchNorm1d(256),\n",
    "            nn.SiLU(),\n",
    "            nn.Dropout(0.4),\n",
    "            nn.Linear(256,128),\n",
    "            nn.BatchNorm1d(128),\n",
    "            nn.SiLU(),\n",
    "            nn.Dropout(0.4),\n",
    "            nn.Linear(128,8),\n",
    "            nn.BatchNorm1d(8),\n",
    "            nn.SiLU(),\n",
    "           \n",
    "        )\n",
    "        self.FinalOutPut = nn.Sequential(\n",
    "         \n",
    "            nn.Linear(8,1)\n",
    "        )\n",
    "        self.criterion = nn.MSELoss()\n",
    "        \n",
    "    def forward(self,_id,f_features ,Get_fea = False):\n",
    "        invest_embedding = self.id_embedding(_id).squeeze(dim=2)\n",
    "        \n",
    "        \n",
    "        _input =torch.cat((invest_embedding,f_features),axis =-1)\n",
    "        _input = self.dnn(_input)\n",
    "        _input = self.flat(_input)\n",
    "        feature = self.MLP(_input)\n",
    "        output= self.FinalOutPut(feature)\n",
    "        if(Get_fea):\n",
    "            return feature\n",
    "        else:\n",
    "            return output\n",
    "\n",
    "    def cal_Loss(self,y_hat,y):\n",
    "        return self.criterion(y_hat,y)"
   ]
  },
  {
   "cell_type": "code",
   "execution_count": 10,
   "metadata": {},
   "outputs": [],
   "source": [
    "class SimpleMLP(nn.Module):\n",
    "    def __init__(self,seq_len = 32,input_feature = 311):\n",
    "        super(SimpleMLP,self).__init__()\n",
    "        \n",
    "        self.id_embedding = nn.Embedding(10000,12)\n",
    "        self.flat = nn.Flatten()\n",
    "        self.MLP =nn.Sequential(\n",
    "            nn.Linear(input_feature*seq_len,64),\n",
    "            nn.BatchNorm1d(64),\n",
    "            nn.SiLU(),\n",
    "            nn.Dropout(0.4),\n",
    "            nn.Linear(64,128),\n",
    "            nn.BatchNorm1d(128),\n",
    "            nn.SiLU(),\n",
    "            nn.Dropout(0.4),\n",
    "            nn.Linear(128,256),\n",
    "            nn.BatchNorm1d(256),\n",
    "            nn.SiLU(),\n",
    "            nn.Dropout(0.4),\n",
    "            nn.Linear(256,512),\n",
    "            nn.BatchNorm1d(512),\n",
    "            nn.SiLU(),\n",
    "            nn.Dropout(0.4),\n",
    "            nn.Linear(512,256),\n",
    "            nn.BatchNorm1d(256),\n",
    "            nn.SiLU(),\n",
    "            nn.Dropout(0.4),\n",
    "            nn.Linear(256,128),\n",
    "            nn.BatchNorm1d(128),\n",
    "            nn.SiLU(),\n",
    "            nn.Dropout(0.4),\n",
    "            nn.Linear(128,8),\n",
    "            nn.BatchNorm1d(8),\n",
    "            nn.SiLU(),\n",
    "            \n",
    "        )\n",
    "        self.FinalOutPut = nn.Sequential(\n",
    "           \n",
    "            nn.Linear(8,1)\n",
    "        )\n",
    "        self.criterion = nn.MSELoss()\n",
    "        \n",
    "    def forward(self,_id,f_features, Get_fea=False ):\n",
    "        invest_embedding = self.id_embedding(_id).squeeze(dim=2)\n",
    "     \n",
    "        _input =torch.cat((invest_embedding,f_features),axis =-1)\n",
    "  \n",
    "        _input = self.flat(_input)\n",
    "        #print(_input.shape)\n",
    "        feature = self.MLP(_input)\n",
    "        output = self.FinalOutPut(feature)\n",
    "        if(Get_fea):\n",
    "            return feature\n",
    "        else:\n",
    "            return output\n",
    "\n",
    "    def cal_Loss(self,y_hat,y):\n",
    "        return self.criterion(y_hat,y)"
   ]
  },
  {
   "cell_type": "code",
   "execution_count": 11,
   "metadata": {},
   "outputs": [],
   "source": [
    "def get_corr(y,target):\n",
    "    y,target = y.reshape(-1),target.reshape(-1)\n",
    "    ymean,targetmean = torch.mean(y),torch.mean(target)\n",
    "    \n",
    "    vy = y-ymean\n",
    "    vt = target-targetmean\n",
    "    \n",
    "    corr = torch.sum(vy*vt)/(torch.sqrt(torch.sum(vy**2))* torch.sqrt(torch.sum(vt**2)))\n",
    "    return corr"
   ]
  },
  {
   "cell_type": "code",
   "execution_count": 12,
   "metadata": {},
   "outputs": [],
   "source": [
    "def train(model,trainLoader,valLoader, optimizer, scheduler, config):\n",
    "    best_loss =1000\n",
    "    epochs =config[\"epoch\"]\n",
    "    for epoch in range(epochs):\n",
    "        batch_bar = tqdm(total = len(trainLoader),dynamic_ncols = True,leave =False,position = 0,desc = \"train\")\n",
    "        model.train()\n",
    "        train_total_loss = 0\n",
    "        for i,(x1,x2,y) in enumerate(trainLoader):\n",
    "            optimizer.zero_grad()\n",
    "            x1,x2,y = x1.cuda(),x2.cuda(),y.cuda()\n",
    "            y_hat = model(x1,x2)\n",
    "            y_hat = y_hat.reshape(-1,1)\n",
    "            y =y.reshape(-1,1)\n",
    "            loss = model.cal_Loss(y_hat,y)\n",
    "            train_total_loss+=float(loss.cpu())\n",
    "            batch_bar.set_postfix(\n",
    "                loss=\"{:.04f}\".format(float(train_total_loss / (i + 1))),\n",
    "                lr=\"{:.04f}\".format(float(optimizer.param_groups[0]['lr'])))\n",
    "            loss.backward()\n",
    "            optimizer.step()\n",
    "            scheduler.step()\n",
    "            batch_bar.update()\n",
    "        batch_bar.close()\n",
    "        \n",
    "        val_total_loss = 0\n",
    "        val_total_corr = 0\n",
    "        batch_bar = tqdm(total = len(valLoader),dynamic_ncols = True,leave =False,position = 0,desc = \"val\")\n",
    "        model.eval()\n",
    "        for i,(x1,x2,y) in enumerate(valLoader):\n",
    "            with torch.no_grad():\n",
    "                x1,x2,y = x1.cuda(),x2.cuda(),y.cuda()\n",
    "                y_hat = model(x1,x2)\n",
    "                y_hat = y_hat.reshape(-1,1)\n",
    "                y =y.reshape(-1,1)\n",
    "                loss = model.cal_Loss(y_hat,y)\n",
    "                \n",
    "\n",
    "                corr = get_corr(y_hat,y)\n",
    "                val_total_corr+=corr\n",
    "               \n",
    "                val_total_loss+=loss\n",
    "            batch_bar.set_postfix(\n",
    "                loss=\"{:.04f}\".format(float(val_total_loss / (i + 1))),\n",
    "                \n",
    "                corr=\"{:.04f}\".format(float(val_total_corr / (i + 1))),\n",
    "             )\n",
    "            batch_bar.update()\n",
    "        batch_bar.close()\n",
    "        val_loss = float(val_total_loss/len(valLoader))\n",
    "        if(val_loss<best_loss):\n",
    "            best_loss = val_loss\n",
    "            torch.save(model.state_dict(),config[\"store_path\"])\n",
    "            print(\"successfully save model\")\n",
    "        \n",
    "        print(f\"Epoch {epoch+1}/{epochs}: train loss {float(train_total_loss / len(trainLoader)):0.04f}, Learning Rate {optimizer.param_groups[0]['lr']:0.04f}, val loss{float(val_total_loss/len(valLoader)):0.04f}, corr {float(val_total_corr / (i + 1)):0.04f}\")"
   ]
  },
  {
   "cell_type": "code",
   "execution_count": 13,
   "metadata": {},
   "outputs": [],
   "source": [
    "def test(model,testLoader,config):\n",
    "    model.load_state_dict(torch.load(config[\"store_path\"]))\n",
    "    model.eval()\n",
    "    test_total_loss = 0\n",
    "    test_total_corr = 0\n",
    "    batch_bar = tqdm(total = len(testLoader),dynamic_ncols = True,leave =False,position = 0,desc = \"Test\")\n",
    "    for i,(x1,x2,y) in enumerate(testLoader):\n",
    "        with torch.no_grad():\n",
    "            x1,x2,y = x1.cuda(),x2.cuda(),y.cuda()\n",
    "            y_hat = model(x1,x2)\n",
    "            y_hat = y_hat.reshape(-1,1)\n",
    "            y =y.reshape(-1,1)\n",
    "            loss = model.cal_Loss(y_hat,y)\n",
    "                \n",
    "\n",
    "            corr = get_corr(y_hat,y)\n",
    "            test_total_corr+=corr\n",
    "            test_total_loss+=loss\n",
    "        batch_bar.set_postfix(\n",
    "                test_loss=\"{:.04f}\".format(float(test_total_loss / (i + 1))),\n",
    "                \n",
    "                test_corr=\"{:.04f}\".format(float(test_total_corr / (i + 1))),\n",
    "             )\n",
    "        batch_bar.update()\n",
    "    batch_bar.close()\n",
    "    print(f\"test loss{float(test_total_loss/len(testLoader)):0.04f},test corr {float(test_total_corr / len(testLoader)):0.04f}\")"
   ]
  },
  {
   "cell_type": "code",
   "execution_count": 17,
   "metadata": {},
   "outputs": [
    {
     "name": "stdout",
     "output_type": "stream",
     "text": [
      "succesfully load data with shape x : (2198987, 300) | shape y :torch.Size([2198987]) | get time data is: True\n",
      "succesfully load data with shape x : (628282, 300) | shape y :torch.Size([628282]) | get time data is: True\n",
      "succesfully load data with shape x : (314141, 300) | shape y :torch.Size([314141]) | get time data is: True\n"
     ]
    }
   ],
   "source": [
    "trainLoader,valLoader,testLoader = LoadData(DNN_config,get_time_data = True)"
   ]
  },
  {
   "cell_type": "code",
   "execution_count": 18,
   "metadata": {},
   "outputs": [],
   "source": [
    "def Main(trainLoader,valLoader,testLoader):\n",
    "    #set all parameter\n",
    "   \n",
    "    model = SimpleAttention(Att_config[\"context\"],312).cuda()\n",
    "    model.train()\n",
    "    MLP_model = SimpleMLP(MLP_config[\"context\"],312).cuda()\n",
    "    MLP_model.train()\n",
    "    DNN_model = DNN(DNN_config[\"context\"],312).cuda()\n",
    "    DNN_model.train()\n",
    "    \n",
    "    optimizer = getattr(torch.optim,Att_config[\"optimz\"])(model.parameters(),lr =Att_config[\"learning_rate\"])\n",
    "    scheduler = torch.optim.lr_scheduler.CosineAnnealingLR(optimizer, T_max=(len(trainLoader) * Att_config[\"epoch\"]))\n",
    "    \n",
    "    \n",
    "    MLP_optimizer = getattr(torch.optim,MLP_config[\"optimz\"])(MLP_model.parameters(),lr =MLP_config[\"learning_rate\"])\n",
    "    MLP_scheduler = torch.optim.lr_scheduler.CosineAnnealingLR(MLP_optimizer, T_max=(len(trainLoader) * MLP_config[\"epoch\"]))\n",
    "    \n",
    "    DNN_optimizer = getattr(torch.optim,DNN_config[\"optimz\"])(DNN_model.parameters(),lr =DNN_config[\"learning_rate\"])\n",
    "    DNN_scheduler = torch.optim.lr_scheduler.CosineAnnealingLR(DNN_optimizer, T_max=(len(trainLoader) * DNN_config[\"epoch\"]))\n",
    "    #params\n",
    "    num_para =0\n",
    "    for p in DNN_model.parameters():\n",
    "        num_para+=p.numel()\n",
    "    print(f'Number of params : {num_para}')\n",
    "    print(\"///////////Start Train ATT Model//////////\")\n",
    "    train(model,trainLoader,valLoader,optimizer,scheduler,Att_config)\n",
    "    print(\"///////////Start Train MLP Model//////////\")\n",
    "    train(MLP_model,trainLoader,valLoader,MLP_optimizer,MLP_scheduler,MLP_config)\n",
    "    print(\"///////////Start Train DNN Model//////////\")\n",
    "    train(DNN_model,trainLoader,valLoader,DNN_optimizer,DNN_scheduler,DNN_config)\n",
    "    \n",
    "    print(\"//////////Start test///////////\")\n",
    "    print(\"----Attention-----\")\n",
    "    test(model,testLoader,Att_config)\n",
    "    print(\"---- MLP Model-----\")\n",
    "    test(MLP_model,testLoader,MLP_config)\n",
    "    print(\"----DNN Model-----\")\n",
    "    test(DNN_model,testLoader,DNN_config)\n",
    "    "
   ]
  },
  {
   "cell_type": "code",
   "execution_count": 14,
   "metadata": {},
   "outputs": [],
   "source": [
    "Att_config={\"epoch\" : 1,\"batch_size\":32768,\"learning_rate\":0.02,\"optimz\":\"Adam\",\"store_path\":\"/root/Ubiquant/Att.pth\",\"context\":1}"
   ]
  },
  {
   "cell_type": "code",
   "execution_count": 15,
   "metadata": {},
   "outputs": [],
   "source": [
    "MLP_config={\"epoch\" :50,\"batch_size\":32768,\"learning_rate\":0.02,\"optimz\":\"Adam\",\"store_path\":\"/root/Ubiquant/MLP.pth\",\"context\":1}"
   ]
  },
  {
   "cell_type": "code",
   "execution_count": 16,
   "metadata": {},
   "outputs": [],
   "source": [
    "DNN_config={\"epoch\" :50,\"batch_size\":10000,\"learning_rate\":0.02,\"optimz\":\"Adam\",\"store_path\":\"/root/Ubiquant/DNN.pth\",\"context\":1}"
   ]
  },
  {
   "cell_type": "code",
   "execution_count": 29,
   "metadata": {},
   "outputs": [
    {
     "name": "stderr",
     "output_type": "stream",
     "text": [
      "train:   0%|          | 0/219 [00:00<?, ?it/s]"
     ]
    },
    {
     "name": "stdout",
     "output_type": "stream",
     "text": [
      "Number of params : 1817825\n",
      "///////////Start Train ATT Model//////////\n"
     ]
    },
    {
     "name": "stderr",
     "output_type": "stream",
     "text": [
      "train:   0%|          | 0/219 [00:00<?, ?it/s]                                  "
     ]
    },
    {
     "name": "stdout",
     "output_type": "stream",
     "text": [
      "successfully save model\n",
      "Epoch 1/50: train loss 0.8418, Learning Rate 0.0200, val loss0.8361, corr 0.1077\n"
     ]
    },
    {
     "name": "stderr",
     "output_type": "stream",
     "text": [
      "train:   0%|          | 0/219 [00:00<?, ?it/s]                                  "
     ]
    },
    {
     "name": "stdout",
     "output_type": "stream",
     "text": [
      "successfully save model\n",
      "Epoch 2/50: train loss 0.8342, Learning Rate 0.0199, val loss0.8345, corr 0.1134\n"
     ]
    },
    {
     "name": "stderr",
     "output_type": "stream",
     "text": [
      "train:   0%|          | 0/219 [00:00<?, ?it/s]                                  "
     ]
    },
    {
     "name": "stdout",
     "output_type": "stream",
     "text": [
      "successfully save model\n",
      "Epoch 3/50: train loss 0.8315, Learning Rate 0.0198, val loss0.8335, corr 0.1173\n"
     ]
    },
    {
     "name": "stderr",
     "output_type": "stream",
     "text": [
      "train:   0%|          | 0/219 [00:00<?, ?it/s]                                  "
     ]
    },
    {
     "name": "stdout",
     "output_type": "stream",
     "text": [
      "Epoch 4/50: train loss 0.8298, Learning Rate 0.0197, val loss0.8342, corr 0.1141\n"
     ]
    },
    {
     "name": "stderr",
     "output_type": "stream",
     "text": [
      "train:   0%|          | 0/219 [00:00<?, ?it/s]                                  "
     ]
    },
    {
     "name": "stdout",
     "output_type": "stream",
     "text": [
      "Epoch 5/50: train loss 0.8279, Learning Rate 0.0195, val loss0.8356, corr 0.1123\n"
     ]
    },
    {
     "name": "stderr",
     "output_type": "stream",
     "text": [
      "train:   0%|          | 0/219 [00:00<?, ?it/s]                                  "
     ]
    },
    {
     "name": "stdout",
     "output_type": "stream",
     "text": [
      "Epoch 6/50: train loss 0.8268, Learning Rate 0.0193, val loss0.8373, corr 0.1104\n"
     ]
    },
    {
     "name": "stderr",
     "output_type": "stream",
     "text": [
      "train:   0%|          | 0/219 [00:00<?, ?it/s]                                  "
     ]
    },
    {
     "name": "stdout",
     "output_type": "stream",
     "text": [
      "Epoch 7/50: train loss 0.8250, Learning Rate 0.0190, val loss0.8356, corr 0.1132\n"
     ]
    },
    {
     "name": "stderr",
     "output_type": "stream",
     "text": [
      "train:   0%|          | 0/219 [00:00<?, ?it/s]                                  "
     ]
    },
    {
     "name": "stdout",
     "output_type": "stream",
     "text": [
      "Epoch 8/50: train loss 0.8240, Learning Rate 0.0188, val loss0.8402, corr 0.1108\n"
     ]
    },
    {
     "name": "stderr",
     "output_type": "stream",
     "text": [
      "train:   0%|          | 0/219 [00:00<?, ?it/s]                                  "
     ]
    },
    {
     "name": "stdout",
     "output_type": "stream",
     "text": [
      "Epoch 9/50: train loss 0.8231, Learning Rate 0.0184, val loss0.8385, corr 0.1081\n"
     ]
    },
    {
     "name": "stderr",
     "output_type": "stream",
     "text": [
      "train:   0%|          | 0/219 [00:00<?, ?it/s]                                  "
     ]
    },
    {
     "name": "stdout",
     "output_type": "stream",
     "text": [
      "Epoch 10/50: train loss 0.8220, Learning Rate 0.0181, val loss0.8406, corr 0.1052\n"
     ]
    },
    {
     "name": "stderr",
     "output_type": "stream",
     "text": [
      "train:   0%|          | 0/219 [00:00<?, ?it/s]                                  "
     ]
    },
    {
     "name": "stdout",
     "output_type": "stream",
     "text": [
      "Epoch 11/50: train loss 0.8209, Learning Rate 0.0177, val loss0.8437, corr 0.1020\n"
     ]
    },
    {
     "name": "stderr",
     "output_type": "stream",
     "text": [
      "train:   0%|          | 0/219 [00:00<?, ?it/s]                                  "
     ]
    },
    {
     "name": "stdout",
     "output_type": "stream",
     "text": [
      "Epoch 12/50: train loss 0.8202, Learning Rate 0.0173, val loss0.8406, corr 0.1089\n"
     ]
    },
    {
     "name": "stderr",
     "output_type": "stream",
     "text": [
      "train:   0%|          | 0/219 [00:00<?, ?it/s]                                  "
     ]
    },
    {
     "name": "stdout",
     "output_type": "stream",
     "text": [
      "Epoch 13/50: train loss 0.8195, Learning Rate 0.0168, val loss0.8467, corr 0.1025\n"
     ]
    },
    {
     "name": "stderr",
     "output_type": "stream",
     "text": [
      "train:   0%|          | 0/219 [00:00<?, ?it/s]                                  "
     ]
    },
    {
     "name": "stdout",
     "output_type": "stream",
     "text": [
      "Epoch 14/50: train loss 0.8188, Learning Rate 0.0164, val loss0.8451, corr 0.0903\n"
     ]
    },
    {
     "name": "stderr",
     "output_type": "stream",
     "text": [
      "train:   0%|          | 0/219 [00:00<?, ?it/s]                                  "
     ]
    },
    {
     "name": "stdout",
     "output_type": "stream",
     "text": [
      "Epoch 15/50: train loss 0.8177, Learning Rate 0.0159, val loss0.8470, corr 0.1053\n"
     ]
    },
    {
     "name": "stderr",
     "output_type": "stream",
     "text": [
      "train:   0%|          | 0/219 [00:00<?, ?it/s]                                  "
     ]
    },
    {
     "name": "stdout",
     "output_type": "stream",
     "text": [
      "Epoch 16/50: train loss 0.8172, Learning Rate 0.0154, val loss0.8437, corr 0.1026\n"
     ]
    },
    {
     "name": "stderr",
     "output_type": "stream",
     "text": [
      "train:   0%|          | 0/219 [00:00<?, ?it/s]                                  "
     ]
    },
    {
     "name": "stdout",
     "output_type": "stream",
     "text": [
      "Epoch 17/50: train loss 0.8160, Learning Rate 0.0148, val loss0.8449, corr 0.1033\n"
     ]
    },
    {
     "name": "stderr",
     "output_type": "stream",
     "text": [
      "train:   0%|          | 0/219 [00:00<?, ?it/s]                                  "
     ]
    },
    {
     "name": "stdout",
     "output_type": "stream",
     "text": [
      "Epoch 18/50: train loss 0.8154, Learning Rate 0.0143, val loss0.8547, corr 0.0951\n"
     ]
    },
    {
     "name": "stderr",
     "output_type": "stream",
     "text": [
      "train:   0%|          | 0/219 [00:00<?, ?it/s]                                  "
     ]
    },
    {
     "name": "stdout",
     "output_type": "stream",
     "text": [
      "Epoch 19/50: train loss 0.8146, Learning Rate 0.0137, val loss0.8469, corr 0.0984\n"
     ]
    },
    {
     "name": "stderr",
     "output_type": "stream",
     "text": [
      "train:   0%|          | 0/219 [00:00<?, ?it/s]                                  "
     ]
    },
    {
     "name": "stdout",
     "output_type": "stream",
     "text": [
      "Epoch 20/50: train loss 0.8140, Learning Rate 0.0131, val loss0.8484, corr 0.1026\n"
     ]
    },
    {
     "name": "stderr",
     "output_type": "stream",
     "text": [
      "train:   0%|          | 0/219 [00:00<?, ?it/s]                                  "
     ]
    },
    {
     "name": "stdout",
     "output_type": "stream",
     "text": [
      "Epoch 21/50: train loss 0.8128, Learning Rate 0.0125, val loss0.8479, corr 0.0991\n"
     ]
    },
    {
     "name": "stderr",
     "output_type": "stream",
     "text": [
      "train:   0%|          | 0/219 [00:00<?, ?it/s]                                  "
     ]
    },
    {
     "name": "stdout",
     "output_type": "stream",
     "text": [
      "Epoch 22/50: train loss 0.8125, Learning Rate 0.0119, val loss0.8467, corr 0.0998\n"
     ]
    },
    {
     "name": "stderr",
     "output_type": "stream",
     "text": [
      "train:   0%|          | 0/219 [00:00<?, ?it/s]                                  "
     ]
    },
    {
     "name": "stdout",
     "output_type": "stream",
     "text": [
      "Epoch 23/50: train loss 0.8116, Learning Rate 0.0113, val loss0.8519, corr 0.0985\n"
     ]
    },
    {
     "name": "stderr",
     "output_type": "stream",
     "text": [
      "train:   0%|          | 0/219 [00:00<?, ?it/s]                                  "
     ]
    },
    {
     "name": "stdout",
     "output_type": "stream",
     "text": [
      "Epoch 24/50: train loss 0.8109, Learning Rate 0.0106, val loss0.8548, corr 0.0948\n"
     ]
    },
    {
     "name": "stderr",
     "output_type": "stream",
     "text": [
      "train:   0%|          | 0/219 [00:00<?, ?it/s]                                  "
     ]
    },
    {
     "name": "stdout",
     "output_type": "stream",
     "text": [
      "Epoch 25/50: train loss 0.8101, Learning Rate 0.0100, val loss0.8489, corr 0.0930\n"
     ]
    },
    {
     "name": "stderr",
     "output_type": "stream",
     "text": [
      "train:   0%|          | 0/219 [00:00<?, ?it/s]                                  "
     ]
    },
    {
     "name": "stdout",
     "output_type": "stream",
     "text": [
      "Epoch 26/50: train loss 0.8095, Learning Rate 0.0094, val loss0.8539, corr 0.0956\n"
     ]
    },
    {
     "name": "stderr",
     "output_type": "stream",
     "text": [
      "train:   0%|          | 0/219 [00:00<?, ?it/s]                                  "
     ]
    },
    {
     "name": "stdout",
     "output_type": "stream",
     "text": [
      "Epoch 27/50: train loss 0.8082, Learning Rate 0.0087, val loss0.8564, corr 0.0890\n"
     ]
    },
    {
     "name": "stderr",
     "output_type": "stream",
     "text": [
      "train:   0%|          | 0/219 [00:00<?, ?it/s]                                  "
     ]
    },
    {
     "name": "stdout",
     "output_type": "stream",
     "text": [
      "Epoch 28/50: train loss 0.8075, Learning Rate 0.0081, val loss0.8536, corr 0.0907\n"
     ]
    },
    {
     "name": "stderr",
     "output_type": "stream",
     "text": [
      "train:   0%|          | 0/219 [00:00<?, ?it/s]                                  "
     ]
    },
    {
     "name": "stdout",
     "output_type": "stream",
     "text": [
      "Epoch 29/50: train loss 0.8066, Learning Rate 0.0075, val loss0.8611, corr 0.0887\n"
     ]
    },
    {
     "name": "stderr",
     "output_type": "stream",
     "text": [
      "train:   0%|          | 0/219 [00:00<?, ?it/s]                                  "
     ]
    },
    {
     "name": "stdout",
     "output_type": "stream",
     "text": [
      "Epoch 30/50: train loss 0.8058, Learning Rate 0.0069, val loss0.8584, corr 0.0902\n"
     ]
    },
    {
     "name": "stderr",
     "output_type": "stream",
     "text": [
      "train:   0%|          | 0/219 [00:00<?, ?it/s]                                  "
     ]
    },
    {
     "name": "stdout",
     "output_type": "stream",
     "text": [
      "Epoch 31/50: train loss 0.8053, Learning Rate 0.0063, val loss0.8584, corr 0.0910\n"
     ]
    },
    {
     "name": "stderr",
     "output_type": "stream",
     "text": [
      "train:   0%|          | 0/219 [00:00<?, ?it/s]                                  "
     ]
    },
    {
     "name": "stdout",
     "output_type": "stream",
     "text": [
      "Epoch 32/50: train loss 0.8044, Learning Rate 0.0057, val loss0.8611, corr 0.0888\n"
     ]
    },
    {
     "name": "stderr",
     "output_type": "stream",
     "text": [
      "train:   0%|          | 0/219 [00:00<?, ?it/s]                                  "
     ]
    },
    {
     "name": "stdout",
     "output_type": "stream",
     "text": [
      "Epoch 33/50: train loss 0.8040, Learning Rate 0.0052, val loss0.8582, corr 0.0878\n"
     ]
    },
    {
     "name": "stderr",
     "output_type": "stream",
     "text": [
      "train:   0%|          | 0/219 [00:00<?, ?it/s]                                  "
     ]
    },
    {
     "name": "stdout",
     "output_type": "stream",
     "text": [
      "Epoch 34/50: train loss 0.8032, Learning Rate 0.0046, val loss0.8577, corr 0.0880\n"
     ]
    },
    {
     "name": "stderr",
     "output_type": "stream",
     "text": [
      "train:   0%|          | 0/219 [00:00<?, ?it/s]                                  "
     ]
    },
    {
     "name": "stdout",
     "output_type": "stream",
     "text": [
      "Epoch 35/50: train loss 0.8025, Learning Rate 0.0041, val loss0.8613, corr 0.0892\n"
     ]
    },
    {
     "name": "stderr",
     "output_type": "stream",
     "text": [
      "train:   0%|          | 0/219 [00:00<?, ?it/s]                                  "
     ]
    },
    {
     "name": "stdout",
     "output_type": "stream",
     "text": [
      "Epoch 36/50: train loss 0.8017, Learning Rate 0.0036, val loss0.8594, corr 0.0887\n"
     ]
    },
    {
     "name": "stderr",
     "output_type": "stream",
     "text": [
      "train:   0%|          | 0/219 [00:00<?, ?it/s]                                  "
     ]
    },
    {
     "name": "stdout",
     "output_type": "stream",
     "text": [
      "Epoch 37/50: train loss 0.8009, Learning Rate 0.0032, val loss0.8632, corr 0.0869\n"
     ]
    },
    {
     "name": "stderr",
     "output_type": "stream",
     "text": [
      "train:   0%|          | 0/219 [00:00<?, ?it/s]                                  "
     ]
    },
    {
     "name": "stdout",
     "output_type": "stream",
     "text": [
      "Epoch 38/50: train loss 0.8007, Learning Rate 0.0027, val loss0.8632, corr 0.0875\n"
     ]
    },
    {
     "name": "stderr",
     "output_type": "stream",
     "text": [
      "train:   0%|          | 0/219 [00:00<?, ?it/s]                                  "
     ]
    },
    {
     "name": "stdout",
     "output_type": "stream",
     "text": [
      "Epoch 39/50: train loss 0.7999, Learning Rate 0.0023, val loss0.8609, corr 0.0859\n"
     ]
    },
    {
     "name": "stderr",
     "output_type": "stream",
     "text": [
      "train:   0%|          | 0/219 [00:00<?, ?it/s]                                  "
     ]
    },
    {
     "name": "stdout",
     "output_type": "stream",
     "text": [
      "Epoch 40/50: train loss 0.7989, Learning Rate 0.0019, val loss0.8616, corr 0.0855\n"
     ]
    },
    {
     "name": "stderr",
     "output_type": "stream",
     "text": [
      "train:   0%|          | 0/219 [00:00<?, ?it/s]                                  "
     ]
    },
    {
     "name": "stdout",
     "output_type": "stream",
     "text": [
      "Epoch 41/50: train loss 0.7985, Learning Rate 0.0016, val loss0.8649, corr 0.0842\n"
     ]
    },
    {
     "name": "stderr",
     "output_type": "stream",
     "text": [
      "train:   0%|          | 0/219 [00:00<?, ?it/s]                                  "
     ]
    },
    {
     "name": "stdout",
     "output_type": "stream",
     "text": [
      "Epoch 42/50: train loss 0.7981, Learning Rate 0.0012, val loss0.8671, corr 0.0856\n"
     ]
    },
    {
     "name": "stderr",
     "output_type": "stream",
     "text": [
      "train:   0%|          | 0/219 [00:00<?, ?it/s]                                  "
     ]
    },
    {
     "name": "stdout",
     "output_type": "stream",
     "text": [
      "Epoch 43/50: train loss 0.7979, Learning Rate 0.0010, val loss0.8665, corr 0.0834\n"
     ]
    },
    {
     "name": "stderr",
     "output_type": "stream",
     "text": [
      "train:   0%|          | 0/219 [00:00<?, ?it/s]                                  "
     ]
    },
    {
     "name": "stdout",
     "output_type": "stream",
     "text": [
      "Epoch 44/50: train loss 0.7971, Learning Rate 0.0007, val loss0.8652, corr 0.0851\n"
     ]
    },
    {
     "name": "stderr",
     "output_type": "stream",
     "text": [
      "train:   0%|          | 0/219 [00:00<?, ?it/s]                                  "
     ]
    },
    {
     "name": "stdout",
     "output_type": "stream",
     "text": [
      "Epoch 45/50: train loss 0.7974, Learning Rate 0.0005, val loss0.8648, corr 0.0851\n"
     ]
    },
    {
     "name": "stderr",
     "output_type": "stream",
     "text": [
      "train:   0%|          | 0/219 [00:00<?, ?it/s]                                  "
     ]
    },
    {
     "name": "stdout",
     "output_type": "stream",
     "text": [
      "Epoch 46/50: train loss 0.7966, Learning Rate 0.0003, val loss0.8655, corr 0.0851\n"
     ]
    },
    {
     "name": "stderr",
     "output_type": "stream",
     "text": [
      "train:   0%|          | 0/219 [00:00<?, ?it/s]                                  "
     ]
    },
    {
     "name": "stdout",
     "output_type": "stream",
     "text": [
      "Epoch 47/50: train loss 0.7970, Learning Rate 0.0002, val loss0.8656, corr 0.0846\n"
     ]
    },
    {
     "name": "stderr",
     "output_type": "stream",
     "text": [
      "train:   0%|          | 0/219 [00:00<?, ?it/s]                                  "
     ]
    },
    {
     "name": "stdout",
     "output_type": "stream",
     "text": [
      "Epoch 48/50: train loss 0.7966, Learning Rate 0.0001, val loss0.8673, corr 0.0840\n"
     ]
    },
    {
     "name": "stderr",
     "output_type": "stream",
     "text": [
      "train:   0%|          | 0/219 [00:00<?, ?it/s]                                  "
     ]
    },
    {
     "name": "stdout",
     "output_type": "stream",
     "text": [
      "Epoch 49/50: train loss 0.7962, Learning Rate 0.0000, val loss0.8677, corr 0.0838\n"
     ]
    },
    {
     "name": "stderr",
     "output_type": "stream",
     "text": [
      "train:   0%|          | 0/219 [00:00<?, ?it/s]                                  "
     ]
    },
    {
     "name": "stdout",
     "output_type": "stream",
     "text": [
      "Epoch 50/50: train loss 0.7965, Learning Rate 0.0000, val loss0.8671, corr 0.0844\n",
      "///////////Start Train MLP Model//////////\n"
     ]
    },
    {
     "name": "stderr",
     "output_type": "stream",
     "text": [
      "train:   0%|          | 0/219 [00:00<?, ?it/s]                                  "
     ]
    },
    {
     "name": "stdout",
     "output_type": "stream",
     "text": [
      "successfully save model\n",
      "Epoch 1/50: train loss 0.8397, Learning Rate 0.0200, val loss0.8340, corr 0.1149\n"
     ]
    },
    {
     "name": "stderr",
     "output_type": "stream",
     "text": [
      "train:   0%|          | 0/219 [00:00<?, ?it/s]                                  "
     ]
    },
    {
     "name": "stdout",
     "output_type": "stream",
     "text": [
      "successfully save model\n",
      "Epoch 2/50: train loss 0.8322, Learning Rate 0.0199, val loss0.8318, corr 0.1237\n"
     ]
    },
    {
     "name": "stderr",
     "output_type": "stream",
     "text": [
      "train:   0%|          | 0/219 [00:00<?, ?it/s]                                  "
     ]
    },
    {
     "name": "stdout",
     "output_type": "stream",
     "text": [
      "Epoch 3/50: train loss 0.8295, Learning Rate 0.0198, val loss0.8334, corr 0.1203\n"
     ]
    },
    {
     "name": "stderr",
     "output_type": "stream",
     "text": [
      "train:   0%|          | 0/219 [00:00<?, ?it/s]                                  "
     ]
    },
    {
     "name": "stdout",
     "output_type": "stream",
     "text": [
      "Epoch 4/50: train loss 0.8276, Learning Rate 0.0197, val loss0.8326, corr 0.1242\n"
     ]
    },
    {
     "name": "stderr",
     "output_type": "stream",
     "text": [
      "train:   0%|          | 0/219 [00:00<?, ?it/s]                                  "
     ]
    },
    {
     "name": "stdout",
     "output_type": "stream",
     "text": [
      "Epoch 5/50: train loss 0.8255, Learning Rate 0.0195, val loss0.8349, corr 0.1185\n"
     ]
    },
    {
     "name": "stderr",
     "output_type": "stream",
     "text": [
      "train:   0%|          | 0/219 [00:00<?, ?it/s]                                  "
     ]
    },
    {
     "name": "stdout",
     "output_type": "stream",
     "text": [
      "Epoch 6/50: train loss 0.8240, Learning Rate 0.0193, val loss0.8365, corr 0.1168\n"
     ]
    },
    {
     "name": "stderr",
     "output_type": "stream",
     "text": [
      "train:   0%|          | 0/219 [00:00<?, ?it/s]                                  "
     ]
    },
    {
     "name": "stdout",
     "output_type": "stream",
     "text": [
      "Epoch 7/50: train loss 0.8218, Learning Rate 0.0190, val loss0.8352, corr 0.1177\n"
     ]
    },
    {
     "name": "stderr",
     "output_type": "stream",
     "text": [
      "train:   0%|          | 0/219 [00:00<?, ?it/s]                                  "
     ]
    },
    {
     "name": "stdout",
     "output_type": "stream",
     "text": [
      "Epoch 8/50: train loss 0.8205, Learning Rate 0.0188, val loss0.8369, corr 0.1168\n"
     ]
    },
    {
     "name": "stderr",
     "output_type": "stream",
     "text": [
      "train:   0%|          | 0/219 [00:00<?, ?it/s]                                  "
     ]
    },
    {
     "name": "stdout",
     "output_type": "stream",
     "text": [
      "Epoch 9/50: train loss 0.8188, Learning Rate 0.0184, val loss0.8371, corr 0.1157\n"
     ]
    },
    {
     "name": "stderr",
     "output_type": "stream",
     "text": [
      "train:   0%|          | 0/219 [00:00<?, ?it/s]                                  "
     ]
    },
    {
     "name": "stdout",
     "output_type": "stream",
     "text": [
      "Epoch 10/50: train loss 0.8177, Learning Rate 0.0181, val loss0.8395, corr 0.1148\n"
     ]
    },
    {
     "name": "stderr",
     "output_type": "stream",
     "text": [
      "train:   0%|          | 0/219 [00:00<?, ?it/s]                                  "
     ]
    },
    {
     "name": "stdout",
     "output_type": "stream",
     "text": [
      "Epoch 11/50: train loss 0.8160, Learning Rate 0.0177, val loss0.8388, corr 0.1138\n"
     ]
    },
    {
     "name": "stderr",
     "output_type": "stream",
     "text": [
      "train:   0%|          | 0/219 [00:00<?, ?it/s]                                  "
     ]
    },
    {
     "name": "stdout",
     "output_type": "stream",
     "text": [
      "Epoch 12/50: train loss 0.8147, Learning Rate 0.0173, val loss0.8393, corr 0.1133\n"
     ]
    },
    {
     "name": "stderr",
     "output_type": "stream",
     "text": [
      "train:   0%|          | 0/219 [00:00<?, ?it/s]                                  "
     ]
    },
    {
     "name": "stdout",
     "output_type": "stream",
     "text": [
      "Epoch 13/50: train loss 0.8135, Learning Rate 0.0168, val loss0.8388, corr 0.1146\n"
     ]
    },
    {
     "name": "stderr",
     "output_type": "stream",
     "text": [
      "train:   0%|          | 0/219 [00:00<?, ?it/s]                                  "
     ]
    },
    {
     "name": "stdout",
     "output_type": "stream",
     "text": [
      "Epoch 14/50: train loss 0.8125, Learning Rate 0.0164, val loss0.8427, corr 0.1124\n"
     ]
    },
    {
     "name": "stderr",
     "output_type": "stream",
     "text": [
      "train:   0%|          | 0/219 [00:00<?, ?it/s]                                  "
     ]
    },
    {
     "name": "stdout",
     "output_type": "stream",
     "text": [
      "Epoch 15/50: train loss 0.8113, Learning Rate 0.0159, val loss0.8431, corr 0.1076\n"
     ]
    },
    {
     "name": "stderr",
     "output_type": "stream",
     "text": [
      "train:   0%|          | 0/219 [00:00<?, ?it/s]                                  "
     ]
    },
    {
     "name": "stdout",
     "output_type": "stream",
     "text": [
      "Epoch 16/50: train loss 0.8104, Learning Rate 0.0154, val loss0.8434, corr 0.1067\n"
     ]
    },
    {
     "name": "stderr",
     "output_type": "stream",
     "text": [
      "train:   0%|          | 0/219 [00:00<?, ?it/s]                                  "
     ]
    },
    {
     "name": "stdout",
     "output_type": "stream",
     "text": [
      "Epoch 17/50: train loss 0.8096, Learning Rate 0.0148, val loss0.8465, corr 0.1094\n"
     ]
    },
    {
     "name": "stderr",
     "output_type": "stream",
     "text": [
      "train:   0%|          | 0/219 [00:00<?, ?it/s]                                  "
     ]
    },
    {
     "name": "stdout",
     "output_type": "stream",
     "text": [
      "Epoch 18/50: train loss 0.8083, Learning Rate 0.0143, val loss0.8492, corr 0.1059\n"
     ]
    },
    {
     "name": "stderr",
     "output_type": "stream",
     "text": [
      "train:   0%|          | 0/219 [00:00<?, ?it/s]                                  "
     ]
    },
    {
     "name": "stdout",
     "output_type": "stream",
     "text": [
      "Epoch 19/50: train loss 0.8072, Learning Rate 0.0137, val loss0.8456, corr 0.1068\n"
     ]
    },
    {
     "name": "stderr",
     "output_type": "stream",
     "text": [
      "train:   0%|          | 0/219 [00:00<?, ?it/s]                                  "
     ]
    },
    {
     "name": "stdout",
     "output_type": "stream",
     "text": [
      "Epoch 20/50: train loss 0.8065, Learning Rate 0.0131, val loss0.8487, corr 0.1008\n"
     ]
    },
    {
     "name": "stderr",
     "output_type": "stream",
     "text": [
      "train:   0%|          | 0/219 [00:00<?, ?it/s]                                  "
     ]
    },
    {
     "name": "stdout",
     "output_type": "stream",
     "text": [
      "Epoch 21/50: train loss 0.8057, Learning Rate 0.0125, val loss0.8460, corr 0.1042\n"
     ]
    },
    {
     "name": "stderr",
     "output_type": "stream",
     "text": [
      "train:   0%|          | 0/219 [00:00<?, ?it/s]                                  "
     ]
    },
    {
     "name": "stdout",
     "output_type": "stream",
     "text": [
      "Epoch 22/50: train loss 0.8047, Learning Rate 0.0119, val loss0.8464, corr 0.1016\n"
     ]
    },
    {
     "name": "stderr",
     "output_type": "stream",
     "text": [
      "train:   0%|          | 0/219 [00:00<?, ?it/s]                                  "
     ]
    },
    {
     "name": "stdout",
     "output_type": "stream",
     "text": [
      "Epoch 23/50: train loss 0.8035, Learning Rate 0.0113, val loss0.8500, corr 0.1022\n"
     ]
    },
    {
     "name": "stderr",
     "output_type": "stream",
     "text": [
      "train:   0%|          | 0/219 [00:00<?, ?it/s]                                  "
     ]
    },
    {
     "name": "stdout",
     "output_type": "stream",
     "text": [
      "Epoch 24/50: train loss 0.8029, Learning Rate 0.0106, val loss0.8465, corr 0.1040\n"
     ]
    },
    {
     "name": "stderr",
     "output_type": "stream",
     "text": [
      "train:   0%|          | 0/219 [00:00<?, ?it/s]                                  "
     ]
    },
    {
     "name": "stdout",
     "output_type": "stream",
     "text": [
      "Epoch 25/50: train loss 0.8021, Learning Rate 0.0100, val loss0.8489, corr 0.1012\n"
     ]
    },
    {
     "name": "stderr",
     "output_type": "stream",
     "text": [
      "train:   0%|          | 0/219 [00:00<?, ?it/s]                                  "
     ]
    },
    {
     "name": "stdout",
     "output_type": "stream",
     "text": [
      "Epoch 26/50: train loss 0.8013, Learning Rate 0.0094, val loss0.8482, corr 0.1031\n"
     ]
    },
    {
     "name": "stderr",
     "output_type": "stream",
     "text": [
      "train:   0%|          | 0/219 [00:00<?, ?it/s]                                  "
     ]
    },
    {
     "name": "stdout",
     "output_type": "stream",
     "text": [
      "Epoch 27/50: train loss 0.8000, Learning Rate 0.0087, val loss0.8483, corr 0.1030\n"
     ]
    },
    {
     "name": "stderr",
     "output_type": "stream",
     "text": [
      "train:   0%|          | 0/219 [00:00<?, ?it/s]                                  "
     ]
    },
    {
     "name": "stdout",
     "output_type": "stream",
     "text": [
      "Epoch 28/50: train loss 0.7999, Learning Rate 0.0081, val loss0.8499, corr 0.1009\n"
     ]
    },
    {
     "name": "stderr",
     "output_type": "stream",
     "text": [
      "train:   0%|          | 0/219 [00:00<?, ?it/s]                                  "
     ]
    },
    {
     "name": "stdout",
     "output_type": "stream",
     "text": [
      "Epoch 29/50: train loss 0.7993, Learning Rate 0.0075, val loss0.8494, corr 0.1004\n"
     ]
    },
    {
     "name": "stderr",
     "output_type": "stream",
     "text": [
      "train:   0%|          | 0/219 [00:00<?, ?it/s]                                  "
     ]
    },
    {
     "name": "stdout",
     "output_type": "stream",
     "text": [
      "Epoch 30/50: train loss 0.7985, Learning Rate 0.0069, val loss0.8522, corr 0.1001\n"
     ]
    },
    {
     "name": "stderr",
     "output_type": "stream",
     "text": [
      "train:   0%|          | 0/219 [00:00<?, ?it/s]                                  "
     ]
    },
    {
     "name": "stdout",
     "output_type": "stream",
     "text": [
      "Epoch 31/50: train loss 0.7976, Learning Rate 0.0063, val loss0.8509, corr 0.0992\n"
     ]
    },
    {
     "name": "stderr",
     "output_type": "stream",
     "text": [
      "train:   0%|          | 0/219 [00:00<?, ?it/s]                                  "
     ]
    },
    {
     "name": "stdout",
     "output_type": "stream",
     "text": [
      "Epoch 32/50: train loss 0.7971, Learning Rate 0.0057, val loss0.8522, corr 0.1006\n"
     ]
    },
    {
     "name": "stderr",
     "output_type": "stream",
     "text": [
      "train:   0%|          | 0/219 [00:00<?, ?it/s]                                  "
     ]
    },
    {
     "name": "stdout",
     "output_type": "stream",
     "text": [
      "Epoch 33/50: train loss 0.7963, Learning Rate 0.0052, val loss0.8519, corr 0.0979\n"
     ]
    },
    {
     "name": "stderr",
     "output_type": "stream",
     "text": [
      "train:   0%|          | 0/219 [00:00<?, ?it/s]                                  "
     ]
    },
    {
     "name": "stdout",
     "output_type": "stream",
     "text": [
      "Epoch 34/50: train loss 0.7955, Learning Rate 0.0046, val loss0.8539, corr 0.0985\n"
     ]
    },
    {
     "name": "stderr",
     "output_type": "stream",
     "text": [
      "train:   0%|          | 0/219 [00:00<?, ?it/s]                                  "
     ]
    },
    {
     "name": "stdout",
     "output_type": "stream",
     "text": [
      "Epoch 35/50: train loss 0.7955, Learning Rate 0.0041, val loss0.8512, corr 0.0971\n"
     ]
    },
    {
     "name": "stderr",
     "output_type": "stream",
     "text": [
      "train:   0%|          | 0/219 [00:00<?, ?it/s]                                  "
     ]
    },
    {
     "name": "stdout",
     "output_type": "stream",
     "text": [
      "Epoch 36/50: train loss 0.7952, Learning Rate 0.0036, val loss0.8523, corr 0.0976\n"
     ]
    },
    {
     "name": "stderr",
     "output_type": "stream",
     "text": [
      "train:   0%|          | 0/219 [00:00<?, ?it/s]                                  "
     ]
    },
    {
     "name": "stdout",
     "output_type": "stream",
     "text": [
      "Epoch 37/50: train loss 0.7942, Learning Rate 0.0032, val loss0.8551, corr 0.0974\n"
     ]
    },
    {
     "name": "stderr",
     "output_type": "stream",
     "text": [
      "train:   0%|          | 0/219 [00:00<?, ?it/s]                                  "
     ]
    },
    {
     "name": "stdout",
     "output_type": "stream",
     "text": [
      "Epoch 38/50: train loss 0.7936, Learning Rate 0.0027, val loss0.8552, corr 0.0966\n"
     ]
    },
    {
     "name": "stderr",
     "output_type": "stream",
     "text": [
      "train:   0%|          | 0/219 [00:00<?, ?it/s]                                  "
     ]
    },
    {
     "name": "stdout",
     "output_type": "stream",
     "text": [
      "Epoch 39/50: train loss 0.7934, Learning Rate 0.0023, val loss0.8529, corr 0.0979\n"
     ]
    },
    {
     "name": "stderr",
     "output_type": "stream",
     "text": [
      "train:   0%|          | 0/219 [00:00<?, ?it/s]                                  "
     ]
    },
    {
     "name": "stdout",
     "output_type": "stream",
     "text": [
      "Epoch 40/50: train loss 0.7930, Learning Rate 0.0019, val loss0.8542, corr 0.0970\n"
     ]
    },
    {
     "name": "stderr",
     "output_type": "stream",
     "text": [
      "train:   0%|          | 0/219 [00:00<?, ?it/s]                                  "
     ]
    },
    {
     "name": "stdout",
     "output_type": "stream",
     "text": [
      "Epoch 41/50: train loss 0.7926, Learning Rate 0.0016, val loss0.8552, corr 0.0968\n"
     ]
    },
    {
     "name": "stderr",
     "output_type": "stream",
     "text": [
      "train:   0%|          | 0/219 [00:00<?, ?it/s]                                  "
     ]
    },
    {
     "name": "stdout",
     "output_type": "stream",
     "text": [
      "Epoch 42/50: train loss 0.7921, Learning Rate 0.0012, val loss0.8566, corr 0.0970\n"
     ]
    },
    {
     "name": "stderr",
     "output_type": "stream",
     "text": [
      "train:   0%|          | 0/219 [00:00<?, ?it/s]                                  "
     ]
    },
    {
     "name": "stdout",
     "output_type": "stream",
     "text": [
      "Epoch 43/50: train loss 0.7921, Learning Rate 0.0010, val loss0.8552, corr 0.0975\n"
     ]
    },
    {
     "name": "stderr",
     "output_type": "stream",
     "text": [
      "train:   0%|          | 0/219 [00:00<?, ?it/s]                                  "
     ]
    },
    {
     "name": "stdout",
     "output_type": "stream",
     "text": [
      "Epoch 44/50: train loss 0.7917, Learning Rate 0.0007, val loss0.8557, corr 0.0964\n"
     ]
    },
    {
     "name": "stderr",
     "output_type": "stream",
     "text": [
      "train:   0%|          | 0/219 [00:00<?, ?it/s]                                  "
     ]
    },
    {
     "name": "stdout",
     "output_type": "stream",
     "text": [
      "Epoch 45/50: train loss 0.7916, Learning Rate 0.0005, val loss0.8563, corr 0.0965\n"
     ]
    },
    {
     "name": "stderr",
     "output_type": "stream",
     "text": [
      "train:   0%|          | 0/219 [00:00<?, ?it/s]                                  "
     ]
    },
    {
     "name": "stdout",
     "output_type": "stream",
     "text": [
      "Epoch 46/50: train loss 0.7913, Learning Rate 0.0003, val loss0.8559, corr 0.0966\n"
     ]
    },
    {
     "name": "stderr",
     "output_type": "stream",
     "text": [
      "train:   0%|          | 0/219 [00:00<?, ?it/s]                                  "
     ]
    },
    {
     "name": "stdout",
     "output_type": "stream",
     "text": [
      "Epoch 47/50: train loss 0.7913, Learning Rate 0.0002, val loss0.8556, corr 0.0969\n"
     ]
    },
    {
     "name": "stderr",
     "output_type": "stream",
     "text": [
      "train:   0%|          | 0/219 [00:00<?, ?it/s]                                  "
     ]
    },
    {
     "name": "stdout",
     "output_type": "stream",
     "text": [
      "Epoch 48/50: train loss 0.7911, Learning Rate 0.0001, val loss0.8562, corr 0.0965\n"
     ]
    },
    {
     "name": "stderr",
     "output_type": "stream",
     "text": [
      "train:   0%|          | 0/219 [00:00<?, ?it/s]                                  "
     ]
    },
    {
     "name": "stdout",
     "output_type": "stream",
     "text": [
      "Epoch 49/50: train loss 0.7910, Learning Rate 0.0000, val loss0.8570, corr 0.0965\n"
     ]
    },
    {
     "name": "stderr",
     "output_type": "stream",
     "text": [
      "train:   0%|          | 0/219 [00:00<?, ?it/s]                                  "
     ]
    },
    {
     "name": "stdout",
     "output_type": "stream",
     "text": [
      "Epoch 50/50: train loss 0.7912, Learning Rate 0.0000, val loss0.8562, corr 0.0965\n",
      "///////////Start Train DNN Model//////////\n"
     ]
    },
    {
     "name": "stderr",
     "output_type": "stream",
     "text": [
      "train:   0%|          | 0/219 [00:00<?, ?it/s]                                  "
     ]
    },
    {
     "name": "stdout",
     "output_type": "stream",
     "text": [
      "successfully save model\n",
      "Epoch 1/50: train loss 0.8451, Learning Rate 0.0200, val loss0.8350, corr 0.1102\n"
     ]
    },
    {
     "name": "stderr",
     "output_type": "stream",
     "text": [
      "train:   0%|          | 0/219 [00:00<?, ?it/s]                                  "
     ]
    },
    {
     "name": "stdout",
     "output_type": "stream",
     "text": [
      "successfully save model\n",
      "Epoch 2/50: train loss 0.8356, Learning Rate 0.0199, val loss0.8332, corr 0.1176\n"
     ]
    },
    {
     "name": "stderr",
     "output_type": "stream",
     "text": [
      "train:   0%|          | 0/219 [00:00<?, ?it/s]                                  "
     ]
    },
    {
     "name": "stdout",
     "output_type": "stream",
     "text": [
      "successfully save model\n",
      "Epoch 3/50: train loss 0.8327, Learning Rate 0.0198, val loss0.8323, corr 0.1224\n"
     ]
    },
    {
     "name": "stderr",
     "output_type": "stream",
     "text": [
      "train:   0%|          | 0/219 [00:00<?, ?it/s]                                  "
     ]
    },
    {
     "name": "stdout",
     "output_type": "stream",
     "text": [
      "successfully save model\n",
      "Epoch 4/50: train loss 0.8303, Learning Rate 0.0197, val loss0.8312, corr 0.1251\n"
     ]
    },
    {
     "name": "stderr",
     "output_type": "stream",
     "text": [
      "train:   0%|          | 0/219 [00:00<?, ?it/s]                                  "
     ]
    },
    {
     "name": "stdout",
     "output_type": "stream",
     "text": [
      "Epoch 5/50: train loss 0.8282, Learning Rate 0.0195, val loss0.8315, corr 0.1243\n"
     ]
    },
    {
     "name": "stderr",
     "output_type": "stream",
     "text": [
      "train:   0%|          | 0/219 [00:00<?, ?it/s]                                  "
     ]
    },
    {
     "name": "stdout",
     "output_type": "stream",
     "text": [
      "successfully save model\n",
      "Epoch 6/50: train loss 0.8267, Learning Rate 0.0193, val loss0.8297, corr 0.1310\n"
     ]
    },
    {
     "name": "stderr",
     "output_type": "stream",
     "text": [
      "train:   0%|          | 0/219 [00:00<?, ?it/s]                                  "
     ]
    },
    {
     "name": "stdout",
     "output_type": "stream",
     "text": [
      "Epoch 7/50: train loss 0.8250, Learning Rate 0.0190, val loss0.8325, corr 0.1281\n"
     ]
    },
    {
     "name": "stderr",
     "output_type": "stream",
     "text": [
      "train:   0%|          | 0/219 [00:00<?, ?it/s]                                  "
     ]
    },
    {
     "name": "stdout",
     "output_type": "stream",
     "text": [
      "Epoch 8/50: train loss 0.8233, Learning Rate 0.0188, val loss0.8334, corr 0.1259\n"
     ]
    },
    {
     "name": "stderr",
     "output_type": "stream",
     "text": [
      "train:   0%|          | 0/219 [00:00<?, ?it/s]                                  "
     ]
    },
    {
     "name": "stdout",
     "output_type": "stream",
     "text": [
      "successfully save model\n",
      "Epoch 9/50: train loss 0.8219, Learning Rate 0.0184, val loss0.8296, corr 0.1308\n"
     ]
    },
    {
     "name": "stderr",
     "output_type": "stream",
     "text": [
      "train:   0%|          | 0/219 [00:00<?, ?it/s]                                  "
     ]
    },
    {
     "name": "stdout",
     "output_type": "stream",
     "text": [
      "Epoch 10/50: train loss 0.8205, Learning Rate 0.0181, val loss0.8350, corr 0.1208\n"
     ]
    },
    {
     "name": "stderr",
     "output_type": "stream",
     "text": [
      "train:   0%|          | 0/219 [00:00<?, ?it/s]                                  "
     ]
    },
    {
     "name": "stdout",
     "output_type": "stream",
     "text": [
      "Epoch 11/50: train loss 0.8192, Learning Rate 0.0177, val loss0.8339, corr 0.1266\n"
     ]
    },
    {
     "name": "stderr",
     "output_type": "stream",
     "text": [
      "train:   0%|          | 0/219 [00:00<?, ?it/s]                                  "
     ]
    },
    {
     "name": "stdout",
     "output_type": "stream",
     "text": [
      "Epoch 12/50: train loss 0.8175, Learning Rate 0.0173, val loss0.8329, corr 0.1270\n"
     ]
    },
    {
     "name": "stderr",
     "output_type": "stream",
     "text": [
      "train:   0%|          | 0/219 [00:00<?, ?it/s]                                  "
     ]
    },
    {
     "name": "stdout",
     "output_type": "stream",
     "text": [
      "Epoch 13/50: train loss 0.8162, Learning Rate 0.0168, val loss0.8364, corr 0.1205\n"
     ]
    },
    {
     "name": "stderr",
     "output_type": "stream",
     "text": [
      "train:   0%|          | 0/219 [00:00<?, ?it/s]                                  "
     ]
    },
    {
     "name": "stdout",
     "output_type": "stream",
     "text": [
      "Epoch 14/50: train loss 0.8148, Learning Rate 0.0164, val loss0.8346, corr 0.1233\n"
     ]
    },
    {
     "name": "stderr",
     "output_type": "stream",
     "text": [
      "train:   0%|          | 0/219 [00:00<?, ?it/s]                                  "
     ]
    },
    {
     "name": "stdout",
     "output_type": "stream",
     "text": [
      "Epoch 15/50: train loss 0.8132, Learning Rate 0.0159, val loss0.8359, corr 0.1246\n"
     ]
    },
    {
     "name": "stderr",
     "output_type": "stream",
     "text": [
      "train:   0%|          | 0/219 [00:00<?, ?it/s]                                  "
     ]
    },
    {
     "name": "stdout",
     "output_type": "stream",
     "text": [
      "Epoch 16/50: train loss 0.8119, Learning Rate 0.0154, val loss0.8342, corr 0.1254\n"
     ]
    },
    {
     "name": "stderr",
     "output_type": "stream",
     "text": [
      "train:   0%|          | 0/219 [00:00<?, ?it/s]                                  "
     ]
    },
    {
     "name": "stdout",
     "output_type": "stream",
     "text": [
      "Epoch 17/50: train loss 0.8101, Learning Rate 0.0148, val loss0.8354, corr 0.1205\n"
     ]
    },
    {
     "name": "stderr",
     "output_type": "stream",
     "text": [
      "train:   0%|          | 0/219 [00:00<?, ?it/s]                                  "
     ]
    },
    {
     "name": "stdout",
     "output_type": "stream",
     "text": [
      "Epoch 18/50: train loss 0.8092, Learning Rate 0.0143, val loss0.8359, corr 0.1246\n"
     ]
    },
    {
     "name": "stderr",
     "output_type": "stream",
     "text": [
      "train:   0%|          | 0/219 [00:00<?, ?it/s]                                  "
     ]
    },
    {
     "name": "stdout",
     "output_type": "stream",
     "text": [
      "Epoch 19/50: train loss 0.8076, Learning Rate 0.0137, val loss0.8360, corr 0.1209\n"
     ]
    },
    {
     "name": "stderr",
     "output_type": "stream",
     "text": [
      "train:   0%|          | 0/219 [00:00<?, ?it/s]                                  "
     ]
    },
    {
     "name": "stdout",
     "output_type": "stream",
     "text": [
      "Epoch 20/50: train loss 0.8062, Learning Rate 0.0131, val loss0.8403, corr 0.1185\n"
     ]
    },
    {
     "name": "stderr",
     "output_type": "stream",
     "text": [
      "train:   0%|          | 0/219 [00:00<?, ?it/s]                                  "
     ]
    },
    {
     "name": "stdout",
     "output_type": "stream",
     "text": [
      "Epoch 21/50: train loss 0.8043, Learning Rate 0.0125, val loss0.8368, corr 0.1182\n"
     ]
    },
    {
     "name": "stderr",
     "output_type": "stream",
     "text": [
      "train:   0%|          | 0/219 [00:00<?, ?it/s]                                  "
     ]
    },
    {
     "name": "stdout",
     "output_type": "stream",
     "text": [
      "Epoch 22/50: train loss 0.8035, Learning Rate 0.0119, val loss0.8376, corr 0.1204\n"
     ]
    },
    {
     "name": "stderr",
     "output_type": "stream",
     "text": [
      "train:   0%|          | 0/219 [00:00<?, ?it/s]                                  "
     ]
    },
    {
     "name": "stdout",
     "output_type": "stream",
     "text": [
      "Epoch 23/50: train loss 0.8016, Learning Rate 0.0113, val loss0.8373, corr 0.1214\n"
     ]
    },
    {
     "name": "stderr",
     "output_type": "stream",
     "text": [
      "train:   0%|          | 0/219 [00:00<?, ?it/s]                                  "
     ]
    },
    {
     "name": "stdout",
     "output_type": "stream",
     "text": [
      "Epoch 24/50: train loss 0.8005, Learning Rate 0.0106, val loss0.8412, corr 0.1170\n"
     ]
    },
    {
     "name": "stderr",
     "output_type": "stream",
     "text": [
      "train:   0%|          | 0/219 [00:00<?, ?it/s]                                  "
     ]
    },
    {
     "name": "stdout",
     "output_type": "stream",
     "text": [
      "Epoch 25/50: train loss 0.7990, Learning Rate 0.0100, val loss0.8406, corr 0.1165\n"
     ]
    },
    {
     "name": "stderr",
     "output_type": "stream",
     "text": [
      "train:   0%|          | 0/219 [00:00<?, ?it/s]                                  "
     ]
    },
    {
     "name": "stdout",
     "output_type": "stream",
     "text": [
      "Epoch 26/50: train loss 0.7968, Learning Rate 0.0094, val loss0.8398, corr 0.1192\n"
     ]
    },
    {
     "name": "stderr",
     "output_type": "stream",
     "text": [
      "train:   0%|          | 0/219 [00:00<?, ?it/s]                                  "
     ]
    },
    {
     "name": "stdout",
     "output_type": "stream",
     "text": [
      "Epoch 27/50: train loss 0.7955, Learning Rate 0.0087, val loss0.8408, corr 0.1124\n"
     ]
    },
    {
     "name": "stderr",
     "output_type": "stream",
     "text": [
      "train:   0%|          | 0/219 [00:00<?, ?it/s]                                  "
     ]
    },
    {
     "name": "stdout",
     "output_type": "stream",
     "text": [
      "Epoch 28/50: train loss 0.7939, Learning Rate 0.0081, val loss0.8411, corr 0.1124\n"
     ]
    },
    {
     "name": "stderr",
     "output_type": "stream",
     "text": [
      "train:   0%|          | 0/219 [00:00<?, ?it/s]                                  "
     ]
    },
    {
     "name": "stdout",
     "output_type": "stream",
     "text": [
      "Epoch 29/50: train loss 0.7934, Learning Rate 0.0075, val loss0.8439, corr 0.1133\n"
     ]
    },
    {
     "name": "stderr",
     "output_type": "stream",
     "text": [
      "train:   0%|          | 0/219 [00:00<?, ?it/s]                                  "
     ]
    },
    {
     "name": "stdout",
     "output_type": "stream",
     "text": [
      "Epoch 30/50: train loss 0.7912, Learning Rate 0.0069, val loss0.8442, corr 0.1122\n"
     ]
    },
    {
     "name": "stderr",
     "output_type": "stream",
     "text": [
      "train:   0%|          | 0/219 [00:00<?, ?it/s]                                  "
     ]
    },
    {
     "name": "stdout",
     "output_type": "stream",
     "text": [
      "Epoch 31/50: train loss 0.7898, Learning Rate 0.0063, val loss0.8411, corr 0.1196\n"
     ]
    },
    {
     "name": "stderr",
     "output_type": "stream",
     "text": [
      "train:   0%|          | 0/219 [00:00<?, ?it/s]                                  "
     ]
    },
    {
     "name": "stdout",
     "output_type": "stream",
     "text": [
      "Epoch 32/50: train loss 0.7882, Learning Rate 0.0057, val loss0.8422, corr 0.1146\n"
     ]
    },
    {
     "name": "stderr",
     "output_type": "stream",
     "text": [
      "train:   0%|          | 0/219 [00:00<?, ?it/s]                                  "
     ]
    },
    {
     "name": "stdout",
     "output_type": "stream",
     "text": [
      "Epoch 33/50: train loss 0.7868, Learning Rate 0.0052, val loss0.8441, corr 0.1115\n"
     ]
    },
    {
     "name": "stderr",
     "output_type": "stream",
     "text": [
      "train:   0%|          | 0/219 [00:00<?, ?it/s]                                  "
     ]
    },
    {
     "name": "stdout",
     "output_type": "stream",
     "text": [
      "Epoch 34/50: train loss 0.7851, Learning Rate 0.0046, val loss0.8455, corr 0.1096\n"
     ]
    },
    {
     "name": "stderr",
     "output_type": "stream",
     "text": [
      "train:   0%|          | 0/219 [00:00<?, ?it/s]                                  "
     ]
    },
    {
     "name": "stdout",
     "output_type": "stream",
     "text": [
      "Epoch 35/50: train loss 0.7839, Learning Rate 0.0041, val loss0.8448, corr 0.1112\n"
     ]
    },
    {
     "name": "stderr",
     "output_type": "stream",
     "text": [
      "train:   0%|          | 0/219 [00:00<?, ?it/s]                                  "
     ]
    },
    {
     "name": "stdout",
     "output_type": "stream",
     "text": [
      "Epoch 36/50: train loss 0.7826, Learning Rate 0.0036, val loss0.8452, corr 0.1121\n"
     ]
    },
    {
     "name": "stderr",
     "output_type": "stream",
     "text": [
      "train:   0%|          | 0/219 [00:00<?, ?it/s]                                  "
     ]
    },
    {
     "name": "stdout",
     "output_type": "stream",
     "text": [
      "Epoch 37/50: train loss 0.7817, Learning Rate 0.0032, val loss0.8430, corr 0.1120\n"
     ]
    },
    {
     "name": "stderr",
     "output_type": "stream",
     "text": [
      "train:   0%|          | 0/219 [00:00<?, ?it/s]                                  "
     ]
    },
    {
     "name": "stdout",
     "output_type": "stream",
     "text": [
      "Epoch 38/50: train loss 0.7797, Learning Rate 0.0027, val loss0.8472, corr 0.1106\n"
     ]
    },
    {
     "name": "stderr",
     "output_type": "stream",
     "text": [
      "train:   0%|          | 0/219 [00:00<?, ?it/s]                                  "
     ]
    },
    {
     "name": "stdout",
     "output_type": "stream",
     "text": [
      "Epoch 39/50: train loss 0.7788, Learning Rate 0.0023, val loss0.8474, corr 0.1094\n"
     ]
    },
    {
     "name": "stderr",
     "output_type": "stream",
     "text": [
      "train:   0%|          | 0/219 [00:00<?, ?it/s]                                  "
     ]
    },
    {
     "name": "stdout",
     "output_type": "stream",
     "text": [
      "Epoch 40/50: train loss 0.7778, Learning Rate 0.0019, val loss0.8466, corr 0.1103\n"
     ]
    },
    {
     "name": "stderr",
     "output_type": "stream",
     "text": [
      "train:   0%|          | 0/219 [00:00<?, ?it/s]                                  "
     ]
    },
    {
     "name": "stdout",
     "output_type": "stream",
     "text": [
      "Epoch 41/50: train loss 0.7770, Learning Rate 0.0016, val loss0.8483, corr 0.1081\n"
     ]
    },
    {
     "name": "stderr",
     "output_type": "stream",
     "text": [
      "train:   0%|          | 0/219 [00:00<?, ?it/s]                                  "
     ]
    },
    {
     "name": "stdout",
     "output_type": "stream",
     "text": [
      "Epoch 42/50: train loss 0.7763, Learning Rate 0.0012, val loss0.8467, corr 0.1098\n"
     ]
    },
    {
     "name": "stderr",
     "output_type": "stream",
     "text": [
      "train:   0%|          | 0/219 [00:00<?, ?it/s]                                  "
     ]
    },
    {
     "name": "stdout",
     "output_type": "stream",
     "text": [
      "Epoch 43/50: train loss 0.7750, Learning Rate 0.0010, val loss0.8477, corr 0.1091\n"
     ]
    },
    {
     "name": "stderr",
     "output_type": "stream",
     "text": [
      "train:   0%|          | 0/219 [00:00<?, ?it/s]                                  "
     ]
    },
    {
     "name": "stdout",
     "output_type": "stream",
     "text": [
      "Epoch 44/50: train loss 0.7750, Learning Rate 0.0007, val loss0.8475, corr 0.1082\n"
     ]
    },
    {
     "name": "stderr",
     "output_type": "stream",
     "text": [
      "train:   0%|          | 0/219 [00:00<?, ?it/s]                                  "
     ]
    },
    {
     "name": "stdout",
     "output_type": "stream",
     "text": [
      "Epoch 45/50: train loss 0.7741, Learning Rate 0.0005, val loss0.8481, corr 0.1087\n"
     ]
    },
    {
     "name": "stderr",
     "output_type": "stream",
     "text": [
      "train:   0%|          | 0/219 [00:00<?, ?it/s]                                  "
     ]
    },
    {
     "name": "stdout",
     "output_type": "stream",
     "text": [
      "Epoch 46/50: train loss 0.7745, Learning Rate 0.0003, val loss0.8489, corr 0.1091\n"
     ]
    },
    {
     "name": "stderr",
     "output_type": "stream",
     "text": [
      "train:   0%|          | 0/219 [00:00<?, ?it/s]                                  "
     ]
    },
    {
     "name": "stdout",
     "output_type": "stream",
     "text": [
      "Epoch 47/50: train loss 0.7740, Learning Rate 0.0002, val loss0.8496, corr 0.1075\n"
     ]
    },
    {
     "name": "stderr",
     "output_type": "stream",
     "text": [
      "train:   0%|          | 0/219 [00:00<?, ?it/s]                                  "
     ]
    },
    {
     "name": "stdout",
     "output_type": "stream",
     "text": [
      "Epoch 48/50: train loss 0.7740, Learning Rate 0.0001, val loss0.8483, corr 0.1083\n"
     ]
    },
    {
     "name": "stderr",
     "output_type": "stream",
     "text": [
      "train:   0%|          | 0/219 [00:00<?, ?it/s]                                  "
     ]
    },
    {
     "name": "stdout",
     "output_type": "stream",
     "text": [
      "Epoch 49/50: train loss 0.7734, Learning Rate 0.0000, val loss0.8488, corr 0.1087\n"
     ]
    },
    {
     "name": "stderr",
     "output_type": "stream",
     "text": [
      "Test:   3%|▎         | 1/32 [00:00<00:05,  5.94it/s, test_corr=0.0551, test_loss=0.8367]"
     ]
    },
    {
     "name": "stdout",
     "output_type": "stream",
     "text": [
      "Epoch 50/50: train loss 0.7730, Learning Rate 0.0000, val loss0.8490, corr 0.1083\n",
      "//////////Start test///////////\n",
      "----Attention-----\n"
     ]
    },
    {
     "name": "stderr",
     "output_type": "stream",
     "text": [
      "Test:   3%|▎         | 1/32 [00:00<00:04,  6.43it/s, test_corr=0.0757, test_loss=0.8331] "
     ]
    },
    {
     "name": "stdout",
     "output_type": "stream",
     "text": [
      "test loss0.8141,test corr 0.0896\n",
      "---- MLP Model-----\n"
     ]
    },
    {
     "name": "stderr",
     "output_type": "stream",
     "text": [
      "Test:   0%|          | 0/32 [00:00<?, ?it/s]                                             "
     ]
    },
    {
     "name": "stdout",
     "output_type": "stream",
     "text": [
      "test loss0.8123,test corr 0.0993\n",
      "----DNN Model-----\n"
     ]
    },
    {
     "name": "stderr",
     "output_type": "stream",
     "text": [
      "                                                                                         "
     ]
    },
    {
     "name": "stdout",
     "output_type": "stream",
     "text": [
      "test loss0.8089,test corr 0.1160\n"
     ]
    },
    {
     "name": "stderr",
     "output_type": "stream",
     "text": [
      "\r"
     ]
    }
   ],
   "source": [
    "#Main(trainLoader,valLoader,testLoader)"
   ]
  },
  {
   "cell_type": "code",
   "execution_count": 19,
   "metadata": {},
   "outputs": [],
   "source": [
    "class MixModel(nn.Module):\n",
    "    def __init__(self):\n",
    "        super(MixModel,self).__init__()\n",
    "        self.MLP =nn.Sequential(\n",
    "            nn.Linear(24,64),\n",
    "            nn.BatchNorm1d(64),\n",
    "            nn.SiLU(),\n",
    "            nn.Dropout(0.4),\n",
    "            nn.Linear(64,8),\n",
    "            nn.BatchNorm1d(8),\n",
    "            nn.SiLU(),\n",
    "            nn.Dropout(0.4),\n",
    "            nn.Linear(8,1),\n",
    "        )\n",
    " \n",
    "        self.criterion = nn.MSELoss()\n",
    "        \n",
    "    def forward(self,x):\n",
    "        output = self.MLP(x)\n",
    "        return output\n",
    "\n",
    "    def cal_Loss(self,y_hat,y):\n",
    "        return self.criterion(y_hat,y)"
   ]
  },
  {
   "cell_type": "code",
   "execution_count": 20,
   "metadata": {},
   "outputs": [],
   "source": [
    "def mixtrain(model,trainLoader,valLoader, optimizer, scheduler, config):\n",
    "    #load model\n",
    "    att =SimpleAttention(Att_config[\"context\"],312).cuda()\n",
    "    att.load_state_dict(torch.load(Att_config['store_path']),strict=False)\n",
    "    att.eval()\n",
    "    \n",
    "    mlp =SimpleMLP(MLP_config[\"context\"],312).cuda()\n",
    "    mlp.load_state_dict(torch.load(MLP_config['store_path']),strict=False)\n",
    "    mlp.eval()\n",
    "    \n",
    "    dnn =DNN(DNN_config[\"context\"],312).cuda()\n",
    "    dnn.load_state_dict(torch.load(DNN_config['store_path']),strict=False)\n",
    "    dnn.eval()\n",
    "    \n",
    "    best_loss =1000\n",
    "    epochs =config[\"epoch\"]\n",
    "    for epoch in range(epochs):\n",
    "        batch_bar = tqdm(total = len(trainLoader),dynamic_ncols = True,leave =False,position = 0,desc = \"train\")\n",
    "        model.train()\n",
    "        train_total_loss = 0\n",
    "        for i,(x1,x2,y) in enumerate(trainLoader):\n",
    "            optimizer.zero_grad()\n",
    "            x1,x2,y = x1.cuda(),x2.cuda(),y.cuda()\n",
    "            f1 = att(x1,x2,Get_fea = True)\n",
    "            f2 = mlp(x1,x2,Get_fea = True)\n",
    "            f3 = dnn(x1,x2,Get_fea = True)\n",
    "            #print(f'f1 shape: {f1.shape}')\n",
    "            x = torch.cat((f1,f2),axis =-1)\n",
    "            x = torch.cat((x,f3),axis =-1)\n",
    "            #print(f'x shape: {x.shape}')\n",
    "            y_hat = model(x)\n",
    "            y_hat = y_hat.reshape(-1,1)\n",
    "            y =y.reshape(-1,1)\n",
    "            loss = model.cal_Loss(y_hat,y)\n",
    "            train_total_loss+=float(loss.cpu())\n",
    "            batch_bar.set_postfix(\n",
    "                loss=\"{:.04f}\".format(float(train_total_loss / (i + 1))),\n",
    "                lr=\"{:.04f}\".format(float(optimizer.param_groups[0]['lr'])))\n",
    "            loss.backward()\n",
    "            optimizer.step()\n",
    "            scheduler.step()\n",
    "            batch_bar.update()\n",
    "        batch_bar.close()\n",
    "        \n",
    "        val_total_loss = 0\n",
    "        val_total_corr = 0\n",
    "        batch_bar = tqdm(total = len(valLoader),dynamic_ncols = True,leave =False,position = 0,desc = \"val\")\n",
    "        model.eval()\n",
    "        for i,(x1,x2,y) in enumerate(valLoader):\n",
    "            with torch.no_grad():\n",
    "                x1,x2,y = x1.cuda(),x2.cuda(),y.cuda()\n",
    "                f1 = att(x1,x2,Get_fea = True)\n",
    "                f2 = mlp(x1,x2,Get_fea = True)\n",
    "                f3 = dnn(x1,x2,Get_fea = True)\n",
    "                \n",
    "                x = torch.cat((f1,f2),axis =-1)\n",
    "                x = torch.cat((x,f3),axis =-1)\n",
    "                y_hat = model(x)\n",
    "                y_hat = y_hat.reshape(-1,1)\n",
    "                y =y.reshape(-1,1)\n",
    "                loss = model.cal_Loss(y_hat,y)\n",
    "                \n",
    "\n",
    "                corr = get_corr(y_hat,y)\n",
    "                val_total_corr+=corr\n",
    "               \n",
    "                val_total_loss+=loss\n",
    "            batch_bar.set_postfix(\n",
    "                loss=\"{:.04f}\".format(float(val_total_loss / (i + 1))),\n",
    "                \n",
    "                corr=\"{:.04f}\".format(float(val_total_corr / (i + 1))),\n",
    "             )\n",
    "            batch_bar.update()\n",
    "        batch_bar.close()\n",
    "        val_loss = float(val_total_loss/len(valLoader))\n",
    "        if(val_loss<best_loss):\n",
    "            best_loss = val_loss\n",
    "            torch.save(model.state_dict(),config[\"store_path\"])\n",
    "            print(\"successfully save model\")\n",
    "        \n",
    "        print(f\"Epoch {epoch+1}/{epochs}: train loss {float(train_total_loss / len(trainLoader)):0.04f}, Learning Rate {optimizer.param_groups[0]['lr']:0.04f}, val loss{float(val_total_loss/len(valLoader)):0.04f}, corr {float(val_total_corr / (i + 1)):0.04f}\")"
   ]
  },
  {
   "cell_type": "code",
   "execution_count": 21,
   "metadata": {},
   "outputs": [],
   "source": [
    "def Mixtest(model,testLoader,config):\n",
    "    #load model\n",
    "    att =SimpleAttention(Att_config[\"context\"],312).cuda()\n",
    "    att.load_state_dict(torch.load(Att_config['store_path']),strict=False)\n",
    "    att.eval()\n",
    "    \n",
    "    mlp =SimpleMLP(MLP_config[\"context\"],312).cuda()\n",
    "    mlp.load_state_dict(torch.load(MLP_config['store_path']),strict=False)\n",
    "    mlp.eval()\n",
    "    \n",
    "    dnn =DNN(DNN_config[\"context\"],312).cuda()\n",
    "    dnn.load_state_dict(torch.load(DNN_config['store_path']),strict=False)\n",
    "    dnn.eval()\n",
    "    \n",
    "    \n",
    "    model.load_state_dict(torch.load(config[\"store_path\"]))\n",
    "    model.eval()\n",
    "    test_total_loss = 0\n",
    "    test_total_corr = 0\n",
    "    batch_bar = tqdm(total = len(testLoader),dynamic_ncols = True,leave =False,position = 0,desc = \"Test\")\n",
    "    for i,(x1,x2,y) in enumerate(testLoader):\n",
    "        with torch.no_grad():\n",
    "            x1,x2,y = x1.cuda(),x2.cuda(),y.cuda()\n",
    "            f1 = att(x1,x2,Get_fea = True)\n",
    "            f2 = mlp(x1,x2,Get_fea = True)\n",
    "            f3 = dnn(x1,x2,Get_fea = True)   \n",
    "            x = torch.cat((f1,f2),axis =-1)\n",
    "            x = torch.cat((x,f3),axis =-1)\n",
    "            y_hat = model(x)\n",
    "            y_hat = y_hat.reshape(-1,1)\n",
    "            y =y.reshape(-1,1)\n",
    "            loss = model.cal_Loss(y_hat,y)\n",
    "                \n",
    "\n",
    "            corr = get_corr(y_hat,y)\n",
    "            test_total_corr+=corr\n",
    "            test_total_loss+=loss\n",
    "        batch_bar.set_postfix(\n",
    "                test_loss=\"{:.04f}\".format(float(test_total_loss / (i + 1))),\n",
    "                \n",
    "                test_corr=\"{:.04f}\".format(float(test_total_corr / (i + 1))),\n",
    "             )\n",
    "        batch_bar.update()\n",
    "    batch_bar.close()\n",
    "    print(f\"test loss{float(test_total_loss/len(testLoader)):0.04f},test corr {float(test_total_corr / len(testLoader)):0.04f}\")"
   ]
  },
  {
   "cell_type": "code",
   "execution_count": 22,
   "metadata": {},
   "outputs": [],
   "source": [
    "def mixMain():\n",
    "    model = MixModel().cuda()\n",
    "    model.train()\n",
    "    optimizer = getattr(torch.optim,mix_config[\"optimz\"])(model.parameters(),lr =mix_config[\"learning_rate\"])\n",
    "    scheduler = torch.optim.lr_scheduler.CosineAnnealingLR(optimizer, T_max=(len(trainLoader) * mix_config[\"epoch\"]))\n",
    "    print(\"///////////Start Train mix Model//////////\")\n",
    "    mixtrain(model,trainLoader,valLoader,optimizer,scheduler,mix_config)\n",
    "    print(\"//////////Start test///////////\")\n",
    "    print(\"----Attention-----\")\n",
    "    Mixtest(model,testLoader,Att_config)"
   ]
  },
  {
   "cell_type": "code",
   "execution_count": 23,
   "metadata": {},
   "outputs": [],
   "source": [
    "mix_config={\"epoch\" : 50,\"batch_size\":10000,\"learning_rate\":0.02,\"optimz\":\"Adam\",\"store_path\":\"/root/Ubiquant/Mix.pth\",\"context\":1}"
   ]
  },
  {
   "cell_type": "code",
   "execution_count": null,
   "metadata": {},
   "outputs": [
    {
     "name": "stderr",
     "output_type": "stream",
     "text": [
      "train:   0%|          | 0/219 [00:00<?, ?it/s]"
     ]
    },
    {
     "name": "stdout",
     "output_type": "stream",
     "text": [
      "///////////Start Train mix Model//////////\n"
     ]
    },
    {
     "name": "stderr",
     "output_type": "stream",
     "text": [
      "train:   0%|          | 0/219 [00:00<?, ?it/s]                                  "
     ]
    },
    {
     "name": "stdout",
     "output_type": "stream",
     "text": [
      "successfully save model\n",
      "Epoch 1/50: train loss 0.8241, Learning Rate 0.0200, val loss0.8330, corr 0.1234\n"
     ]
    },
    {
     "name": "stderr",
     "output_type": "stream",
     "text": [
      "train:   0%|          | 0/219 [00:00<?, ?it/s]                                  "
     ]
    },
    {
     "name": "stdout",
     "output_type": "stream",
     "text": [
      "successfully save model\n",
      "Epoch 2/50: train loss 0.8160, Learning Rate 0.0199, val loss0.8329, corr 0.1229\n"
     ]
    },
    {
     "name": "stderr",
     "output_type": "stream",
     "text": [
      "train:   0%|          | 0/219 [00:00<?, ?it/s]                                  "
     ]
    },
    {
     "name": "stdout",
     "output_type": "stream",
     "text": [
      "Epoch 3/50: train loss 0.8149, Learning Rate 0.0198, val loss0.8363, corr 0.1216\n"
     ]
    },
    {
     "name": "stderr",
     "output_type": "stream",
     "text": [
      "train:   0%|          | 0/219 [00:00<?, ?it/s]                                  "
     ]
    },
    {
     "name": "stdout",
     "output_type": "stream",
     "text": [
      "Epoch 4/50: train loss 0.8150, Learning Rate 0.0197, val loss0.8358, corr 0.1258\n"
     ]
    },
    {
     "name": "stderr",
     "output_type": "stream",
     "text": [
      "train:   0%|          | 0/219 [00:00<?, ?it/s]                                  "
     ]
    },
    {
     "name": "stdout",
     "output_type": "stream",
     "text": [
      "Epoch 5/50: train loss 0.8146, Learning Rate 0.0195, val loss0.8381, corr 0.1210\n"
     ]
    },
    {
     "name": "stderr",
     "output_type": "stream",
     "text": [
      "val:   8%|▊         | 5/62 [00:01<00:20,  2.78it/s, corr=0.1183, loss=0.8394]   "
     ]
    }
   ],
   "source": [
    "mixMain()"
   ]
  },
  {
   "cell_type": "code",
   "execution_count": null,
   "metadata": {},
   "outputs": [],
   "source": []
  }
 ],
 "metadata": {
  "kernelspec": {
   "display_name": "Python 3",
   "language": "python",
   "name": "python3"
  },
  "language_info": {
   "codemirror_mode": {
    "name": "ipython",
    "version": 3
   },
   "file_extension": ".py",
   "mimetype": "text/x-python",
   "name": "python",
   "nbconvert_exporter": "python",
   "pygments_lexer": "ipython3",
   "version": "3.8.5"
  }
 },
 "nbformat": 4,
 "nbformat_minor": 5
}
