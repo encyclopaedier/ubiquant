{
 "cells": [
  {
   "cell_type": "code",
   "execution_count": 2,
   "metadata": {},
   "outputs": [],
   "source": [
    "import pandas as pd\n",
    "import torch \n",
    "import torch.nn as nn\n",
    "from torch.utils.data import DataLoader,Dataset\n",
    "import numpy as np\n",
    "from tqdm import tqdm"
   ]
  },
  {
   "cell_type": "markdown",
   "metadata": {},
   "source": [
    "!pip install --upgrade --force-reinstall --no-deps kaggle==1.5.8\n",
    "!mkdir /root/.kaggle\n",
    "\n",
    "with open(\"/root/.kaggle/kaggle.json\", \"w+\") as f:\n",
    "    f.write('{\"username\":\"yimingxiao\",\"key\":\"a7d197fbcf8334a668ce1ba47f1dc75d\"}') # Put your kaggle username & key here"
   ]
  },
  {
   "cell_type": "markdown",
   "metadata": {},
   "source": [
    "!chmod 600 /root/.kaggle/kaggle.json\n",
    "!kaggle competitions download -c ubiquant-market-prediction\n",
    "\n"
   ]
  },
  {
   "cell_type": "markdown",
   "metadata": {},
   "source": [
    "!unzip -q ubiquant-market-prediction.zip\n",
    "\n",
    "!ls"
   ]
  },
  {
   "cell_type": "code",
   "execution_count": 3,
   "metadata": {},
   "outputs": [],
   "source": [
    "path=\"/root/Ubiquant/\"\n",
    "originaldatapath = \"train.csv\"\n",
    "targetpath =\"mytrain.csv\"\n",
    "valpath = \"myval.csv\"\n",
    "testpath =\"mytest.csv\""
   ]
  },
  {
   "cell_type": "markdown",
   "metadata": {},
   "source": [
    "df= pd.read_csv(path+originaldatapath)\n"
   ]
  },
  {
   "cell_type": "markdown",
   "metadata": {},
   "source": [
    "offset1 = int(df.shape[0]*0.95)\n",
    "offset2 = int(df.shape[0]*0.995)\n",
    "train =df.iloc[:offset1,:]\n",
    "val = df.iloc[offset1:offset2,:]\n",
    "test = df.iloc[offset2:,:]"
   ]
  },
  {
   "cell_type": "markdown",
   "metadata": {},
   "source": [
    "train.to_csv(path+targetpath)\n",
    "val.to_csv(path+valpath)\n",
    "test.to_csv(path+testpath)"
   ]
  },
  {
   "cell_type": "markdown",
   "metadata": {},
   "source": [
    "df= pd.read_csv(path+valpath)"
   ]
  },
  {
   "cell_type": "markdown",
   "metadata": {},
   "source": [
    "df"
   ]
  },
  {
   "cell_type": "code",
   "execution_count": 4,
   "metadata": {},
   "outputs": [],
   "source": [
    "#两方面去考虑attention,首先,可以忽视事件数据,将所有Id一样的人聚集在一起,将他们视作一个sequence,将他们的target作为另一个,观察两个sequence的关系\n",
    "#其次,可以以同一个时域做Attention,将这个时域中的数据作为一个切面sequence,然后跟他们的结果做相关性"
   ]
  },
  {
   "cell_type": "code",
   "execution_count": 5,
   "metadata": {},
   "outputs": [],
   "source": [
    "def GetDataFromKaggle():\n",
    "    print(\"successful get date\")"
   ]
  },
  {
   "cell_type": "code",
   "execution_count": 6,
   "metadata": {},
   "outputs": [],
   "source": [
    "def GetMaxFeature(x):\n",
    "    id_size = x[\"investment_id\"].nunique()\n",
    "    time_id_size = x[\"time_id\"].nunique()\n",
    "    return id_size,time_id_size"
   ]
  },
  {
   "cell_type": "code",
   "execution_count": 7,
   "metadata": {},
   "outputs": [],
   "source": [
    "class Ubiquant(Dataset):\n",
    "    def __init__(self,datapath,context = 100,train_data = True,get_time_data = True):\n",
    "        super(Ubiquant,self).__init__()\n",
    "        self.get_time = get_time_data\n",
    "        if(train_data):\n",
    "            self.data = pd.read_csv(datapath)\n",
    "            self.id_size,self.time_size = GetMaxFeature(self.data)\n",
    "            if(get_time_data):#get an x,y base on time frame\n",
    "                self.y = self.data.loc[:,\"target\"]\n",
    "                self.x = self.data.drop(columns=[\"Unnamed: 0\",\"row_id\",\"time_id\",\"target\"])\n",
    "                #self.x.loc[:,\"time_id\"] -=self.x.loc[0,\"time_id\"]\n",
    "                #self.id = self.x[[\"time_id\"]]\n",
    "                self.id = self.x[[\"investment_id\"]]\n",
    "                self.x = self.x.drop(columns=[\"investment_id\"])\n",
    "                \n",
    "                #self.x = self.x.drop(columns=[\"time_id\"])\n",
    "            else:#get (x,y) base on investment_id\n",
    "                self.data = self.data.sort_values(by=[\"investment_id\"])\n",
    "                self.y = self.data.loc[:,\"target\"]\n",
    "                self.x = self.data.drop(columns=[\"Unnamed: 0\",\"row_id\",\"time_id\",\"target\"])\n",
    "                self.id = self.x[[\"investment_id\"]]\n",
    "                self.x = self.x.drop(columns=[\"investment_id\"])\n",
    "        \n",
    "        #pad context before the data\n",
    "        self.context = context\n",
    "        self.pad_id =np.pad(self.id.to_numpy(),((context-1,0),(0,0)),constant_values = 0)\n",
    "        self.pad_x =np.pad(self.x.to_numpy(),((context-1,0),(0,0)),constant_values = 0)\n",
    "        self.y =self.y.to_numpy()\n",
    "        \n",
    "        \n",
    "        self.pad_id =torch.LongTensor(self.pad_id)\n",
    "        self.pad_x = torch.FloatTensor(self.pad_x)\n",
    "        self.y = torch.FloatTensor(self.y)\n",
    "        \n",
    "        print(f\"succesfully load data with shape x : {self.x.shape} | shape y :{self.y.shape} | get time data is: {get_time_data}\")\n",
    "        \n",
    "                \n",
    "            \n",
    "    def __getitem__(self,index):\n",
    "        context = self.context\n",
    "        return self.pad_id[index:index+context],self.pad_x[index:index+context],self.y[index]\n",
    "        \n",
    "    def __len__(self):\n",
    "        return self.x.shape[0]\n",
    "    \n",
    "    def GetSize(self):\n",
    "        if(get_time_data):\n",
    "            return self.time_size\n",
    "        else:\n",
    "            return self.id_size\n",
    "\n",
    "            \n",
    "            "
   ]
  },
  {
   "cell_type": "code",
   "execution_count": 8,
   "metadata": {},
   "outputs": [],
   "source": [
    "def LoadData(config, get_time_data = True):\n",
    "    trainSet =Ubiquant(path+targetpath,context = config[\"context\"], get_time_data = get_time_data)\n",
    "    valSet =Ubiquant(path+valpath, context = config[\"context\"], get_time_data = get_time_data)\n",
    "    testSet =Ubiquant(path+testpath, context = config[\"context\"], get_time_data = get_time_data)\n",
    "    trainLoader = DataLoader(trainSet,batch_size = config[\"batch_size\"],shuffle =True,drop_last=True)#,num_workers=2)\n",
    "    valLoader = DataLoader(valSet,batch_size = config[\"batch_size\"],shuffle =True,drop_last=True)#,num_workers=2)\n",
    "    testLoader = DataLoader(testSet,batch_size = config[\"batch_size\"],shuffle =False,drop_last=False)\n",
    "    return trainLoader,valLoader,testLoader"
   ]
  },
  {
   "cell_type": "code",
   "execution_count": 9,
   "metadata": {},
   "outputs": [],
   "source": [
    "class SimpleAttention(nn.Module):\n",
    "    def __init__(self,seq_len = 32, input_feature =311):\n",
    "        super(SimpleAttention,self).__init__() \n",
    "        \n",
    "        self.id_embedding = nn.Embedding(5000,12)\n",
    "        self.cnn = nn.Sequential(\n",
    "            nn.Conv1d(1,64,13,1,padding =6),\n",
    "            nn.BatchNorm1d(64),\n",
    "            nn.Sigmoid(),\n",
    "            nn.Dropout(0.1),\n",
    "        \n",
    "         )\n",
    "        self.att = nn.MultiheadAttention(input_feature,24)\n",
    "        \n",
    "        self.cnn2 =nn.Sequential(\n",
    "            nn.Conv1d(64,32,3,1,padding =1),\n",
    "            nn.BatchNorm1d(32),\n",
    "            nn.Sigmoid(),\n",
    "            nn.Dropout(0.1),\n",
    "        \n",
    "         )\n",
    "        self.att2 = nn.MultiheadAttention(input_feature,24)\n",
    "        self.flat = nn.Flatten()\n",
    "        self.MLP =nn.Sequential(\n",
    "            nn.Linear(input_feature*32,512),\n",
    "            nn.BatchNorm1d(512),\n",
    "            nn.SiLU(),\n",
    "            nn.Dropout(0.4),\n",
    "            nn.Linear(512,256),\n",
    "            nn.BatchNorm1d(256),\n",
    "            nn.SiLU(),\n",
    "            nn.Dropout(0.4),\n",
    "            nn.Linear(256,128),\n",
    "            nn.BatchNorm1d(128),\n",
    "            nn.SiLU(),\n",
    "            nn.Dropout(0.4),\n",
    "            nn.Linear(128,8),\n",
    "     \n",
    "        )\n",
    "        self.FinalOutPut = nn.Sequential(\n",
    "            nn.BatchNorm1d(8),\n",
    "            nn.SiLU(),\n",
    "            nn.Dropout(0.4),\n",
    "            nn.Linear(8,1)\n",
    "        )\n",
    "        self.criterion = nn.MSELoss()\n",
    "        \n",
    "    def forward(self,_id, f_features , Get_fea = False):\n",
    "        invest_embedding = self.id_embedding(_id).squeeze(dim=2)\n",
    "        \n",
    "        _input =torch.cat((invest_embedding,f_features),axis =-1)\n",
    "        _input = self.cnn(_input)\n",
    "        #print(_input.shape)\n",
    "        _input =_input.permute(1,0,2)\n",
    "        feature, _ = self.att(_input,_input,_input)\n",
    "        feature =feature+ _input\n",
    "        feature = feature.permute(1,0,2)\n",
    "        \n",
    "        _input = self.cnn2(feature)\n",
    "        _input =_input.permute(1,0,2)\n",
    "        feature, _ = self.att2(_input,_input,_input)\n",
    "        feature = feature+ _input\n",
    "        feature = feature.permute(1,0,2)\n",
    "        \n",
    "        \n",
    "        \n",
    "        \n",
    "        #print(feature.shape)\n",
    "        feature = self.flat(feature)\n",
    "        #print(output.shape)\n",
    "        feature = self.MLP(feature)\n",
    "        output =  self.FinalOutPut(feature)\n",
    "        if(Get_fea):\n",
    "            return feature\n",
    "        else:\n",
    "            return output\n",
    "    \n",
    "    def cal_Loss(self,y_hat,y):\n",
    "        return self.criterion(y_hat,y)"
   ]
  },
  {
   "cell_type": "code",
   "execution_count": 10,
   "metadata": {},
   "outputs": [],
   "source": [
    "class DNN(nn.Module):\n",
    "    def __init__(self,seq_len = 32,input_feature = 312):\n",
    "        super(DNN,self).__init__()\n",
    "        \n",
    "        self.id_embedding = nn.Embedding(5000,12)\n",
    "        self.dnn = nn.Sequential(\n",
    "            nn.Conv1d(1,64,13,1,padding=6),\n",
    "            nn.BatchNorm1d(64),\n",
    "            nn.LeakyReLU(),\n",
    "            nn.Dropout(0.4),\n",
    "            nn.Conv1d(64,128,13,1,padding=6),\n",
    "            nn.BatchNorm1d(128),\n",
    "            nn.LeakyReLU(),\n",
    "            nn.Dropout(0.4),\n",
    "            nn.Conv1d(128,256,13,1,padding=6),\n",
    "            nn.BatchNorm1d(256),\n",
    "            nn.LeakyReLU(),\n",
    "            nn.Dropout(0.4),\n",
    "            nn.Conv1d(256,64,13,1,padding=6),\n",
    "            nn.BatchNorm1d(64),\n",
    "            nn.LeakyReLU(),\n",
    "            nn.Dropout(0.4),\n",
    "        )\n",
    "        \n",
    "        self.flat = nn.Flatten()\n",
    "        self.MLP =nn.Sequential(\n",
    "            nn.Linear(input_feature*64,64),\n",
    "            nn.BatchNorm1d(64),\n",
    "            nn.SiLU(),\n",
    "            nn.Dropout(0.4),\n",
    "            nn.Linear(64,128),\n",
    "            nn.BatchNorm1d(128),\n",
    "            nn.SiLU(),\n",
    "            nn.Dropout(0.4),\n",
    "            nn.Linear(128,256),\n",
    "            nn.BatchNorm1d(256),\n",
    "            nn.SiLU(),\n",
    "            nn.Dropout(0.4),\n",
    "            nn.Linear(256,512),\n",
    "            nn.BatchNorm1d(512),\n",
    "            nn.SiLU(),\n",
    "            nn.Dropout(0.4),\n",
    "            nn.Linear(512,256),\n",
    "            nn.BatchNorm1d(256),\n",
    "            nn.SiLU(),\n",
    "            nn.Dropout(0.4),\n",
    "            nn.Linear(256,128),\n",
    "            nn.BatchNorm1d(128),\n",
    "            nn.SiLU(),\n",
    "            nn.Dropout(0.4),\n",
    "            nn.Linear(128,8),\n",
    "            nn.BatchNorm1d(8),\n",
    "            nn.SiLU(),\n",
    "           \n",
    "        )\n",
    "        self.FinalOutPut = nn.Sequential(\n",
    "         \n",
    "            nn.Linear(8,1)\n",
    "        )\n",
    "        self.criterion = nn.MSELoss()\n",
    "        \n",
    "    def forward(self,_id,f_features ,Get_fea = False):\n",
    "        invest_embedding = self.id_embedding(_id).squeeze(dim=2)\n",
    "        \n",
    "        \n",
    "        _input =torch.cat((invest_embedding,f_features),axis =-1)\n",
    "        _input = self.dnn(_input)\n",
    "        _input = self.flat(_input)\n",
    "        feature = self.MLP(_input)\n",
    "        output= self.FinalOutPut(feature)\n",
    "        if(Get_fea):\n",
    "            return feature\n",
    "        else:\n",
    "            return output\n",
    "\n",
    "    def cal_Loss(self,y_hat,y):\n",
    "        return self.criterion(y_hat,y)"
   ]
  },
  {
   "cell_type": "code",
   "execution_count": 11,
   "metadata": {},
   "outputs": [],
   "source": [
    "class SimpleMLP(nn.Module):\n",
    "    def __init__(self,seq_len = 32,input_feature = 312):\n",
    "        super(SimpleMLP,self).__init__()\n",
    "        \n",
    "        self.id_embedding = nn.Embedding(5000,64)\n",
    "        self.feature_embed = nn.Sequential(\n",
    "            nn.Linear(300,256),\n",
    "            nn.SiLU(),\n",
    "            nn.Dropout(0.1),\n",
    "            nn.Linear(256,256),\n",
    "            nn.SiLU(),\n",
    "            nn.Dropout(0.1),\n",
    "            nn.Linear(256,256),\n",
    "            nn.SiLU(),\n",
    "            nn.Dropout(0.1),\n",
    "            \n",
    "        )\n",
    "        self.flat = nn.Flatten()\n",
    "        self.MLP =nn.Sequential(\n",
    "            nn.Linear(320,512),\n",
    "            nn.BatchNorm1d(512),\n",
    "            nn.SiLU(),\n",
    "            nn.Dropout(0.1),\n",
    "            nn.Linear(512,128),\n",
    "            nn.BatchNorm1d(128),\n",
    "            nn.SiLU(),\n",
    "            nn.Dropout(0.4),\n",
    "            nn.Linear(128,32),\n",
    "            nn.BatchNorm1d(32),\n",
    "            nn.SiLU(),\n",
    "            nn.Dropout(0.4),\n",
    "          \n",
    "           \n",
    "            \n",
    "        )\n",
    "        self.FinalOutPut = nn.Sequential(\n",
    "           \n",
    "            nn.Linear(32,1)\n",
    "        )\n",
    "        self.criterion = nn.MSELoss()\n",
    "        \n",
    "    def forward(self,_id,f_features, Get_fea=False ):\n",
    "        invest_embedding = self.id_embedding(_id).squeeze(dim=2)\n",
    "        invest_embedding = self.flat(invest_embedding)\n",
    "        f_features =self.flat(f_features)\n",
    "        f_features = self.feature_embed(f_features)\n",
    "        _input =torch.cat((invest_embedding,f_features),axis =-1)\n",
    "\n",
    "        \n",
    "        #print(_input.shape)\n",
    "        feature = self.MLP(_input)\n",
    "        output = self.FinalOutPut(feature)\n",
    "        if(Get_fea):\n",
    "            return feature\n",
    "        else:\n",
    "            return output\n",
    "\n",
    "    def cal_Loss(self,y_hat,y):\n",
    "        return self.criterion(y_hat,y)"
   ]
  },
  {
   "cell_type": "code",
   "execution_count": 12,
   "metadata": {},
   "outputs": [],
   "source": [
    "def get_corr(y,target):\n",
    "    y,target = y.reshape(-1),target.reshape(-1)\n",
    "    ymean,targetmean = torch.mean(y),torch.mean(target)\n",
    "    \n",
    "    vy = y-ymean\n",
    "    vt = target-targetmean\n",
    "    \n",
    "    corr = torch.sum(vy*vt)/(torch.sqrt(torch.sum(vy**2))* torch.sqrt(torch.sum(vt**2)))\n",
    "    return corr"
   ]
  },
  {
   "cell_type": "code",
   "execution_count": 13,
   "metadata": {},
   "outputs": [],
   "source": [
    "def train(model,trainLoader,valLoader, optimizer, scheduler, config, model_ind):\n",
    "    best_loss =1000\n",
    "    best_corr = 0\n",
    "    epochs =config[\"epoch\"]\n",
    "    for epoch in range(epochs):\n",
    "        batch_bar = tqdm(total = len(trainLoader),dynamic_ncols = True,leave =False,position = 0,desc = \"train\")\n",
    "        model.train()\n",
    "        train_total_loss = 0\n",
    "        for i,(x1,x2,y) in enumerate(trainLoader):\n",
    "            optimizer.zero_grad()\n",
    "            x1,x2,y = x1.cuda(),x2.cuda(),y.cuda()\n",
    "            y_hat = model(x1,x2)\n",
    "            y_hat = y_hat.reshape(-1,1)\n",
    "            y =y.reshape(-1,1)\n",
    "            loss = model.cal_Loss(y_hat,y)\n",
    "            train_total_loss+=float(loss.cpu())\n",
    "            batch_bar.set_postfix(\n",
    "                loss=\"{:.04f}\".format(float(train_total_loss / (i + 1))),\n",
    "                lr=\"{:.04f}\".format(float(optimizer.param_groups[0]['lr'])))\n",
    "            loss.backward()\n",
    "            optimizer.step()\n",
    "            scheduler.step()\n",
    "            batch_bar.update()\n",
    "        batch_bar.close()\n",
    "        \n",
    "        val_total_loss = 0\n",
    "        val_total_corr = 0\n",
    "        batch_bar = tqdm(total = len(valLoader),dynamic_ncols = True,leave =False,position = 0,desc = \"val\")\n",
    "        model.eval()\n",
    "        for i,(x1,x2,y) in enumerate(valLoader):\n",
    "            with torch.no_grad():\n",
    "                x1,x2,y = x1.cuda(),x2.cuda(),y.cuda()\n",
    "                y_hat = model(x1,x2)\n",
    "                y_hat = y_hat.reshape(-1,1)\n",
    "                y =y.reshape(-1,1)\n",
    "                loss = model.cal_Loss(y_hat,y)\n",
    "                \n",
    "\n",
    "                corr = get_corr(y_hat,y)\n",
    "                val_total_corr+=corr\n",
    "               \n",
    "                val_total_loss+=loss\n",
    "            batch_bar.set_postfix(\n",
    "                loss=\"{:.04f}\".format(float(val_total_loss / (i + 1))),\n",
    "                \n",
    "                corr=\"{:.04f}\".format(float(val_total_corr / (i + 1))),\n",
    "             )\n",
    "            batch_bar.update()\n",
    "        batch_bar.close()\n",
    "        val_loss = float(val_total_loss/len(valLoader))\n",
    "        corr = float(val_total_corr / len(valLoader))\n",
    "        if(corr>best_corr):\n",
    "            best_corr = corr\n",
    "            torch.save(model.state_dict(),config[\"store_path\"]+str(model_ind)+\".pth\")\n",
    "            print(\"successfully save model\")\n",
    "        \n",
    "        print(f\"Epoch {epoch+1}/{epochs}: train loss {float(train_total_loss / len(trainLoader)):0.04f}, Learning Rate {optimizer.param_groups[0]['lr']:0.04f}, val loss{float(val_total_loss/len(valLoader)):0.04f}, corr {float(val_total_corr / (i + 1)):0.04f}\")"
   ]
  },
  {
   "cell_type": "code",
   "execution_count": 14,
   "metadata": {},
   "outputs": [],
   "source": [
    "def test(model,testLoader,config,model_ind):\n",
    "    model.load_state_dict(torch.load(config[\"store_path\"]+str(model_ind)+\".pth\"))\n",
    "    model.eval()\n",
    "    test_total_loss = 0\n",
    "    test_total_corr = 0\n",
    "    batch_bar = tqdm(total = len(testLoader),dynamic_ncols = True,leave =False,position = 0,desc = \"Test\")\n",
    "    for i,(x1,x2,y) in enumerate(testLoader):\n",
    "        with torch.no_grad():\n",
    "            x1,x2,y = x1.cuda(),x2.cuda(),y.cuda()\n",
    "            y_hat = model(x1,x2)\n",
    "            y_hat = y_hat.reshape(-1,1)\n",
    "            y =y.reshape(-1,1)\n",
    "            loss = model.cal_Loss(y_hat,y)\n",
    "                \n",
    "\n",
    "            corr = get_corr(y_hat,y)\n",
    "            test_total_corr+=corr\n",
    "            test_total_loss+=loss\n",
    "        batch_bar.set_postfix(\n",
    "                test_loss=\"{:.04f}\".format(float(test_total_loss / (i + 1))),\n",
    "                \n",
    "                test_corr=\"{:.04f}\".format(float(test_total_corr / (i + 1))),\n",
    "             )\n",
    "        batch_bar.update()\n",
    "    batch_bar.close()\n",
    "    print(f\"test loss{float(test_total_loss/len(testLoader)):0.04f},test corr {float(test_total_corr / len(testLoader)):0.04f}\")"
   ]
  },
  {
   "cell_type": "code",
   "execution_count": 15,
   "metadata": {},
   "outputs": [
    {
     "name": "stdout",
     "output_type": "stream",
     "text": [
      "succesfully load data with shape x : (2984339, 300) | shape y :torch.Size([2984339]) | get time data is: True\n",
      "succesfully load data with shape x : (141363, 300) | shape y :torch.Size([141363]) | get time data is: True\n",
      "succesfully load data with shape x : (15708, 300) | shape y :torch.Size([15708]) | get time data is: True\n"
     ]
    }
   ],
   "source": [
    "trainLoader,valLoader,testLoader = LoadData(DNN_config,get_time_data = True)"
   ]
  },
  {
   "cell_type": "code",
   "execution_count": 16,
   "metadata": {},
   "outputs": [],
   "source": [
    "def Main(trainLoader,valLoader,testLoader):\n",
    "    #set all parameter\n",
    "   \n",
    "   \n",
    "    \n",
    "    \n",
    "    \n",
    "    \n",
    "    \n",
    "    \n",
    "    \n",
    "    \n",
    "   \n",
    "   \n",
    "    print(\"///////////Start Train ATT Model//////////\")\n",
    "    for i in range(3):\n",
    "        print(\"_____Att\" + str(i)+\"_____\")\n",
    "        model = SimpleAttention(Att_config[\"context\"],312).cuda()\n",
    "        model.train()\n",
    "        optimizer = getattr(torch.optim,Att_config[\"optimz\"])(model.parameters(),lr =Att_config[\"learning_rate\"])\n",
    "        scheduler = torch.optim.lr_scheduler.CosineAnnealingLR(optimizer, T_max=(len(trainLoader) * Att_config[\"epoch\"]))\n",
    "        #params\n",
    "        num_para =0\n",
    "        for p in model.parameters():\n",
    "            num_para+=p.numel()\n",
    "        print(f'Number of params : {num_para}')\n",
    "        train(model,trainLoader,valLoader,optimizer,scheduler,Att_config,i)\n",
    "    print(\"///////////Start Train MLP Model//////////\")\n",
    "    for i in range(4):\n",
    "        print(\"_____MLP\" + str(i)+\"_____\")\n",
    "        MLP_model = SimpleMLP(MLP_config[\"context\"],312).cuda()\n",
    "        MLP_model.train()\n",
    "        MLP_optimizer = getattr(torch.optim,MLP_config[\"optimz\"])(MLP_model.parameters(),lr =MLP_config[\"learning_rate\"])\n",
    "        MLP_scheduler = torch.optim.lr_scheduler.CosineAnnealingLR(MLP_optimizer, T_max=(len(trainLoader) * MLP_config[\"epoch\"]))\n",
    "        #params\n",
    "        num_para =0\n",
    "        for p in MLP_model.parameters():\n",
    "            num_para+=p.numel()\n",
    "        print(f'Number of params : {num_para}')\n",
    "        train(MLP_model,trainLoader,valLoader,MLP_optimizer,MLP_scheduler,MLP_config,i)\n",
    "    print(\"///////////Start Train DNN Model//////////\")\n",
    "    for i in range(3):\n",
    "        print(\"_____DNN\" + str(i)+\"_____\")\n",
    "        DNN_model = DNN(DNN_config[\"context\"],312).cuda()\n",
    "        DNN_model.train()\n",
    "        DNN_optimizer = getattr(torch.optim,DNN_config[\"optimz\"])(DNN_model.parameters(),lr =DNN_config[\"learning_rate\"])\n",
    "        DNN_scheduler = torch.optim.lr_scheduler.CosineAnnealingLR(DNN_optimizer, T_max=(len(trainLoader) * DNN_config[\"epoch\"]))\n",
    "        #params\n",
    "        num_para =0\n",
    "        for p in DNN_model.parameters():\n",
    "            num_para+=p.numel()\n",
    "        print(f'Number of params : {num_para}')\n",
    "        train(DNN_model,trainLoader,valLoader,DNN_optimizer,DNN_scheduler,DNN_config,i)\n",
    "    \n",
    "    print(\"//////////Start test///////////\")\n",
    "    for i in range(3):\n",
    "        print(\"----Attention-----\")\n",
    "        test(model,testLoader,Att_config,i)\n",
    "        print(\"---- MLP Model-----\")\n",
    "        test(MLP_model,testLoader,MLP_config,i)\n",
    "        print(\"----DNN Model-----\")\n",
    "        test(DNN_model,testLoader,DNN_config,i)\n"
   ]
  },
  {
   "cell_type": "code",
   "execution_count": 17,
   "metadata": {},
   "outputs": [],
   "source": [
    "Att_config={\"epoch\" : 30,\"batch_size\":32768,\"learning_rate\":0.02,\"optimz\":\"Adam\",\"store_path\":\"/root/Ubiquant/Att_\",\"context\":1}"
   ]
  },
  {
   "cell_type": "code",
   "execution_count": 18,
   "metadata": {},
   "outputs": [],
   "source": [
    "MLP_config={\"epoch\" :20,\"batch_size\":32768,\"learning_rate\":0.02,\"optimz\":\"Adam\",\"store_path\":\"/root/Ubiquant/Mlp_\",\"context\":1}"
   ]
  },
  {
   "cell_type": "code",
   "execution_count": 19,
   "metadata": {},
   "outputs": [],
   "source": [
    "DNN_config={\"epoch\" :20,\"batch_size\":10000,\"learning_rate\":0.02,\"optimz\":\"Adam\",\"store_path\":\"/root/Ubiquant/Dnn_\",\"context\":1}"
   ]
  },
  {
   "cell_type": "code",
   "execution_count": 20,
   "metadata": {},
   "outputs": [
    {
     "name": "stdout",
     "output_type": "stream",
     "text": [
      "///////////Start Train ATT Model//////////\n",
      "_____Att0_____\n"
     ]
    },
    {
     "name": "stderr",
     "output_type": "stream",
     "text": [
      "train:   0%|          | 0/298 [00:00<?, ?it/s]"
     ]
    },
    {
     "name": "stdout",
     "output_type": "stream",
     "text": [
      "Number of params : 6127905\n"
     ]
    },
    {
     "name": "stderr",
     "output_type": "stream",
     "text": [
      "train:   0%|          | 0/298 [00:00<?, ?it/s]                                  "
     ]
    },
    {
     "name": "stdout",
     "output_type": "stream",
     "text": [
      "successfully save model\n",
      "Epoch 1/30: train loss 0.8460, Learning Rate 0.0199, val loss0.8060, corr 0.1358\n"
     ]
    },
    {
     "name": "stderr",
     "output_type": "stream",
     "text": [
      "train:   0%|          | 0/298 [00:00<?, ?it/s]                                  "
     ]
    },
    {
     "name": "stdout",
     "output_type": "stream",
     "text": [
      "Epoch 2/30: train loss 0.8373, Learning Rate 0.0198, val loss0.8076, corr 0.1278\n"
     ]
    },
    {
     "name": "stderr",
     "output_type": "stream",
     "text": [
      "train:   0%|          | 0/298 [00:00<?, ?it/s]                                  "
     ]
    },
    {
     "name": "stdout",
     "output_type": "stream",
     "text": [
      "Epoch 3/30: train loss 0.8357, Learning Rate 0.0195, val loss0.8077, corr 0.1249\n"
     ]
    },
    {
     "name": "stderr",
     "output_type": "stream",
     "text": [
      "train:   0%|          | 0/298 [00:00<?, ?it/s]                                  "
     ]
    },
    {
     "name": "stdout",
     "output_type": "stream",
     "text": [
      "successfully save model\n",
      "Epoch 4/30: train loss 0.8347, Learning Rate 0.0191, val loss0.8046, corr 0.1363\n"
     ]
    },
    {
     "name": "stderr",
     "output_type": "stream",
     "text": [
      "train:   0%|          | 0/298 [00:00<?, ?it/s]                                  "
     ]
    },
    {
     "name": "stdout",
     "output_type": "stream",
     "text": [
      "Epoch 5/30: train loss 0.8332, Learning Rate 0.0187, val loss0.8089, corr 0.1339\n"
     ]
    },
    {
     "name": "stderr",
     "output_type": "stream",
     "text": [
      "train:   0%|          | 0/298 [00:00<?, ?it/s]                                  "
     ]
    },
    {
     "name": "stdout",
     "output_type": "stream",
     "text": [
      "successfully save model\n",
      "Epoch 6/30: train loss 0.8329, Learning Rate 0.0181, val loss0.8029, corr 0.1433\n"
     ]
    },
    {
     "name": "stderr",
     "output_type": "stream",
     "text": [
      "train:   0%|          | 0/298 [00:00<?, ?it/s]                                  "
     ]
    },
    {
     "name": "stdout",
     "output_type": "stream",
     "text": [
      "successfully save model\n",
      "Epoch 7/30: train loss 0.8313, Learning Rate 0.0174, val loss0.8017, corr 0.1450\n"
     ]
    },
    {
     "name": "stderr",
     "output_type": "stream",
     "text": [
      "train:   0%|          | 0/298 [00:00<?, ?it/s]                                  "
     ]
    },
    {
     "name": "stdout",
     "output_type": "stream",
     "text": [
      "successfully save model\n",
      "Epoch 8/30: train loss 0.8310, Learning Rate 0.0167, val loss0.8021, corr 0.1466\n"
     ]
    },
    {
     "name": "stderr",
     "output_type": "stream",
     "text": [
      "train:   0%|          | 0/298 [00:00<?, ?it/s]                                  "
     ]
    },
    {
     "name": "stdout",
     "output_type": "stream",
     "text": [
      "Epoch 9/30: train loss 0.8310, Learning Rate 0.0159, val loss0.8063, corr 0.1466\n"
     ]
    },
    {
     "name": "stderr",
     "output_type": "stream",
     "text": [
      "train:   0%|          | 0/298 [00:00<?, ?it/s]                                  "
     ]
    },
    {
     "name": "stdout",
     "output_type": "stream",
     "text": [
      "successfully save model\n",
      "Epoch 10/30: train loss 0.8301, Learning Rate 0.0150, val loss0.8023, corr 0.1525\n"
     ]
    },
    {
     "name": "stderr",
     "output_type": "stream",
     "text": [
      "train:   0%|          | 0/298 [00:00<?, ?it/s]                                  "
     ]
    },
    {
     "name": "stdout",
     "output_type": "stream",
     "text": [
      "Epoch 11/30: train loss 0.8290, Learning Rate 0.0141, val loss0.8042, corr 0.1409\n"
     ]
    },
    {
     "name": "stderr",
     "output_type": "stream",
     "text": [
      "train:   0%|          | 0/298 [00:00<?, ?it/s]                                  "
     ]
    },
    {
     "name": "stdout",
     "output_type": "stream",
     "text": [
      "Epoch 12/30: train loss 0.8287, Learning Rate 0.0131, val loss0.8046, corr 0.1424\n"
     ]
    },
    {
     "name": "stderr",
     "output_type": "stream",
     "text": [
      "train:   0%|          | 0/298 [00:00<?, ?it/s]                                  "
     ]
    },
    {
     "name": "stdout",
     "output_type": "stream",
     "text": [
      "Epoch 13/30: train loss 0.8281, Learning Rate 0.0121, val loss0.8064, corr 0.1372\n"
     ]
    },
    {
     "name": "stderr",
     "output_type": "stream",
     "text": [
      "train:   0%|          | 0/298 [00:00<?, ?it/s]                                  "
     ]
    },
    {
     "name": "stdout",
     "output_type": "stream",
     "text": [
      "Epoch 14/30: train loss 0.8276, Learning Rate 0.0110, val loss0.8019, corr 0.1506\n"
     ]
    },
    {
     "name": "stderr",
     "output_type": "stream",
     "text": [
      "train:   0%|          | 0/298 [00:00<?, ?it/s]                                  "
     ]
    },
    {
     "name": "stdout",
     "output_type": "stream",
     "text": [
      "successfully save model\n",
      "Epoch 15/30: train loss 0.8267, Learning Rate 0.0100, val loss0.8000, corr 0.1604\n"
     ]
    },
    {
     "name": "stderr",
     "output_type": "stream",
     "text": [
      "train:   0%|          | 0/298 [00:00<?, ?it/s]                                  "
     ]
    },
    {
     "name": "stdout",
     "output_type": "stream",
     "text": [
      "Epoch 16/30: train loss 0.8262, Learning Rate 0.0090, val loss0.8011, corr 0.1526\n"
     ]
    },
    {
     "name": "stderr",
     "output_type": "stream",
     "text": [
      "train:   0%|          | 0/298 [00:00<?, ?it/s]                                  "
     ]
    },
    {
     "name": "stdout",
     "output_type": "stream",
     "text": [
      "Epoch 17/30: train loss 0.8255, Learning Rate 0.0079, val loss0.7989, corr 0.1581\n"
     ]
    },
    {
     "name": "stderr",
     "output_type": "stream",
     "text": [
      "train:   0%|          | 0/298 [00:00<?, ?it/s]                                  "
     ]
    },
    {
     "name": "stdout",
     "output_type": "stream",
     "text": [
      "successfully save model\n",
      "Epoch 18/30: train loss 0.8249, Learning Rate 0.0069, val loss0.8002, corr 0.1620\n"
     ]
    },
    {
     "name": "stderr",
     "output_type": "stream",
     "text": [
      "train:   0%|          | 0/298 [00:00<?, ?it/s]                                  "
     ]
    },
    {
     "name": "stdout",
     "output_type": "stream",
     "text": [
      "Epoch 19/30: train loss 0.8242, Learning Rate 0.0059, val loss0.7992, corr 0.1538\n"
     ]
    },
    {
     "name": "stderr",
     "output_type": "stream",
     "text": [
      "train:   0%|          | 0/298 [00:00<?, ?it/s]                                  "
     ]
    },
    {
     "name": "stdout",
     "output_type": "stream",
     "text": [
      "Epoch 20/30: train loss 0.8237, Learning Rate 0.0050, val loss0.7989, corr 0.1571\n"
     ]
    },
    {
     "name": "stderr",
     "output_type": "stream",
     "text": [
      "train:   0%|          | 0/298 [00:00<?, ?it/s]                                  "
     ]
    },
    {
     "name": "stdout",
     "output_type": "stream",
     "text": [
      "Epoch 21/30: train loss 0.8230, Learning Rate 0.0041, val loss0.7990, corr 0.1594\n"
     ]
    },
    {
     "name": "stderr",
     "output_type": "stream",
     "text": [
      "train:   0%|          | 0/298 [00:00<?, ?it/s]                                  "
     ]
    },
    {
     "name": "stdout",
     "output_type": "stream",
     "text": [
      "Epoch 22/30: train loss 0.8225, Learning Rate 0.0033, val loss0.8002, corr 0.1531\n"
     ]
    },
    {
     "name": "stderr",
     "output_type": "stream",
     "text": [
      "train:   0%|          | 0/298 [00:00<?, ?it/s]                                  "
     ]
    },
    {
     "name": "stdout",
     "output_type": "stream",
     "text": [
      "Epoch 23/30: train loss 0.8220, Learning Rate 0.0026, val loss0.7993, corr 0.1580\n"
     ]
    },
    {
     "name": "stderr",
     "output_type": "stream",
     "text": [
      "train:   0%|          | 0/298 [00:00<?, ?it/s]                                  "
     ]
    },
    {
     "name": "stdout",
     "output_type": "stream",
     "text": [
      "Epoch 24/30: train loss 0.8217, Learning Rate 0.0019, val loss0.7990, corr 0.1547\n"
     ]
    },
    {
     "name": "stderr",
     "output_type": "stream",
     "text": [
      "train:   0%|          | 0/298 [00:00<?, ?it/s]                                  "
     ]
    },
    {
     "name": "stdout",
     "output_type": "stream",
     "text": [
      "Epoch 25/30: train loss 0.8214, Learning Rate 0.0013, val loss0.7993, corr 0.1569\n"
     ]
    },
    {
     "name": "stderr",
     "output_type": "stream",
     "text": [
      "train:   0%|          | 0/298 [00:00<?, ?it/s]                                  "
     ]
    },
    {
     "name": "stdout",
     "output_type": "stream",
     "text": [
      "Epoch 26/30: train loss 0.8210, Learning Rate 0.0009, val loss0.8004, corr 0.1535\n"
     ]
    },
    {
     "name": "stderr",
     "output_type": "stream",
     "text": [
      "train:   0%|          | 0/298 [00:00<?, ?it/s]                                  "
     ]
    },
    {
     "name": "stdout",
     "output_type": "stream",
     "text": [
      "Epoch 27/30: train loss 0.8208, Learning Rate 0.0005, val loss0.7993, corr 0.1570\n"
     ]
    },
    {
     "name": "stderr",
     "output_type": "stream",
     "text": [
      "train:   0%|          | 0/298 [00:00<?, ?it/s]                                  "
     ]
    },
    {
     "name": "stdout",
     "output_type": "stream",
     "text": [
      "Epoch 28/30: train loss 0.8208, Learning Rate 0.0002, val loss0.8001, corr 0.1562\n"
     ]
    },
    {
     "name": "stderr",
     "output_type": "stream",
     "text": [
      "train:   0%|          | 0/298 [00:00<?, ?it/s]                                  "
     ]
    },
    {
     "name": "stdout",
     "output_type": "stream",
     "text": [
      "Epoch 29/30: train loss 0.8205, Learning Rate 0.0001, val loss0.7996, corr 0.1573\n"
     ]
    },
    {
     "name": "stderr",
     "output_type": "stream",
     "text": [
      "train:   0%|          | 0/298 [00:00<?, ?it/s]                                  "
     ]
    },
    {
     "name": "stdout",
     "output_type": "stream",
     "text": [
      "Epoch 30/30: train loss 0.8207, Learning Rate 0.0000, val loss0.7999, corr 0.1562\n",
      "_____Att1_____\n",
      "Number of params : 6127905\n"
     ]
    },
    {
     "name": "stderr",
     "output_type": "stream",
     "text": [
      "train:   0%|          | 0/298 [00:00<?, ?it/s]                                  "
     ]
    },
    {
     "name": "stdout",
     "output_type": "stream",
     "text": [
      "successfully save model\n",
      "Epoch 1/30: train loss 0.8454, Learning Rate 0.0199, val loss0.8181, corr 0.1241\n"
     ]
    },
    {
     "name": "stderr",
     "output_type": "stream",
     "text": [
      "train:   0%|          | 0/298 [00:00<?, ?it/s]                                  "
     ]
    },
    {
     "name": "stdout",
     "output_type": "stream",
     "text": [
      "successfully save model\n",
      "Epoch 2/30: train loss 0.8371, Learning Rate 0.0198, val loss0.8068, corr 0.1270\n"
     ]
    },
    {
     "name": "stderr",
     "output_type": "stream",
     "text": [
      "train:   0%|          | 0/298 [00:00<?, ?it/s]                                  "
     ]
    },
    {
     "name": "stdout",
     "output_type": "stream",
     "text": [
      "successfully save model\n",
      "Epoch 3/30: train loss 0.8356, Learning Rate 0.0195, val loss0.8067, corr 0.1293\n"
     ]
    },
    {
     "name": "stderr",
     "output_type": "stream",
     "text": [
      "train:   0%|          | 0/298 [00:00<?, ?it/s]                                  "
     ]
    },
    {
     "name": "stdout",
     "output_type": "stream",
     "text": [
      "successfully save model\n",
      "Epoch 4/30: train loss 0.8342, Learning Rate 0.0191, val loss0.8055, corr 0.1358\n"
     ]
    },
    {
     "name": "stderr",
     "output_type": "stream",
     "text": [
      "train:   0%|          | 0/298 [00:00<?, ?it/s]                                  "
     ]
    },
    {
     "name": "stdout",
     "output_type": "stream",
     "text": [
      "successfully save model\n",
      "Epoch 5/30: train loss 0.8328, Learning Rate 0.0187, val loss0.8072, corr 0.1362\n"
     ]
    },
    {
     "name": "stderr",
     "output_type": "stream",
     "text": [
      "train:   0%|          | 0/298 [00:00<?, ?it/s]                                  "
     ]
    },
    {
     "name": "stdout",
     "output_type": "stream",
     "text": [
      "successfully save model\n",
      "Epoch 6/30: train loss 0.8321, Learning Rate 0.0181, val loss0.8039, corr 0.1400\n"
     ]
    },
    {
     "name": "stderr",
     "output_type": "stream",
     "text": [
      "train:   0%|          | 0/298 [00:00<?, ?it/s]                                  "
     ]
    },
    {
     "name": "stdout",
     "output_type": "stream",
     "text": [
      "Epoch 7/30: train loss 0.8314, Learning Rate 0.0174, val loss0.8041, corr 0.1397\n"
     ]
    },
    {
     "name": "stderr",
     "output_type": "stream",
     "text": [
      "train:   0%|          | 0/298 [00:00<?, ?it/s]                                  "
     ]
    },
    {
     "name": "stdout",
     "output_type": "stream",
     "text": [
      "Epoch 8/30: train loss 0.8313, Learning Rate 0.0167, val loss0.8052, corr 0.1397\n"
     ]
    },
    {
     "name": "stderr",
     "output_type": "stream",
     "text": [
      "train:   0%|          | 0/298 [00:00<?, ?it/s]                                  "
     ]
    },
    {
     "name": "stdout",
     "output_type": "stream",
     "text": [
      "successfully save model\n",
      "Epoch 9/30: train loss 0.8310, Learning Rate 0.0159, val loss0.8038, corr 0.1430\n"
     ]
    },
    {
     "name": "stderr",
     "output_type": "stream",
     "text": [
      "train:   0%|          | 0/298 [00:00<?, ?it/s]                                  "
     ]
    },
    {
     "name": "stdout",
     "output_type": "stream",
     "text": [
      "Epoch 10/30: train loss 0.8293, Learning Rate 0.0150, val loss0.8033, corr 0.1412\n"
     ]
    },
    {
     "name": "stderr",
     "output_type": "stream",
     "text": [
      "train:   0%|          | 0/298 [00:00<?, ?it/s]                                  "
     ]
    },
    {
     "name": "stdout",
     "output_type": "stream",
     "text": [
      "successfully save model\n",
      "Epoch 11/30: train loss 0.8287, Learning Rate 0.0141, val loss0.8031, corr 0.1456\n"
     ]
    },
    {
     "name": "stderr",
     "output_type": "stream",
     "text": [
      "train:   0%|          | 0/298 [00:00<?, ?it/s]                                  "
     ]
    },
    {
     "name": "stdout",
     "output_type": "stream",
     "text": [
      "successfully save model\n",
      "Epoch 12/30: train loss 0.8279, Learning Rate 0.0131, val loss0.8025, corr 0.1469\n"
     ]
    },
    {
     "name": "stderr",
     "output_type": "stream",
     "text": [
      "train:   0%|          | 0/298 [00:00<?, ?it/s]                                  "
     ]
    },
    {
     "name": "stdout",
     "output_type": "stream",
     "text": [
      "Epoch 13/30: train loss 0.8278, Learning Rate 0.0121, val loss0.8039, corr 0.1455\n"
     ]
    },
    {
     "name": "stderr",
     "output_type": "stream",
     "text": [
      "train:   0%|          | 0/298 [00:00<?, ?it/s]                                  "
     ]
    },
    {
     "name": "stdout",
     "output_type": "stream",
     "text": [
      "successfully save model\n",
      "Epoch 14/30: train loss 0.8270, Learning Rate 0.0110, val loss0.8005, corr 0.1547\n"
     ]
    },
    {
     "name": "stderr",
     "output_type": "stream",
     "text": [
      "train:   0%|          | 0/298 [00:00<?, ?it/s]                                  "
     ]
    },
    {
     "name": "stdout",
     "output_type": "stream",
     "text": [
      "Epoch 15/30: train loss 0.8264, Learning Rate 0.0100, val loss0.8026, corr 0.1473\n"
     ]
    },
    {
     "name": "stderr",
     "output_type": "stream",
     "text": [
      "train:   0%|          | 0/298 [00:00<?, ?it/s]                                  "
     ]
    },
    {
     "name": "stdout",
     "output_type": "stream",
     "text": [
      "Epoch 16/30: train loss 0.8262, Learning Rate 0.0090, val loss0.8016, corr 0.1480\n"
     ]
    },
    {
     "name": "stderr",
     "output_type": "stream",
     "text": [
      "train:   0%|          | 0/298 [00:00<?, ?it/s]                                  "
     ]
    },
    {
     "name": "stdout",
     "output_type": "stream",
     "text": [
      "Epoch 17/30: train loss 0.8256, Learning Rate 0.0079, val loss0.8003, corr 0.1542\n"
     ]
    },
    {
     "name": "stderr",
     "output_type": "stream",
     "text": [
      "train:   0%|          | 0/298 [00:00<?, ?it/s]                                  "
     ]
    },
    {
     "name": "stdout",
     "output_type": "stream",
     "text": [
      "Epoch 18/30: train loss 0.8250, Learning Rate 0.0069, val loss0.8000, corr 0.1521\n"
     ]
    },
    {
     "name": "stderr",
     "output_type": "stream",
     "text": [
      "train:   0%|          | 0/298 [00:00<?, ?it/s]                                  "
     ]
    },
    {
     "name": "stdout",
     "output_type": "stream",
     "text": [
      "Epoch 19/30: train loss 0.8240, Learning Rate 0.0059, val loss0.8006, corr 0.1519\n"
     ]
    },
    {
     "name": "stderr",
     "output_type": "stream",
     "text": [
      "train:   0%|          | 0/298 [00:00<?, ?it/s]                                  "
     ]
    },
    {
     "name": "stdout",
     "output_type": "stream",
     "text": [
      "Epoch 20/30: train loss 0.8237, Learning Rate 0.0050, val loss0.8022, corr 0.1506\n"
     ]
    },
    {
     "name": "stderr",
     "output_type": "stream",
     "text": [
      "train:   0%|          | 0/298 [00:00<?, ?it/s]                                  "
     ]
    },
    {
     "name": "stdout",
     "output_type": "stream",
     "text": [
      "Epoch 21/30: train loss 0.8235, Learning Rate 0.0041, val loss0.8009, corr 0.1528\n"
     ]
    },
    {
     "name": "stderr",
     "output_type": "stream",
     "text": [
      "train:   0%|          | 0/298 [00:00<?, ?it/s]                                  "
     ]
    },
    {
     "name": "stdout",
     "output_type": "stream",
     "text": [
      "Epoch 22/30: train loss 0.8226, Learning Rate 0.0033, val loss0.7997, corr 0.1541\n"
     ]
    },
    {
     "name": "stderr",
     "output_type": "stream",
     "text": [
      "train:   0%|          | 0/298 [00:00<?, ?it/s]                                  "
     ]
    },
    {
     "name": "stdout",
     "output_type": "stream",
     "text": [
      "Epoch 23/30: train loss 0.8223, Learning Rate 0.0026, val loss0.8014, corr 0.1543\n"
     ]
    },
    {
     "name": "stderr",
     "output_type": "stream",
     "text": [
      "train:   0%|          | 0/298 [00:00<?, ?it/s]                                  "
     ]
    },
    {
     "name": "stdout",
     "output_type": "stream",
     "text": [
      "Epoch 24/30: train loss 0.8218, Learning Rate 0.0019, val loss0.7998, corr 0.1532\n"
     ]
    },
    {
     "name": "stderr",
     "output_type": "stream",
     "text": [
      "train:   0%|          | 0/298 [00:00<?, ?it/s]                                  "
     ]
    },
    {
     "name": "stdout",
     "output_type": "stream",
     "text": [
      "Epoch 25/30: train loss 0.8216, Learning Rate 0.0013, val loss0.8015, corr 0.1500\n"
     ]
    },
    {
     "name": "stderr",
     "output_type": "stream",
     "text": [
      "train:   0%|          | 0/298 [00:00<?, ?it/s]                                  "
     ]
    },
    {
     "name": "stdout",
     "output_type": "stream",
     "text": [
      "Epoch 26/30: train loss 0.8213, Learning Rate 0.0009, val loss0.7995, corr 0.1532\n"
     ]
    },
    {
     "name": "stderr",
     "output_type": "stream",
     "text": [
      "train:   0%|          | 0/298 [00:00<?, ?it/s]                                  "
     ]
    },
    {
     "name": "stdout",
     "output_type": "stream",
     "text": [
      "Epoch 27/30: train loss 0.8212, Learning Rate 0.0005, val loss0.8008, corr 0.1522\n"
     ]
    },
    {
     "name": "stderr",
     "output_type": "stream",
     "text": [
      "train:   0%|          | 0/298 [00:00<?, ?it/s]                                  "
     ]
    },
    {
     "name": "stdout",
     "output_type": "stream",
     "text": [
      "Epoch 28/30: train loss 0.8208, Learning Rate 0.0002, val loss0.7999, corr 0.1535\n"
     ]
    },
    {
     "name": "stderr",
     "output_type": "stream",
     "text": [
      "train:   0%|          | 0/298 [00:00<?, ?it/s]                                  "
     ]
    },
    {
     "name": "stdout",
     "output_type": "stream",
     "text": [
      "Epoch 29/30: train loss 0.8207, Learning Rate 0.0001, val loss0.7992, corr 0.1541\n"
     ]
    },
    {
     "name": "stderr",
     "output_type": "stream",
     "text": [
      "train:   0%|          | 0/298 [00:00<?, ?it/s]                                  "
     ]
    },
    {
     "name": "stdout",
     "output_type": "stream",
     "text": [
      "Epoch 30/30: train loss 0.8207, Learning Rate 0.0000, val loss0.8001, corr 0.1537\n",
      "_____Att2_____\n",
      "Number of params : 6127905\n"
     ]
    },
    {
     "name": "stderr",
     "output_type": "stream",
     "text": [
      "train:   0%|          | 0/298 [00:00<?, ?it/s]                                  "
     ]
    },
    {
     "name": "stdout",
     "output_type": "stream",
     "text": [
      "successfully save model\n",
      "Epoch 1/30: train loss 0.8443, Learning Rate 0.0199, val loss0.8072, corr 0.1252\n"
     ]
    },
    {
     "name": "stderr",
     "output_type": "stream",
     "text": [
      "train:   0%|          | 0/298 [00:00<?, ?it/s]                                  "
     ]
    },
    {
     "name": "stdout",
     "output_type": "stream",
     "text": [
      "successfully save model\n",
      "Epoch 2/30: train loss 0.8370, Learning Rate 0.0198, val loss0.8058, corr 0.1305\n"
     ]
    },
    {
     "name": "stderr",
     "output_type": "stream",
     "text": [
      "train:   0%|          | 0/298 [00:00<?, ?it/s]                                  "
     ]
    },
    {
     "name": "stdout",
     "output_type": "stream",
     "text": [
      "Epoch 3/30: train loss 0.8352, Learning Rate 0.0195, val loss0.8063, corr 0.1257\n"
     ]
    },
    {
     "name": "stderr",
     "output_type": "stream",
     "text": [
      "train:   0%|          | 0/298 [00:00<?, ?it/s]                                  "
     ]
    },
    {
     "name": "stdout",
     "output_type": "stream",
     "text": [
      "successfully save model\n",
      "Epoch 4/30: train loss 0.8346, Learning Rate 0.0191, val loss0.8064, corr 0.1347\n"
     ]
    },
    {
     "name": "stderr",
     "output_type": "stream",
     "text": [
      "train:   0%|          | 0/298 [00:00<?, ?it/s]                                  "
     ]
    },
    {
     "name": "stdout",
     "output_type": "stream",
     "text": [
      "Epoch 5/30: train loss 0.8339, Learning Rate 0.0187, val loss0.8080, corr 0.1335\n"
     ]
    },
    {
     "name": "stderr",
     "output_type": "stream",
     "text": [
      "train:   0%|          | 0/298 [00:00<?, ?it/s]                                  "
     ]
    },
    {
     "name": "stdout",
     "output_type": "stream",
     "text": [
      "Epoch 6/30: train loss 0.8336, Learning Rate 0.0181, val loss0.8056, corr 0.1314\n"
     ]
    },
    {
     "name": "stderr",
     "output_type": "stream",
     "text": [
      "train:   0%|          | 0/298 [00:00<?, ?it/s]                                  "
     ]
    },
    {
     "name": "stdout",
     "output_type": "stream",
     "text": [
      "Epoch 7/30: train loss 0.8325, Learning Rate 0.0174, val loss0.8059, corr 0.1307\n"
     ]
    },
    {
     "name": "stderr",
     "output_type": "stream",
     "text": [
      "train:   0%|          | 0/298 [00:00<?, ?it/s]                                  "
     ]
    },
    {
     "name": "stdout",
     "output_type": "stream",
     "text": [
      "Epoch 8/30: train loss 0.8319, Learning Rate 0.0167, val loss0.8070, corr 0.1310\n"
     ]
    },
    {
     "name": "stderr",
     "output_type": "stream",
     "text": [
      "train:   0%|          | 0/298 [00:00<?, ?it/s]                                  "
     ]
    },
    {
     "name": "stdout",
     "output_type": "stream",
     "text": [
      "successfully save model\n",
      "Epoch 9/30: train loss 0.8309, Learning Rate 0.0159, val loss0.8057, corr 0.1355\n"
     ]
    },
    {
     "name": "stderr",
     "output_type": "stream",
     "text": [
      "train:   0%|          | 0/298 [00:00<?, ?it/s]                                  "
     ]
    },
    {
     "name": "stdout",
     "output_type": "stream",
     "text": [
      "successfully save model\n",
      "Epoch 10/30: train loss 0.8304, Learning Rate 0.0150, val loss0.8035, corr 0.1429\n"
     ]
    },
    {
     "name": "stderr",
     "output_type": "stream",
     "text": [
      "train:   0%|          | 0/298 [00:00<?, ?it/s]                                  "
     ]
    },
    {
     "name": "stdout",
     "output_type": "stream",
     "text": [
      "successfully save model\n",
      "Epoch 11/30: train loss 0.8296, Learning Rate 0.0141, val loss0.8027, corr 0.1433\n"
     ]
    },
    {
     "name": "stderr",
     "output_type": "stream",
     "text": [
      "train:   0%|          | 0/298 [00:00<?, ?it/s]                                  "
     ]
    },
    {
     "name": "stdout",
     "output_type": "stream",
     "text": [
      "successfully save model\n",
      "Epoch 12/30: train loss 0.8290, Learning Rate 0.0131, val loss0.8025, corr 0.1459\n"
     ]
    },
    {
     "name": "stderr",
     "output_type": "stream",
     "text": [
      "train:   0%|          | 0/298 [00:00<?, ?it/s]                                  "
     ]
    },
    {
     "name": "stdout",
     "output_type": "stream",
     "text": [
      "Epoch 13/30: train loss 0.8285, Learning Rate 0.0121, val loss0.8040, corr 0.1454\n"
     ]
    },
    {
     "name": "stderr",
     "output_type": "stream",
     "text": [
      "train:   0%|          | 0/298 [00:00<?, ?it/s]                                  "
     ]
    },
    {
     "name": "stdout",
     "output_type": "stream",
     "text": [
      "Epoch 14/30: train loss 0.8278, Learning Rate 0.0110, val loss0.8023, corr 0.1395\n"
     ]
    },
    {
     "name": "stderr",
     "output_type": "stream",
     "text": [
      "train:   0%|          | 0/298 [00:00<?, ?it/s]                                  "
     ]
    },
    {
     "name": "stdout",
     "output_type": "stream",
     "text": [
      "Epoch 15/30: train loss 0.8274, Learning Rate 0.0100, val loss0.8024, corr 0.1454\n"
     ]
    },
    {
     "name": "stderr",
     "output_type": "stream",
     "text": [
      "train:   0%|          | 0/298 [00:00<?, ?it/s]                                  "
     ]
    },
    {
     "name": "stdout",
     "output_type": "stream",
     "text": [
      "successfully save model\n",
      "Epoch 16/30: train loss 0.8265, Learning Rate 0.0090, val loss0.8018, corr 0.1480\n"
     ]
    },
    {
     "name": "stderr",
     "output_type": "stream",
     "text": [
      "train:   0%|          | 0/298 [00:00<?, ?it/s]                                  "
     ]
    },
    {
     "name": "stdout",
     "output_type": "stream",
     "text": [
      "successfully save model\n",
      "Epoch 17/30: train loss 0.8261, Learning Rate 0.0079, val loss0.8015, corr 0.1512\n"
     ]
    },
    {
     "name": "stderr",
     "output_type": "stream",
     "text": [
      "train:   0%|          | 0/298 [00:00<?, ?it/s]                                  "
     ]
    },
    {
     "name": "stdout",
     "output_type": "stream",
     "text": [
      "Epoch 18/30: train loss 0.8253, Learning Rate 0.0069, val loss0.8006, corr 0.1510\n"
     ]
    },
    {
     "name": "stderr",
     "output_type": "stream",
     "text": [
      "train:   0%|          | 0/298 [00:00<?, ?it/s]                                  "
     ]
    },
    {
     "name": "stdout",
     "output_type": "stream",
     "text": [
      "Epoch 19/30: train loss 0.8247, Learning Rate 0.0059, val loss0.8013, corr 0.1505\n"
     ]
    },
    {
     "name": "stderr",
     "output_type": "stream",
     "text": [
      "train:   0%|          | 0/298 [00:00<?, ?it/s]                                  "
     ]
    },
    {
     "name": "stdout",
     "output_type": "stream",
     "text": [
      "Epoch 20/30: train loss 0.8242, Learning Rate 0.0050, val loss0.8014, corr 0.1468\n"
     ]
    },
    {
     "name": "stderr",
     "output_type": "stream",
     "text": [
      "train:   0%|          | 0/298 [00:00<?, ?it/s]                                  "
     ]
    },
    {
     "name": "stdout",
     "output_type": "stream",
     "text": [
      "Epoch 21/30: train loss 0.8237, Learning Rate 0.0041, val loss0.8018, corr 0.1482\n"
     ]
    },
    {
     "name": "stderr",
     "output_type": "stream",
     "text": [
      "train:   0%|          | 0/298 [00:00<?, ?it/s]                                  "
     ]
    },
    {
     "name": "stdout",
     "output_type": "stream",
     "text": [
      "successfully save model\n",
      "Epoch 22/30: train loss 0.8230, Learning Rate 0.0033, val loss0.7988, corr 0.1530\n"
     ]
    },
    {
     "name": "stderr",
     "output_type": "stream",
     "text": [
      "train:   0%|          | 0/298 [00:00<?, ?it/s]                                  "
     ]
    },
    {
     "name": "stdout",
     "output_type": "stream",
     "text": [
      "Epoch 23/30: train loss 0.8223, Learning Rate 0.0026, val loss0.8020, corr 0.1484\n"
     ]
    },
    {
     "name": "stderr",
     "output_type": "stream",
     "text": [
      "train:   0%|          | 0/298 [00:00<?, ?it/s]                                  "
     ]
    },
    {
     "name": "stdout",
     "output_type": "stream",
     "text": [
      "Epoch 24/30: train loss 0.8221, Learning Rate 0.0019, val loss0.8013, corr 0.1487\n"
     ]
    },
    {
     "name": "stderr",
     "output_type": "stream",
     "text": [
      "train:   0%|          | 0/298 [00:00<?, ?it/s]                                  "
     ]
    },
    {
     "name": "stdout",
     "output_type": "stream",
     "text": [
      "Epoch 25/30: train loss 0.8216, Learning Rate 0.0013, val loss0.8000, corr 0.1523\n"
     ]
    },
    {
     "name": "stderr",
     "output_type": "stream",
     "text": [
      "train:   0%|          | 0/298 [00:00<?, ?it/s]                                  "
     ]
    },
    {
     "name": "stdout",
     "output_type": "stream",
     "text": [
      "Epoch 26/30: train loss 0.8217, Learning Rate 0.0009, val loss0.8004, corr 0.1520\n"
     ]
    },
    {
     "name": "stderr",
     "output_type": "stream",
     "text": [
      "train:   0%|          | 0/298 [00:00<?, ?it/s]                                  "
     ]
    },
    {
     "name": "stdout",
     "output_type": "stream",
     "text": [
      "Epoch 27/30: train loss 0.8210, Learning Rate 0.0005, val loss0.8016, corr 0.1506\n"
     ]
    },
    {
     "name": "stderr",
     "output_type": "stream",
     "text": [
      "train:   0%|          | 0/298 [00:00<?, ?it/s]                                  "
     ]
    },
    {
     "name": "stdout",
     "output_type": "stream",
     "text": [
      "Epoch 28/30: train loss 0.8210, Learning Rate 0.0002, val loss0.8020, corr 0.1513\n"
     ]
    },
    {
     "name": "stderr",
     "output_type": "stream",
     "text": [
      "train:   0%|          | 0/298 [00:00<?, ?it/s]                                  "
     ]
    },
    {
     "name": "stdout",
     "output_type": "stream",
     "text": [
      "Epoch 29/30: train loss 0.8210, Learning Rate 0.0001, val loss0.8017, corr 0.1507\n"
     ]
    },
    {
     "name": "stderr",
     "output_type": "stream",
     "text": [
      "train:   0%|          | 0/298 [00:00<?, ?it/s]                                  "
     ]
    },
    {
     "name": "stdout",
     "output_type": "stream",
     "text": [
      "Epoch 30/30: train loss 0.8211, Learning Rate 0.0000, val loss0.8012, corr 0.1510\n",
      "///////////Start Train MLP Model//////////\n",
      "_____MLP0_____\n",
      "Number of params : 764161\n"
     ]
    },
    {
     "name": "stderr",
     "output_type": "stream",
     "text": [
      "train:   0%|          | 0/298 [00:00<?, ?it/s]                                  "
     ]
    },
    {
     "name": "stdout",
     "output_type": "stream",
     "text": [
      "successfully save model\n",
      "Epoch 1/20: train loss 0.8401, Learning Rate 0.0199, val loss0.8054, corr 0.1343\n"
     ]
    },
    {
     "name": "stderr",
     "output_type": "stream",
     "text": [
      "train:   0%|          | 0/298 [00:00<?, ?it/s]                                  "
     ]
    },
    {
     "name": "stdout",
     "output_type": "stream",
     "text": [
      "Epoch 2/20: train loss 0.8286, Learning Rate 0.0195, val loss0.8049, corr 0.1307\n"
     ]
    },
    {
     "name": "stderr",
     "output_type": "stream",
     "text": [
      "train:   0%|          | 0/298 [00:00<?, ?it/s]                                  "
     ]
    },
    {
     "name": "stdout",
     "output_type": "stream",
     "text": [
      "successfully save model\n",
      "Epoch 3/20: train loss 0.8257, Learning Rate 0.0189, val loss0.8042, corr 0.1430\n"
     ]
    },
    {
     "name": "stderr",
     "output_type": "stream",
     "text": [
      "train:   0%|          | 0/298 [00:00<?, ?it/s]                                  "
     ]
    },
    {
     "name": "stdout",
     "output_type": "stream",
     "text": [
      "successfully save model\n",
      "Epoch 4/20: train loss 0.8235, Learning Rate 0.0181, val loss0.8007, corr 0.1541\n"
     ]
    },
    {
     "name": "stderr",
     "output_type": "stream",
     "text": [
      "train:   0%|          | 0/298 [00:00<?, ?it/s]                                  "
     ]
    },
    {
     "name": "stdout",
     "output_type": "stream",
     "text": [
      "Epoch 5/20: train loss 0.8210, Learning Rate 0.0171, val loss0.8011, corr 0.1537\n"
     ]
    },
    {
     "name": "stderr",
     "output_type": "stream",
     "text": [
      "train:   0%|          | 0/298 [00:00<?, ?it/s]                                  "
     ]
    },
    {
     "name": "stdout",
     "output_type": "stream",
     "text": [
      "Epoch 6/20: train loss 0.8184, Learning Rate 0.0159, val loss0.8045, corr 0.1517\n"
     ]
    },
    {
     "name": "stderr",
     "output_type": "stream",
     "text": [
      "train:   0%|          | 0/298 [00:00<?, ?it/s]                                  "
     ]
    },
    {
     "name": "stdout",
     "output_type": "stream",
     "text": [
      "Epoch 7/20: train loss 0.8159, Learning Rate 0.0145, val loss0.8015, corr 0.1460\n"
     ]
    },
    {
     "name": "stderr",
     "output_type": "stream",
     "text": [
      "train:   0%|          | 0/298 [00:00<?, ?it/s]                                  "
     ]
    },
    {
     "name": "stdout",
     "output_type": "stream",
     "text": [
      "successfully save model\n",
      "Epoch 8/20: train loss 0.8130, Learning Rate 0.0131, val loss0.8015, corr 0.1641\n"
     ]
    },
    {
     "name": "stderr",
     "output_type": "stream",
     "text": [
      "train:   0%|          | 0/298 [00:00<?, ?it/s]                                  "
     ]
    },
    {
     "name": "stdout",
     "output_type": "stream",
     "text": [
      "Epoch 9/20: train loss 0.8099, Learning Rate 0.0116, val loss0.8019, corr 0.1555\n"
     ]
    },
    {
     "name": "stderr",
     "output_type": "stream",
     "text": [
      "train:   0%|          | 0/298 [00:00<?, ?it/s]                                  "
     ]
    },
    {
     "name": "stdout",
     "output_type": "stream",
     "text": [
      "Epoch 10/20: train loss 0.8065, Learning Rate 0.0100, val loss0.8039, corr 0.1526\n"
     ]
    },
    {
     "name": "stderr",
     "output_type": "stream",
     "text": [
      "train:   0%|          | 0/298 [00:00<?, ?it/s]                                  "
     ]
    },
    {
     "name": "stdout",
     "output_type": "stream",
     "text": [
      "Epoch 11/20: train loss 0.8026, Learning Rate 0.0084, val loss0.8045, corr 0.1456\n"
     ]
    },
    {
     "name": "stderr",
     "output_type": "stream",
     "text": [
      "train:   0%|          | 0/298 [00:00<?, ?it/s]                                  "
     ]
    },
    {
     "name": "stdout",
     "output_type": "stream",
     "text": [
      "Epoch 12/20: train loss 0.7988, Learning Rate 0.0069, val loss0.8073, corr 0.1510\n"
     ]
    },
    {
     "name": "stderr",
     "output_type": "stream",
     "text": [
      "train:   0%|          | 0/298 [00:00<?, ?it/s]                                  "
     ]
    },
    {
     "name": "stdout",
     "output_type": "stream",
     "text": [
      "Epoch 13/20: train loss 0.7950, Learning Rate 0.0055, val loss0.8093, corr 0.1408\n"
     ]
    },
    {
     "name": "stderr",
     "output_type": "stream",
     "text": [
      "train:   0%|          | 0/298 [00:00<?, ?it/s]                                  "
     ]
    },
    {
     "name": "stdout",
     "output_type": "stream",
     "text": [
      "Epoch 14/20: train loss 0.7910, Learning Rate 0.0041, val loss0.8092, corr 0.1455\n"
     ]
    },
    {
     "name": "stderr",
     "output_type": "stream",
     "text": [
      "train:   0%|          | 0/298 [00:00<?, ?it/s]                                  "
     ]
    },
    {
     "name": "stdout",
     "output_type": "stream",
     "text": [
      "Epoch 15/20: train loss 0.7872, Learning Rate 0.0029, val loss0.8110, corr 0.1425\n"
     ]
    },
    {
     "name": "stderr",
     "output_type": "stream",
     "text": [
      "train:   0%|          | 0/298 [00:00<?, ?it/s]                                  "
     ]
    },
    {
     "name": "stdout",
     "output_type": "stream",
     "text": [
      "Epoch 16/20: train loss 0.7837, Learning Rate 0.0019, val loss0.8137, corr 0.1367\n"
     ]
    },
    {
     "name": "stderr",
     "output_type": "stream",
     "text": [
      "train:   0%|          | 0/298 [00:00<?, ?it/s]                                  "
     ]
    },
    {
     "name": "stdout",
     "output_type": "stream",
     "text": [
      "Epoch 17/20: train loss 0.7810, Learning Rate 0.0011, val loss0.8126, corr 0.1418\n"
     ]
    },
    {
     "name": "stderr",
     "output_type": "stream",
     "text": [
      "train:   0%|          | 0/298 [00:00<?, ?it/s]                                  "
     ]
    },
    {
     "name": "stdout",
     "output_type": "stream",
     "text": [
      "Epoch 18/20: train loss 0.7787, Learning Rate 0.0005, val loss0.8146, corr 0.1364\n"
     ]
    },
    {
     "name": "stderr",
     "output_type": "stream",
     "text": [
      "train:   0%|          | 0/298 [00:00<?, ?it/s]                                  "
     ]
    },
    {
     "name": "stdout",
     "output_type": "stream",
     "text": [
      "Epoch 19/20: train loss 0.7775, Learning Rate 0.0001, val loss0.8162, corr 0.1367\n"
     ]
    },
    {
     "name": "stderr",
     "output_type": "stream",
     "text": [
      "train:   0%|          | 0/298 [00:00<?, ?it/s]                                  "
     ]
    },
    {
     "name": "stdout",
     "output_type": "stream",
     "text": [
      "Epoch 20/20: train loss 0.7769, Learning Rate 0.0000, val loss0.8149, corr 0.1374\n",
      "_____MLP1_____\n",
      "Number of params : 764161\n"
     ]
    },
    {
     "name": "stderr",
     "output_type": "stream",
     "text": [
      "train:   0%|          | 0/298 [00:00<?, ?it/s]                                  "
     ]
    },
    {
     "name": "stdout",
     "output_type": "stream",
     "text": [
      "successfully save model\n",
      "Epoch 1/20: train loss 0.8366, Learning Rate 0.0199, val loss0.8029, corr 0.1441\n"
     ]
    },
    {
     "name": "stderr",
     "output_type": "stream",
     "text": [
      "train:   0%|          | 0/298 [00:00<?, ?it/s]                                  "
     ]
    },
    {
     "name": "stdout",
     "output_type": "stream",
     "text": [
      "Epoch 2/20: train loss 0.8280, Learning Rate 0.0195, val loss0.8037, corr 0.1427\n"
     ]
    },
    {
     "name": "stderr",
     "output_type": "stream",
     "text": [
      "train:   0%|          | 0/298 [00:00<?, ?it/s]                                  "
     ]
    },
    {
     "name": "stdout",
     "output_type": "stream",
     "text": [
      "successfully save model\n",
      "Epoch 3/20: train loss 0.8253, Learning Rate 0.0189, val loss0.8030, corr 0.1482\n"
     ]
    },
    {
     "name": "stderr",
     "output_type": "stream",
     "text": [
      "train:   0%|          | 0/298 [00:00<?, ?it/s]                                  "
     ]
    },
    {
     "name": "stdout",
     "output_type": "stream",
     "text": [
      "successfully save model\n",
      "Epoch 4/20: train loss 0.8231, Learning Rate 0.0181, val loss0.8005, corr 0.1555\n"
     ]
    },
    {
     "name": "stderr",
     "output_type": "stream",
     "text": [
      "train:   0%|          | 0/298 [00:00<?, ?it/s]                                  "
     ]
    },
    {
     "name": "stdout",
     "output_type": "stream",
     "text": [
      "Epoch 5/20: train loss 0.8206, Learning Rate 0.0171, val loss0.8014, corr 0.1511\n"
     ]
    },
    {
     "name": "stderr",
     "output_type": "stream",
     "text": [
      "train:   0%|          | 0/298 [00:00<?, ?it/s]                                  "
     ]
    },
    {
     "name": "stdout",
     "output_type": "stream",
     "text": [
      "Epoch 6/20: train loss 0.8180, Learning Rate 0.0159, val loss0.8030, corr 0.1510\n"
     ]
    },
    {
     "name": "stderr",
     "output_type": "stream",
     "text": [
      "train:   0%|          | 0/298 [00:00<?, ?it/s]                                  "
     ]
    },
    {
     "name": "stdout",
     "output_type": "stream",
     "text": [
      "Epoch 7/20: train loss 0.8153, Learning Rate 0.0145, val loss0.8025, corr 0.1553\n"
     ]
    },
    {
     "name": "stderr",
     "output_type": "stream",
     "text": [
      "train:   0%|          | 0/298 [00:00<?, ?it/s]                                  "
     ]
    },
    {
     "name": "stdout",
     "output_type": "stream",
     "text": [
      "Epoch 8/20: train loss 0.8128, Learning Rate 0.0131, val loss0.8037, corr 0.1508\n"
     ]
    },
    {
     "name": "stderr",
     "output_type": "stream",
     "text": [
      "train:   0%|          | 0/298 [00:00<?, ?it/s]                                  "
     ]
    },
    {
     "name": "stdout",
     "output_type": "stream",
     "text": [
      "successfully save model\n",
      "Epoch 9/20: train loss 0.8097, Learning Rate 0.0116, val loss0.8052, corr 0.1566\n"
     ]
    },
    {
     "name": "stderr",
     "output_type": "stream",
     "text": [
      "train:   0%|          | 0/298 [00:00<?, ?it/s]                                  "
     ]
    },
    {
     "name": "stdout",
     "output_type": "stream",
     "text": [
      "Epoch 10/20: train loss 0.8064, Learning Rate 0.0100, val loss0.8021, corr 0.1554\n"
     ]
    },
    {
     "name": "stderr",
     "output_type": "stream",
     "text": [
      "train:   0%|          | 0/298 [00:00<?, ?it/s]                                  "
     ]
    },
    {
     "name": "stdout",
     "output_type": "stream",
     "text": [
      "Epoch 11/20: train loss 0.8030, Learning Rate 0.0084, val loss0.8085, corr 0.1349\n"
     ]
    },
    {
     "name": "stderr",
     "output_type": "stream",
     "text": [
      "train:   0%|          | 0/298 [00:00<?, ?it/s]                                  "
     ]
    },
    {
     "name": "stdout",
     "output_type": "stream",
     "text": [
      "Epoch 12/20: train loss 0.7996, Learning Rate 0.0069, val loss0.8104, corr 0.1406\n"
     ]
    },
    {
     "name": "stderr",
     "output_type": "stream",
     "text": [
      "train:   0%|          | 0/298 [00:00<?, ?it/s]                                  "
     ]
    },
    {
     "name": "stdout",
     "output_type": "stream",
     "text": [
      "Epoch 13/20: train loss 0.7956, Learning Rate 0.0055, val loss0.8073, corr 0.1451\n"
     ]
    },
    {
     "name": "stderr",
     "output_type": "stream",
     "text": [
      "train:   0%|          | 0/298 [00:00<?, ?it/s]                                  "
     ]
    },
    {
     "name": "stdout",
     "output_type": "stream",
     "text": [
      "Epoch 14/20: train loss 0.7918, Learning Rate 0.0041, val loss0.8110, corr 0.1393\n"
     ]
    },
    {
     "name": "stderr",
     "output_type": "stream",
     "text": [
      "train:   0%|          | 0/298 [00:00<?, ?it/s]                                  "
     ]
    },
    {
     "name": "stdout",
     "output_type": "stream",
     "text": [
      "Epoch 15/20: train loss 0.7881, Learning Rate 0.0029, val loss0.8157, corr 0.1351\n"
     ]
    },
    {
     "name": "stderr",
     "output_type": "stream",
     "text": [
      "train:   0%|          | 0/298 [00:00<?, ?it/s]                                  "
     ]
    },
    {
     "name": "stdout",
     "output_type": "stream",
     "text": [
      "Epoch 16/20: train loss 0.7852, Learning Rate 0.0019, val loss0.8115, corr 0.1380\n"
     ]
    },
    {
     "name": "stderr",
     "output_type": "stream",
     "text": [
      "train:   0%|          | 0/298 [00:00<?, ?it/s]                                  "
     ]
    },
    {
     "name": "stdout",
     "output_type": "stream",
     "text": [
      "Epoch 17/20: train loss 0.7823, Learning Rate 0.0011, val loss0.8135, corr 0.1385\n"
     ]
    },
    {
     "name": "stderr",
     "output_type": "stream",
     "text": [
      "train:   0%|          | 0/298 [00:00<?, ?it/s]                                  "
     ]
    },
    {
     "name": "stdout",
     "output_type": "stream",
     "text": [
      "Epoch 18/20: train loss 0.7801, Learning Rate 0.0005, val loss0.8144, corr 0.1346\n"
     ]
    },
    {
     "name": "stderr",
     "output_type": "stream",
     "text": [
      "train:   0%|          | 0/298 [00:00<?, ?it/s]                                  "
     ]
    },
    {
     "name": "stdout",
     "output_type": "stream",
     "text": [
      "Epoch 19/20: train loss 0.7788, Learning Rate 0.0001, val loss0.8172, corr 0.1351\n"
     ]
    },
    {
     "name": "stderr",
     "output_type": "stream",
     "text": [
      "train:   0%|          | 0/298 [00:00<?, ?it/s]                                  "
     ]
    },
    {
     "name": "stdout",
     "output_type": "stream",
     "text": [
      "Epoch 20/20: train loss 0.7782, Learning Rate 0.0000, val loss0.8148, corr 0.1339\n",
      "_____MLP2_____\n",
      "Number of params : 764161\n"
     ]
    },
    {
     "name": "stderr",
     "output_type": "stream",
     "text": [
      "train:   0%|          | 0/298 [00:00<?, ?it/s]                                  "
     ]
    },
    {
     "name": "stdout",
     "output_type": "stream",
     "text": [
      "successfully save model\n",
      "Epoch 1/20: train loss 0.8354, Learning Rate 0.0199, val loss0.8070, corr 0.1192\n"
     ]
    },
    {
     "name": "stderr",
     "output_type": "stream",
     "text": [
      "train:   0%|          | 0/298 [00:00<?, ?it/s]                                  "
     ]
    },
    {
     "name": "stdout",
     "output_type": "stream",
     "text": [
      "successfully save model\n",
      "Epoch 2/20: train loss 0.8277, Learning Rate 0.0195, val loss0.8022, corr 0.1490\n"
     ]
    },
    {
     "name": "stderr",
     "output_type": "stream",
     "text": [
      "train:   0%|          | 0/298 [00:00<?, ?it/s]                                  "
     ]
    },
    {
     "name": "stdout",
     "output_type": "stream",
     "text": [
      "Epoch 3/20: train loss 0.8248, Learning Rate 0.0189, val loss0.8040, corr 0.1432\n"
     ]
    },
    {
     "name": "stderr",
     "output_type": "stream",
     "text": [
      "train:   0%|          | 0/298 [00:00<?, ?it/s]                                  "
     ]
    },
    {
     "name": "stdout",
     "output_type": "stream",
     "text": [
      "successfully save model\n",
      "Epoch 4/20: train loss 0.8225, Learning Rate 0.0181, val loss0.8019, corr 0.1532\n"
     ]
    },
    {
     "name": "stderr",
     "output_type": "stream",
     "text": [
      "train:   0%|          | 0/298 [00:00<?, ?it/s]                                  "
     ]
    },
    {
     "name": "stdout",
     "output_type": "stream",
     "text": [
      "successfully save model\n",
      "Epoch 5/20: train loss 0.8200, Learning Rate 0.0171, val loss0.8008, corr 0.1553\n"
     ]
    },
    {
     "name": "stderr",
     "output_type": "stream",
     "text": [
      "train:   0%|          | 0/298 [00:00<?, ?it/s]                                  "
     ]
    },
    {
     "name": "stdout",
     "output_type": "stream",
     "text": [
      "Epoch 6/20: train loss 0.8172, Learning Rate 0.0159, val loss0.8055, corr 0.1365\n"
     ]
    },
    {
     "name": "stderr",
     "output_type": "stream",
     "text": [
      "train:   0%|          | 0/298 [00:00<?, ?it/s]                                  "
     ]
    },
    {
     "name": "stdout",
     "output_type": "stream",
     "text": [
      "Epoch 7/20: train loss 0.8147, Learning Rate 0.0145, val loss0.8043, corr 0.1438\n"
     ]
    },
    {
     "name": "stderr",
     "output_type": "stream",
     "text": [
      "train:   0%|          | 0/298 [00:00<?, ?it/s]                                  "
     ]
    },
    {
     "name": "stdout",
     "output_type": "stream",
     "text": [
      "Epoch 8/20: train loss 0.8117, Learning Rate 0.0131, val loss0.8046, corr 0.1509\n"
     ]
    },
    {
     "name": "stderr",
     "output_type": "stream",
     "text": [
      "train:   0%|          | 0/298 [00:00<?, ?it/s]                                  "
     ]
    },
    {
     "name": "stdout",
     "output_type": "stream",
     "text": [
      "Epoch 9/20: train loss 0.8088, Learning Rate 0.0116, val loss0.8042, corr 0.1485\n"
     ]
    },
    {
     "name": "stderr",
     "output_type": "stream",
     "text": [
      "train:   0%|          | 0/298 [00:00<?, ?it/s]                                  "
     ]
    },
    {
     "name": "stdout",
     "output_type": "stream",
     "text": [
      "Epoch 10/20: train loss 0.8054, Learning Rate 0.0100, val loss0.8048, corr 0.1432\n"
     ]
    },
    {
     "name": "stderr",
     "output_type": "stream",
     "text": [
      "train:   0%|          | 0/298 [00:00<?, ?it/s]                                  "
     ]
    },
    {
     "name": "stdout",
     "output_type": "stream",
     "text": [
      "successfully save model\n",
      "Epoch 11/20: train loss 0.8018, Learning Rate 0.0084, val loss0.8018, corr 0.1563\n"
     ]
    },
    {
     "name": "stderr",
     "output_type": "stream",
     "text": [
      "train:   0%|          | 0/298 [00:00<?, ?it/s]                                  "
     ]
    },
    {
     "name": "stdout",
     "output_type": "stream",
     "text": [
      "Epoch 12/20: train loss 0.7982, Learning Rate 0.0069, val loss0.8051, corr 0.1426\n"
     ]
    },
    {
     "name": "stderr",
     "output_type": "stream",
     "text": [
      "train:   0%|          | 0/298 [00:00<?, ?it/s]                                  "
     ]
    },
    {
     "name": "stdout",
     "output_type": "stream",
     "text": [
      "Epoch 13/20: train loss 0.7945, Learning Rate 0.0055, val loss0.8073, corr 0.1466\n"
     ]
    },
    {
     "name": "stderr",
     "output_type": "stream",
     "text": [
      "train:   0%|          | 0/298 [00:00<?, ?it/s]                                  "
     ]
    },
    {
     "name": "stdout",
     "output_type": "stream",
     "text": [
      "Epoch 14/20: train loss 0.7908, Learning Rate 0.0041, val loss0.8075, corr 0.1455\n"
     ]
    },
    {
     "name": "stderr",
     "output_type": "stream",
     "text": [
      "train:   0%|          | 0/298 [00:00<?, ?it/s]                                  "
     ]
    },
    {
     "name": "stdout",
     "output_type": "stream",
     "text": [
      "Epoch 15/20: train loss 0.7868, Learning Rate 0.0029, val loss0.8106, corr 0.1428\n"
     ]
    },
    {
     "name": "stderr",
     "output_type": "stream",
     "text": [
      "train:   0%|          | 0/298 [00:00<?, ?it/s]                                  "
     ]
    },
    {
     "name": "stdout",
     "output_type": "stream",
     "text": [
      "Epoch 16/20: train loss 0.7833, Learning Rate 0.0019, val loss0.8111, corr 0.1402\n"
     ]
    },
    {
     "name": "stderr",
     "output_type": "stream",
     "text": [
      "train:   0%|          | 0/298 [00:00<?, ?it/s]                                  "
     ]
    },
    {
     "name": "stdout",
     "output_type": "stream",
     "text": [
      "Epoch 17/20: train loss 0.7808, Learning Rate 0.0011, val loss0.8122, corr 0.1402\n"
     ]
    },
    {
     "name": "stderr",
     "output_type": "stream",
     "text": [
      "train:   0%|          | 0/298 [00:00<?, ?it/s]                                  "
     ]
    },
    {
     "name": "stdout",
     "output_type": "stream",
     "text": [
      "Epoch 18/20: train loss 0.7786, Learning Rate 0.0005, val loss0.8136, corr 0.1385\n"
     ]
    },
    {
     "name": "stderr",
     "output_type": "stream",
     "text": [
      "train:   0%|          | 0/298 [00:00<?, ?it/s]                                  "
     ]
    },
    {
     "name": "stdout",
     "output_type": "stream",
     "text": [
      "Epoch 19/20: train loss 0.7777, Learning Rate 0.0001, val loss0.8147, corr 0.1380\n"
     ]
    },
    {
     "name": "stderr",
     "output_type": "stream",
     "text": [
      "train:   0%|          | 0/298 [00:00<?, ?it/s]                                  "
     ]
    },
    {
     "name": "stdout",
     "output_type": "stream",
     "text": [
      "Epoch 20/20: train loss 0.7769, Learning Rate 0.0000, val loss0.8156, corr 0.1370\n",
      "_____MLP3_____\n",
      "Number of params : 764161\n"
     ]
    },
    {
     "name": "stderr",
     "output_type": "stream",
     "text": [
      "train:   0%|          | 0/298 [00:00<?, ?it/s]                                  "
     ]
    },
    {
     "name": "stdout",
     "output_type": "stream",
     "text": [
      "successfully save model\n",
      "Epoch 1/20: train loss 0.8381, Learning Rate 0.0199, val loss0.8021, corr 0.1488\n"
     ]
    },
    {
     "name": "stderr",
     "output_type": "stream",
     "text": [
      "train:   0%|          | 0/298 [00:00<?, ?it/s]                                  "
     ]
    },
    {
     "name": "stdout",
     "output_type": "stream",
     "text": [
      "successfully save model\n",
      "Epoch 2/20: train loss 0.8282, Learning Rate 0.0195, val loss0.8002, corr 0.1506\n"
     ]
    },
    {
     "name": "stderr",
     "output_type": "stream",
     "text": [
      "train:   0%|          | 0/298 [00:00<?, ?it/s]                                  "
     ]
    },
    {
     "name": "stdout",
     "output_type": "stream",
     "text": [
      "successfully save model\n",
      "Epoch 3/20: train loss 0.8256, Learning Rate 0.0189, val loss0.8009, corr 0.1532\n"
     ]
    },
    {
     "name": "stderr",
     "output_type": "stream",
     "text": [
      "train:   0%|          | 0/298 [00:00<?, ?it/s]                                  "
     ]
    },
    {
     "name": "stdout",
     "output_type": "stream",
     "text": [
      "Epoch 4/20: train loss 0.8230, Learning Rate 0.0181, val loss0.8054, corr 0.1355\n"
     ]
    },
    {
     "name": "stderr",
     "output_type": "stream",
     "text": [
      "train:   0%|          | 0/298 [00:00<?, ?it/s]                                  "
     ]
    },
    {
     "name": "stdout",
     "output_type": "stream",
     "text": [
      "successfully save model\n",
      "Epoch 5/20: train loss 0.8205, Learning Rate 0.0171, val loss0.8003, corr 0.1547\n"
     ]
    },
    {
     "name": "stderr",
     "output_type": "stream",
     "text": [
      "train:   0%|          | 0/298 [00:00<?, ?it/s]                                  "
     ]
    },
    {
     "name": "stdout",
     "output_type": "stream",
     "text": [
      "Epoch 6/20: train loss 0.8181, Learning Rate 0.0159, val loss0.8048, corr 0.1429\n"
     ]
    },
    {
     "name": "stderr",
     "output_type": "stream",
     "text": [
      "train:   0%|          | 0/298 [00:00<?, ?it/s]                                  "
     ]
    },
    {
     "name": "stdout",
     "output_type": "stream",
     "text": [
      "Epoch 7/20: train loss 0.8151, Learning Rate 0.0145, val loss0.8012, corr 0.1529\n"
     ]
    },
    {
     "name": "stderr",
     "output_type": "stream",
     "text": [
      "train:   0%|          | 0/298 [00:00<?, ?it/s]                                  "
     ]
    },
    {
     "name": "stdout",
     "output_type": "stream",
     "text": [
      "Epoch 8/20: train loss 0.8125, Learning Rate 0.0131, val loss0.8035, corr 0.1460\n"
     ]
    },
    {
     "name": "stderr",
     "output_type": "stream",
     "text": [
      "train:   0%|          | 0/298 [00:00<?, ?it/s]                                  "
     ]
    },
    {
     "name": "stdout",
     "output_type": "stream",
     "text": [
      "Epoch 9/20: train loss 0.8092, Learning Rate 0.0116, val loss0.8037, corr 0.1511\n"
     ]
    },
    {
     "name": "stderr",
     "output_type": "stream",
     "text": [
      "train:   0%|          | 0/298 [00:00<?, ?it/s]                                  "
     ]
    },
    {
     "name": "stdout",
     "output_type": "stream",
     "text": [
      "Epoch 10/20: train loss 0.8059, Learning Rate 0.0100, val loss0.8042, corr 0.1358\n"
     ]
    },
    {
     "name": "stderr",
     "output_type": "stream",
     "text": [
      "train:   0%|          | 0/298 [00:00<?, ?it/s]                                  "
     ]
    },
    {
     "name": "stdout",
     "output_type": "stream",
     "text": [
      "Epoch 11/20: train loss 0.8025, Learning Rate 0.0084, val loss0.8049, corr 0.1536\n"
     ]
    },
    {
     "name": "stderr",
     "output_type": "stream",
     "text": [
      "train:   0%|          | 0/298 [00:00<?, ?it/s]                                  "
     ]
    },
    {
     "name": "stdout",
     "output_type": "stream",
     "text": [
      "Epoch 12/20: train loss 0.7989, Learning Rate 0.0069, val loss0.8085, corr 0.1390\n"
     ]
    },
    {
     "name": "stderr",
     "output_type": "stream",
     "text": [
      "train:   0%|          | 0/298 [00:00<?, ?it/s]                                  "
     ]
    },
    {
     "name": "stdout",
     "output_type": "stream",
     "text": [
      "Epoch 13/20: train loss 0.7951, Learning Rate 0.0055, val loss0.8083, corr 0.1408\n"
     ]
    },
    {
     "name": "stderr",
     "output_type": "stream",
     "text": [
      "train:   0%|          | 0/298 [00:00<?, ?it/s]                                  "
     ]
    },
    {
     "name": "stdout",
     "output_type": "stream",
     "text": [
      "Epoch 14/20: train loss 0.7916, Learning Rate 0.0041, val loss0.8094, corr 0.1412\n"
     ]
    },
    {
     "name": "stderr",
     "output_type": "stream",
     "text": [
      "train:   0%|          | 0/298 [00:00<?, ?it/s]                                  "
     ]
    },
    {
     "name": "stdout",
     "output_type": "stream",
     "text": [
      "Epoch 15/20: train loss 0.7875, Learning Rate 0.0029, val loss0.8115, corr 0.1358\n"
     ]
    },
    {
     "name": "stderr",
     "output_type": "stream",
     "text": [
      "train:   0%|          | 0/298 [00:00<?, ?it/s]                                  "
     ]
    },
    {
     "name": "stdout",
     "output_type": "stream",
     "text": [
      "Epoch 16/20: train loss 0.7845, Learning Rate 0.0019, val loss0.8142, corr 0.1344\n"
     ]
    },
    {
     "name": "stderr",
     "output_type": "stream",
     "text": [
      "train:   0%|          | 0/298 [00:00<?, ?it/s]                                  "
     ]
    },
    {
     "name": "stdout",
     "output_type": "stream",
     "text": [
      "Epoch 17/20: train loss 0.7817, Learning Rate 0.0011, val loss0.8162, corr 0.1390\n"
     ]
    },
    {
     "name": "stderr",
     "output_type": "stream",
     "text": [
      "train:   0%|          | 0/298 [00:00<?, ?it/s]                                  "
     ]
    },
    {
     "name": "stdout",
     "output_type": "stream",
     "text": [
      "Epoch 18/20: train loss 0.7793, Learning Rate 0.0005, val loss0.8163, corr 0.1348\n"
     ]
    },
    {
     "name": "stderr",
     "output_type": "stream",
     "text": [
      "train:   0%|          | 0/298 [00:00<?, ?it/s]                                  "
     ]
    },
    {
     "name": "stdout",
     "output_type": "stream",
     "text": [
      "Epoch 19/20: train loss 0.7782, Learning Rate 0.0001, val loss0.8190, corr 0.1352\n"
     ]
    },
    {
     "name": "stderr",
     "output_type": "stream",
     "text": [
      "train:   0%|          | 0/298 [00:00<?, ?it/s]                                  "
     ]
    },
    {
     "name": "stdout",
     "output_type": "stream",
     "text": [
      "Epoch 20/20: train loss 0.7773, Learning Rate 0.0000, val loss0.8159, corr 0.1341\n",
      "///////////Start Train DNN Model//////////\n",
      "_____DNN0_____\n",
      "Number of params : 2426753\n"
     ]
    },
    {
     "name": "stderr",
     "output_type": "stream",
     "text": [
      "train:   0%|          | 0/298 [00:00<?, ?it/s]                                  "
     ]
    },
    {
     "name": "stdout",
     "output_type": "stream",
     "text": [
      "successfully save model\n",
      "Epoch 1/20: train loss 0.8450, Learning Rate 0.0199, val loss0.8054, corr 0.1405\n"
     ]
    },
    {
     "name": "stderr",
     "output_type": "stream",
     "text": [
      "train:   0%|          | 0/298 [00:00<?, ?it/s]                                  "
     ]
    },
    {
     "name": "stdout",
     "output_type": "stream",
     "text": [
      "successfully save model\n",
      "Epoch 2/20: train loss 0.8343, Learning Rate 0.0195, val loss0.8031, corr 0.1434\n"
     ]
    },
    {
     "name": "stderr",
     "output_type": "stream",
     "text": [
      "train:   0%|          | 0/298 [00:00<?, ?it/s]                                  "
     ]
    },
    {
     "name": "stdout",
     "output_type": "stream",
     "text": [
      "Epoch 3/20: train loss 0.8311, Learning Rate 0.0189, val loss0.8040, corr 0.1370\n"
     ]
    },
    {
     "name": "stderr",
     "output_type": "stream",
     "text": [
      "train:   0%|          | 0/298 [00:00<?, ?it/s]                                  "
     ]
    },
    {
     "name": "stdout",
     "output_type": "stream",
     "text": [
      "successfully save model\n",
      "Epoch 4/20: train loss 0.8288, Learning Rate 0.0181, val loss0.8015, corr 0.1479\n"
     ]
    },
    {
     "name": "stderr",
     "output_type": "stream",
     "text": [
      "train:   0%|          | 0/298 [00:00<?, ?it/s]                                  "
     ]
    },
    {
     "name": "stdout",
     "output_type": "stream",
     "text": [
      "successfully save model\n",
      "Epoch 5/20: train loss 0.8269, Learning Rate 0.0171, val loss0.7998, corr 0.1530\n"
     ]
    },
    {
     "name": "stderr",
     "output_type": "stream",
     "text": [
      "train:   0%|          | 0/298 [00:00<?, ?it/s]                                  "
     ]
    },
    {
     "name": "stdout",
     "output_type": "stream",
     "text": [
      "Epoch 6/20: train loss 0.8252, Learning Rate 0.0159, val loss0.8023, corr 0.1450\n"
     ]
    },
    {
     "name": "stderr",
     "output_type": "stream",
     "text": [
      "train:   0%|          | 0/298 [00:00<?, ?it/s]                                  "
     ]
    },
    {
     "name": "stdout",
     "output_type": "stream",
     "text": [
      "successfully save model\n",
      "Epoch 7/20: train loss 0.8234, Learning Rate 0.0145, val loss0.7997, corr 0.1551\n"
     ]
    },
    {
     "name": "stderr",
     "output_type": "stream",
     "text": [
      "train:   0%|          | 0/298 [00:00<?, ?it/s]                                  "
     ]
    },
    {
     "name": "stdout",
     "output_type": "stream",
     "text": [
      "Epoch 8/20: train loss 0.8212, Learning Rate 0.0131, val loss0.8013, corr 0.1477\n"
     ]
    },
    {
     "name": "stderr",
     "output_type": "stream",
     "text": [
      "train:   0%|          | 0/298 [00:00<?, ?it/s]                                  "
     ]
    },
    {
     "name": "stdout",
     "output_type": "stream",
     "text": [
      "successfully save model\n",
      "Epoch 9/20: train loss 0.8196, Learning Rate 0.0116, val loss0.8005, corr 0.1560\n"
     ]
    },
    {
     "name": "stderr",
     "output_type": "stream",
     "text": [
      "train:   0%|          | 0/298 [00:00<?, ?it/s]                                  "
     ]
    },
    {
     "name": "stdout",
     "output_type": "stream",
     "text": [
      "Epoch 10/20: train loss 0.8178, Learning Rate 0.0100, val loss0.8012, corr 0.1533\n"
     ]
    },
    {
     "name": "stderr",
     "output_type": "stream",
     "text": [
      "train:   0%|          | 0/298 [00:00<?, ?it/s]                                  "
     ]
    },
    {
     "name": "stdout",
     "output_type": "stream",
     "text": [
      "successfully save model\n",
      "Epoch 11/20: train loss 0.8161, Learning Rate 0.0084, val loss0.7989, corr 0.1608\n"
     ]
    },
    {
     "name": "stderr",
     "output_type": "stream",
     "text": [
      "train:   0%|          | 0/298 [00:00<?, ?it/s]                                  "
     ]
    },
    {
     "name": "stdout",
     "output_type": "stream",
     "text": [
      "Epoch 12/20: train loss 0.8142, Learning Rate 0.0069, val loss0.7983, corr 0.1568\n"
     ]
    },
    {
     "name": "stderr",
     "output_type": "stream",
     "text": [
      "train:   0%|          | 0/298 [00:00<?, ?it/s]                                  "
     ]
    },
    {
     "name": "stdout",
     "output_type": "stream",
     "text": [
      "Epoch 13/20: train loss 0.8122, Learning Rate 0.0055, val loss0.7993, corr 0.1591\n"
     ]
    },
    {
     "name": "stderr",
     "output_type": "stream",
     "text": [
      "train:   0%|          | 0/298 [00:00<?, ?it/s]                                  "
     ]
    },
    {
     "name": "stdout",
     "output_type": "stream",
     "text": [
      "Epoch 14/20: train loss 0.8109, Learning Rate 0.0041, val loss0.7997, corr 0.1595\n"
     ]
    },
    {
     "name": "stderr",
     "output_type": "stream",
     "text": [
      "train:   0%|          | 0/298 [00:00<?, ?it/s]                                  "
     ]
    },
    {
     "name": "stdout",
     "output_type": "stream",
     "text": [
      "Epoch 15/20: train loss 0.8088, Learning Rate 0.0029, val loss0.7995, corr 0.1583\n"
     ]
    },
    {
     "name": "stderr",
     "output_type": "stream",
     "text": [
      "train:   0%|          | 0/298 [00:00<?, ?it/s]                                  "
     ]
    },
    {
     "name": "stdout",
     "output_type": "stream",
     "text": [
      "successfully save model\n",
      "Epoch 16/20: train loss 0.8069, Learning Rate 0.0019, val loss0.7986, corr 0.1630\n"
     ]
    },
    {
     "name": "stderr",
     "output_type": "stream",
     "text": [
      "train:   0%|          | 0/298 [00:00<?, ?it/s]                                  "
     ]
    },
    {
     "name": "stdout",
     "output_type": "stream",
     "text": [
      "Epoch 17/20: train loss 0.8055, Learning Rate 0.0011, val loss0.8014, corr 0.1571\n"
     ]
    },
    {
     "name": "stderr",
     "output_type": "stream",
     "text": [
      "train:   0%|          | 0/298 [00:00<?, ?it/s]                                  "
     ]
    },
    {
     "name": "stdout",
     "output_type": "stream",
     "text": [
      "Epoch 18/20: train loss 0.8047, Learning Rate 0.0005, val loss0.8002, corr 0.1587\n"
     ]
    },
    {
     "name": "stderr",
     "output_type": "stream",
     "text": [
      "train:   0%|          | 0/298 [00:00<?, ?it/s]                                  "
     ]
    },
    {
     "name": "stdout",
     "output_type": "stream",
     "text": [
      "Epoch 19/20: train loss 0.8042, Learning Rate 0.0001, val loss0.8021, corr 0.1586\n"
     ]
    },
    {
     "name": "stderr",
     "output_type": "stream",
     "text": [
      "train:   0%|          | 0/298 [00:00<?, ?it/s]                                  "
     ]
    },
    {
     "name": "stdout",
     "output_type": "stream",
     "text": [
      "Epoch 20/20: train loss 0.8036, Learning Rate 0.0000, val loss0.8009, corr 0.1577\n",
      "_____DNN1_____\n",
      "Number of params : 2426753\n"
     ]
    },
    {
     "name": "stderr",
     "output_type": "stream",
     "text": [
      "train:   0%|          | 0/298 [00:00<?, ?it/s]                                  "
     ]
    },
    {
     "name": "stdout",
     "output_type": "stream",
     "text": [
      "successfully save model\n",
      "Epoch 1/20: train loss 0.8449, Learning Rate 0.0199, val loss0.8111, corr 0.1176\n"
     ]
    },
    {
     "name": "stderr",
     "output_type": "stream",
     "text": [
      "train:   0%|          | 0/298 [00:00<?, ?it/s]                                  "
     ]
    },
    {
     "name": "stdout",
     "output_type": "stream",
     "text": [
      "successfully save model\n",
      "Epoch 2/20: train loss 0.8349, Learning Rate 0.0195, val loss0.8044, corr 0.1367\n"
     ]
    },
    {
     "name": "stderr",
     "output_type": "stream",
     "text": [
      "train:   0%|          | 0/298 [00:00<?, ?it/s]                                  "
     ]
    },
    {
     "name": "stdout",
     "output_type": "stream",
     "text": [
      "successfully save model\n",
      "Epoch 3/20: train loss 0.8311, Learning Rate 0.0189, val loss0.8027, corr 0.1439\n"
     ]
    },
    {
     "name": "stderr",
     "output_type": "stream",
     "text": [
      "train:   0%|          | 0/298 [00:00<?, ?it/s]                                  "
     ]
    },
    {
     "name": "stdout",
     "output_type": "stream",
     "text": [
      "successfully save model\n",
      "Epoch 4/20: train loss 0.8289, Learning Rate 0.0181, val loss0.8019, corr 0.1472\n"
     ]
    },
    {
     "name": "stderr",
     "output_type": "stream",
     "text": [
      "train:   0%|          | 0/298 [00:00<?, ?it/s]                                  "
     ]
    },
    {
     "name": "stdout",
     "output_type": "stream",
     "text": [
      "Epoch 5/20: train loss 0.8268, Learning Rate 0.0171, val loss0.8023, corr 0.1449\n"
     ]
    },
    {
     "name": "stderr",
     "output_type": "stream",
     "text": [
      "train:   0%|          | 0/298 [00:00<?, ?it/s]                                  "
     ]
    },
    {
     "name": "stdout",
     "output_type": "stream",
     "text": [
      "successfully save model\n",
      "Epoch 6/20: train loss 0.8252, Learning Rate 0.0159, val loss0.7991, corr 0.1550\n"
     ]
    },
    {
     "name": "stderr",
     "output_type": "stream",
     "text": [
      "train:   0%|          | 0/298 [00:00<?, ?it/s]                                  "
     ]
    },
    {
     "name": "stdout",
     "output_type": "stream",
     "text": [
      "Epoch 7/20: train loss 0.8236, Learning Rate 0.0145, val loss0.8013, corr 0.1538\n"
     ]
    },
    {
     "name": "stderr",
     "output_type": "stream",
     "text": [
      "train:   0%|          | 0/298 [00:00<?, ?it/s]                                  "
     ]
    },
    {
     "name": "stdout",
     "output_type": "stream",
     "text": [
      "successfully save model\n",
      "Epoch 8/20: train loss 0.8214, Learning Rate 0.0131, val loss0.8004, corr 0.1584\n"
     ]
    },
    {
     "name": "stderr",
     "output_type": "stream",
     "text": [
      "train:   0%|          | 0/298 [00:00<?, ?it/s]                                  "
     ]
    },
    {
     "name": "stdout",
     "output_type": "stream",
     "text": [
      "successfully save model\n",
      "Epoch 9/20: train loss 0.8201, Learning Rate 0.0116, val loss0.7988, corr 0.1603\n"
     ]
    },
    {
     "name": "stderr",
     "output_type": "stream",
     "text": [
      "train:   0%|          | 0/298 [00:00<?, ?it/s]                                  "
     ]
    },
    {
     "name": "stdout",
     "output_type": "stream",
     "text": [
      "successfully save model\n",
      "Epoch 10/20: train loss 0.8183, Learning Rate 0.0100, val loss0.7986, corr 0.1610\n"
     ]
    },
    {
     "name": "stderr",
     "output_type": "stream",
     "text": [
      "train:   0%|          | 0/298 [00:00<?, ?it/s]                                  "
     ]
    },
    {
     "name": "stdout",
     "output_type": "stream",
     "text": [
      "Epoch 11/20: train loss 0.8167, Learning Rate 0.0084, val loss0.8002, corr 0.1574\n"
     ]
    },
    {
     "name": "stderr",
     "output_type": "stream",
     "text": [
      "train:   0%|          | 0/298 [00:00<?, ?it/s]                                  "
     ]
    },
    {
     "name": "stdout",
     "output_type": "stream",
     "text": [
      "Epoch 12/20: train loss 0.8150, Learning Rate 0.0069, val loss0.7996, corr 0.1588\n"
     ]
    },
    {
     "name": "stderr",
     "output_type": "stream",
     "text": [
      "train:   0%|          | 0/298 [00:00<?, ?it/s]                                  "
     ]
    },
    {
     "name": "stdout",
     "output_type": "stream",
     "text": [
      "Epoch 13/20: train loss 0.8132, Learning Rate 0.0055, val loss0.8000, corr 0.1531\n"
     ]
    },
    {
     "name": "stderr",
     "output_type": "stream",
     "text": [
      "train:   0%|          | 0/298 [00:00<?, ?it/s]                                  "
     ]
    },
    {
     "name": "stdout",
     "output_type": "stream",
     "text": [
      "Epoch 14/20: train loss 0.8115, Learning Rate 0.0041, val loss0.7997, corr 0.1590\n"
     ]
    },
    {
     "name": "stderr",
     "output_type": "stream",
     "text": [
      "train:   0%|          | 0/298 [00:00<?, ?it/s]                                  "
     ]
    },
    {
     "name": "stdout",
     "output_type": "stream",
     "text": [
      "Epoch 15/20: train loss 0.8095, Learning Rate 0.0029, val loss0.8015, corr 0.1591\n"
     ]
    },
    {
     "name": "stderr",
     "output_type": "stream",
     "text": [
      "train:   0%|          | 0/298 [00:00<?, ?it/s]                                  "
     ]
    },
    {
     "name": "stdout",
     "output_type": "stream",
     "text": [
      "Epoch 16/20: train loss 0.8083, Learning Rate 0.0019, val loss0.8016, corr 0.1593\n"
     ]
    },
    {
     "name": "stderr",
     "output_type": "stream",
     "text": [
      "train:   0%|          | 0/298 [00:00<?, ?it/s]                                  "
     ]
    },
    {
     "name": "stdout",
     "output_type": "stream",
     "text": [
      "Epoch 17/20: train loss 0.8067, Learning Rate 0.0011, val loss0.8014, corr 0.1602\n"
     ]
    },
    {
     "name": "stderr",
     "output_type": "stream",
     "text": [
      "train:   0%|          | 0/298 [00:00<?, ?it/s]                                  "
     ]
    },
    {
     "name": "stdout",
     "output_type": "stream",
     "text": [
      "Epoch 18/20: train loss 0.8059, Learning Rate 0.0005, val loss0.8013, corr 0.1578\n"
     ]
    },
    {
     "name": "stderr",
     "output_type": "stream",
     "text": [
      "train:   0%|          | 0/298 [00:00<?, ?it/s]                                  "
     ]
    },
    {
     "name": "stdout",
     "output_type": "stream",
     "text": [
      "Epoch 19/20: train loss 0.8053, Learning Rate 0.0001, val loss0.8018, corr 0.1589\n"
     ]
    },
    {
     "name": "stderr",
     "output_type": "stream",
     "text": [
      "train:   0%|          | 0/298 [00:00<?, ?it/s]                                  "
     ]
    },
    {
     "name": "stdout",
     "output_type": "stream",
     "text": [
      "Epoch 20/20: train loss 0.8049, Learning Rate 0.0000, val loss0.8000, corr 0.1591\n",
      "_____DNN2_____\n",
      "Number of params : 2426753\n"
     ]
    },
    {
     "name": "stderr",
     "output_type": "stream",
     "text": [
      "train:   0%|          | 0/298 [00:00<?, ?it/s]                                  "
     ]
    },
    {
     "name": "stdout",
     "output_type": "stream",
     "text": [
      "successfully save model\n",
      "Epoch 1/20: train loss 0.8434, Learning Rate 0.0199, val loss0.8076, corr 0.1269\n"
     ]
    },
    {
     "name": "stderr",
     "output_type": "stream",
     "text": [
      "train:   0%|          | 0/298 [00:00<?, ?it/s]                                  "
     ]
    },
    {
     "name": "stdout",
     "output_type": "stream",
     "text": [
      "successfully save model\n",
      "Epoch 2/20: train loss 0.8341, Learning Rate 0.0195, val loss0.8058, corr 0.1337\n"
     ]
    },
    {
     "name": "stderr",
     "output_type": "stream",
     "text": [
      "train:   0%|          | 0/298 [00:00<?, ?it/s]                                  "
     ]
    },
    {
     "name": "stdout",
     "output_type": "stream",
     "text": [
      "successfully save model\n",
      "Epoch 3/20: train loss 0.8306, Learning Rate 0.0189, val loss0.8058, corr 0.1347\n"
     ]
    },
    {
     "name": "stderr",
     "output_type": "stream",
     "text": [
      "train:   0%|          | 0/298 [00:00<?, ?it/s]                                  "
     ]
    },
    {
     "name": "stdout",
     "output_type": "stream",
     "text": [
      "successfully save model\n",
      "Epoch 4/20: train loss 0.8285, Learning Rate 0.0181, val loss0.8036, corr 0.1410\n"
     ]
    },
    {
     "name": "stderr",
     "output_type": "stream",
     "text": [
      "train:   0%|          | 0/298 [00:00<?, ?it/s]                                  "
     ]
    },
    {
     "name": "stdout",
     "output_type": "stream",
     "text": [
      "successfully save model\n",
      "Epoch 5/20: train loss 0.8264, Learning Rate 0.0171, val loss0.8012, corr 0.1516\n"
     ]
    },
    {
     "name": "stderr",
     "output_type": "stream",
     "text": [
      "train:   0%|          | 0/298 [00:00<?, ?it/s]                                  "
     ]
    },
    {
     "name": "stdout",
     "output_type": "stream",
     "text": [
      "successfully save model\n",
      "Epoch 6/20: train loss 0.8248, Learning Rate 0.0159, val loss0.8012, corr 0.1545\n"
     ]
    },
    {
     "name": "stderr",
     "output_type": "stream",
     "text": [
      "train:   0%|          | 0/298 [00:00<?, ?it/s]                                  "
     ]
    },
    {
     "name": "stdout",
     "output_type": "stream",
     "text": [
      "Epoch 7/20: train loss 0.8230, Learning Rate 0.0145, val loss0.8006, corr 0.1542\n"
     ]
    },
    {
     "name": "stderr",
     "output_type": "stream",
     "text": [
      "train:   0%|          | 0/298 [00:00<?, ?it/s]                                  "
     ]
    },
    {
     "name": "stdout",
     "output_type": "stream",
     "text": [
      "successfully save model\n",
      "Epoch 8/20: train loss 0.8211, Learning Rate 0.0131, val loss0.7995, corr 0.1550\n"
     ]
    },
    {
     "name": "stderr",
     "output_type": "stream",
     "text": [
      "train:   0%|          | 0/298 [00:00<?, ?it/s]                                  "
     ]
    },
    {
     "name": "stdout",
     "output_type": "stream",
     "text": [
      "successfully save model\n",
      "Epoch 9/20: train loss 0.8195, Learning Rate 0.0116, val loss0.8009, corr 0.1557\n"
     ]
    },
    {
     "name": "stderr",
     "output_type": "stream",
     "text": [
      "train:   0%|          | 0/298 [00:00<?, ?it/s]                                  "
     ]
    },
    {
     "name": "stdout",
     "output_type": "stream",
     "text": [
      "successfully save model\n",
      "Epoch 10/20: train loss 0.8178, Learning Rate 0.0100, val loss0.7986, corr 0.1613\n"
     ]
    },
    {
     "name": "stderr",
     "output_type": "stream",
     "text": [
      "train:   0%|          | 0/298 [00:00<?, ?it/s]                                  "
     ]
    },
    {
     "name": "stdout",
     "output_type": "stream",
     "text": [
      "Epoch 11/20: train loss 0.8160, Learning Rate 0.0084, val loss0.8002, corr 0.1541\n"
     ]
    },
    {
     "name": "stderr",
     "output_type": "stream",
     "text": [
      "train:   0%|          | 0/298 [00:00<?, ?it/s]                                  "
     ]
    },
    {
     "name": "stdout",
     "output_type": "stream",
     "text": [
      "Epoch 12/20: train loss 0.8142, Learning Rate 0.0069, val loss0.8013, corr 0.1569\n"
     ]
    },
    {
     "name": "stderr",
     "output_type": "stream",
     "text": [
      "train:   0%|          | 0/298 [00:00<?, ?it/s]                                  "
     ]
    },
    {
     "name": "stdout",
     "output_type": "stream",
     "text": [
      "Epoch 13/20: train loss 0.8128, Learning Rate 0.0055, val loss0.7991, corr 0.1603\n"
     ]
    },
    {
     "name": "stderr",
     "output_type": "stream",
     "text": [
      "train:   0%|          | 0/298 [00:00<?, ?it/s]                                  "
     ]
    },
    {
     "name": "stdout",
     "output_type": "stream",
     "text": [
      "Epoch 14/20: train loss 0.8108, Learning Rate 0.0041, val loss0.7985, corr 0.1604\n"
     ]
    },
    {
     "name": "stderr",
     "output_type": "stream",
     "text": [
      "train:   0%|          | 0/298 [00:00<?, ?it/s]                                  "
     ]
    },
    {
     "name": "stdout",
     "output_type": "stream",
     "text": [
      "Epoch 15/20: train loss 0.8093, Learning Rate 0.0029, val loss0.8003, corr 0.1611\n"
     ]
    },
    {
     "name": "stderr",
     "output_type": "stream",
     "text": [
      "train:   0%|          | 0/298 [00:00<?, ?it/s]                                  "
     ]
    },
    {
     "name": "stdout",
     "output_type": "stream",
     "text": [
      "Epoch 16/20: train loss 0.8077, Learning Rate 0.0019, val loss0.8008, corr 0.1600\n"
     ]
    },
    {
     "name": "stderr",
     "output_type": "stream",
     "text": [
      "train:   0%|          | 0/298 [00:00<?, ?it/s]                                  "
     ]
    },
    {
     "name": "stdout",
     "output_type": "stream",
     "text": [
      "Epoch 17/20: train loss 0.8061, Learning Rate 0.0011, val loss0.7996, corr 0.1578\n"
     ]
    },
    {
     "name": "stderr",
     "output_type": "stream",
     "text": [
      "train:   0%|          | 0/298 [00:00<?, ?it/s]                                  "
     ]
    },
    {
     "name": "stdout",
     "output_type": "stream",
     "text": [
      "Epoch 18/20: train loss 0.8050, Learning Rate 0.0005, val loss0.7995, corr 0.1597\n"
     ]
    },
    {
     "name": "stderr",
     "output_type": "stream",
     "text": [
      "train:   0%|          | 0/298 [00:00<?, ?it/s]                                  "
     ]
    },
    {
     "name": "stdout",
     "output_type": "stream",
     "text": [
      "Epoch 19/20: train loss 0.8043, Learning Rate 0.0001, val loss0.8010, corr 0.1590\n"
     ]
    },
    {
     "name": "stderr",
     "output_type": "stream",
     "text": [
      "Test:   0%|          | 0/2 [00:00<?, ?it/s]                                     "
     ]
    },
    {
     "name": "stdout",
     "output_type": "stream",
     "text": [
      "Epoch 20/20: train loss 0.8040, Learning Rate 0.0000, val loss0.8012, corr 0.1592\n",
      "//////////Start test///////////\n",
      "----Attention-----\n"
     ]
    },
    {
     "name": "stderr",
     "output_type": "stream",
     "text": [
      "Test:  50%|█████     | 1/2 [00:00<00:00,  6.76it/s, test_corr=0.1762, test_loss=0.8057]"
     ]
    },
    {
     "name": "stdout",
     "output_type": "stream",
     "text": [
      "test loss0.8521,test corr 0.1046\n",
      "---- MLP Model-----\n"
     ]
    },
    {
     "name": "stderr",
     "output_type": "stream",
     "text": [
      "Test:   0%|          | 0/2 [00:00<?, ?it/s]                                            "
     ]
    },
    {
     "name": "stdout",
     "output_type": "stream",
     "text": [
      "test loss0.8490,test corr 0.1220\n",
      "----DNN Model-----\n"
     ]
    },
    {
     "name": "stderr",
     "output_type": "stream",
     "text": [
      "Test:   0%|          | 0/2 [00:00<?, ?it/s]                                            "
     ]
    },
    {
     "name": "stdout",
     "output_type": "stream",
     "text": [
      "test loss0.8565,test corr 0.1051\n",
      "----Attention-----\n"
     ]
    },
    {
     "name": "stderr",
     "output_type": "stream",
     "text": [
      "                                                                                       \r"
     ]
    },
    {
     "name": "stdout",
     "output_type": "stream",
     "text": [
      "test loss0.8508,test corr 0.1008\n",
      "---- MLP Model-----\n",
      "test loss0.8525,test corr 0.1121\n",
      "----DNN Model-----\n"
     ]
    },
    {
     "name": "stderr",
     "output_type": "stream",
     "text": [
      "Test:   0%|          | 0/2 [00:00<?, ?it/s]                                            "
     ]
    },
    {
     "name": "stdout",
     "output_type": "stream",
     "text": [
      "test loss0.8510,test corr 0.1084\n",
      "----Attention-----\n"
     ]
    },
    {
     "name": "stderr",
     "output_type": "stream",
     "text": [
      "Test:  50%|█████     | 1/2 [00:00<00:00,  8.87it/s, test_corr=0.1782, test_loss=0.8049]"
     ]
    },
    {
     "name": "stdout",
     "output_type": "stream",
     "text": [
      "test loss0.8515,test corr 0.0944\n",
      "---- MLP Model-----\n"
     ]
    },
    {
     "name": "stderr",
     "output_type": "stream",
     "text": [
      "Test:   0%|          | 0/2 [00:00<?, ?it/s]                                            "
     ]
    },
    {
     "name": "stdout",
     "output_type": "stream",
     "text": [
      "test loss0.8506,test corr 0.1198\n",
      "----DNN Model-----\n"
     ]
    },
    {
     "name": "stderr",
     "output_type": "stream",
     "text": [
      "                                                                                       "
     ]
    },
    {
     "name": "stdout",
     "output_type": "stream",
     "text": [
      "test loss0.8505,test corr 0.0997\n"
     ]
    },
    {
     "name": "stderr",
     "output_type": "stream",
     "text": [
      "\r"
     ]
    }
   ],
   "source": [
    "Main(trainLoader,valLoader,testLoader)"
   ]
  },
  {
   "cell_type": "code",
   "execution_count": 20,
   "metadata": {},
   "outputs": [],
   "source": [
    "class MixModel(nn.Module):\n",
    "    def __init__(self):\n",
    "        super(MixModel,self).__init__()\n",
    "        self.MLP =nn.Sequential(\n",
    "            nn.Linear(24,64),\n",
    "            nn.BatchNorm1d(64),\n",
    "            nn.SiLU(),\n",
    "            nn.Dropout(0.4),\n",
    "            nn.Linear(64,8),\n",
    "            nn.BatchNorm1d(8),\n",
    "            nn.SiLU(),\n",
    "            nn.Dropout(0.4),\n",
    "            nn.Linear(8,1),\n",
    "        )\n",
    " \n",
    "        self.criterion = nn.MSELoss()\n",
    "        \n",
    "    def forward(self,x):\n",
    "        output = self.MLP(x)\n",
    "        return output\n",
    "\n",
    "    def cal_Loss(self,y_hat,y):\n",
    "        return self.criterion(y_hat,y)"
   ]
  },
  {
   "cell_type": "code",
   "execution_count": 21,
   "metadata": {},
   "outputs": [],
   "source": [
    "def mixtrain(model,trainLoader,valLoader, optimizer, scheduler, config):\n",
    "    #load model\n",
    "    att =SimpleAttention(Att_config[\"context\"],312).cuda()\n",
    "    att.load_state_dict(torch.load(Att_config['store_path']),strict=False)\n",
    "    att.eval()\n",
    "    \n",
    "    mlp =SimpleMLP(MLP_config[\"context\"],312).cuda()\n",
    "    mlp.load_state_dict(torch.load(MLP_config['store_path']),strict=False)\n",
    "    mlp.eval()\n",
    "    \n",
    "    dnn =DNN(DNN_config[\"context\"],312).cuda()\n",
    "    dnn.load_state_dict(torch.load(DNN_config['store_path']),strict=False)\n",
    "    dnn.eval()\n",
    "    \n",
    "    best_corr =0\n",
    "    best_loss =1000\n",
    "    epochs =config[\"epoch\"]\n",
    "    for epoch in range(epochs):\n",
    "        batch_bar = tqdm(total = len(trainLoader),dynamic_ncols = True,leave =False,position = 0,desc = \"train\")\n",
    "        model.train()\n",
    "        train_total_loss = 0\n",
    "        for i,(x1,x2,y) in enumerate(trainLoader):\n",
    "            optimizer.zero_grad()\n",
    "            x1,x2,y = x1.cuda(),x2.cuda(),y.cuda()\n",
    "            f1 = att(x1,x2,Get_fea = True)\n",
    "            f2 = mlp(x1,x2,Get_fea = True)\n",
    "            f3 = dnn(x1,x2,Get_fea = True)\n",
    "            #print(f'f1 shape: {f1.shape}')\n",
    "            x = torch.cat((f1,f2),axis =-1)\n",
    "            x = torch.cat((x,f3),axis =-1)\n",
    "            #print(f'x shape: {x.shape}')\n",
    "            y_hat = model(x)\n",
    "            y_hat = y_hat.reshape(-1,1)\n",
    "            y =y.reshape(-1,1)\n",
    "            loss = model.cal_Loss(y_hat,y)\n",
    "            train_total_loss+=float(loss.cpu())\n",
    "            batch_bar.set_postfix(\n",
    "                loss=\"{:.04f}\".format(float(train_total_loss / (i + 1))),\n",
    "                lr=\"{:.04f}\".format(float(optimizer.param_groups[0]['lr'])))\n",
    "            loss.backward()\n",
    "            optimizer.step()\n",
    "            scheduler.step()\n",
    "            batch_bar.update()\n",
    "        batch_bar.close()\n",
    "        \n",
    "        val_total_loss = 0\n",
    "        val_total_corr = 0\n",
    "        batch_bar = tqdm(total = len(valLoader),dynamic_ncols = True,leave =False,position = 0,desc = \"val\")\n",
    "        model.eval()\n",
    "        for i,(x1,x2,y) in enumerate(valLoader):\n",
    "            with torch.no_grad():\n",
    "                x1,x2,y = x1.cuda(),x2.cuda(),y.cuda()\n",
    "                f1 = att(x1,x2,Get_fea = True)\n",
    "                f2 = mlp(x1,x2,Get_fea = True)\n",
    "                f3 = dnn(x1,x2,Get_fea = True)\n",
    "                \n",
    "                x = torch.cat((f1,f2),axis =-1)\n",
    "                x = torch.cat((x,f3),axis =-1)\n",
    "                y_hat = model(x)\n",
    "                y_hat = y_hat.reshape(-1,1)\n",
    "                y =y.reshape(-1,1)\n",
    "                loss = model.cal_Loss(y_hat,y)\n",
    "                \n",
    "\n",
    "                corr = get_corr(y_hat,y)\n",
    "                val_total_corr+=corr\n",
    "               \n",
    "                val_total_loss+=loss\n",
    "            batch_bar.set_postfix(\n",
    "                loss=\"{:.04f}\".format(float(val_total_loss / (i + 1))),\n",
    "                \n",
    "                corr=\"{:.04f}\".format(float(val_total_corr / (i + 1))),\n",
    "             )\n",
    "            batch_bar.update()\n",
    "        batch_bar.close()\n",
    "        val_loss = float(val_total_loss/len(valLoader))\n",
    "        corr = float(val_total_corr/len(valLoader))\n",
    "        if(corr>best_corr):\n",
    "            best_corr = corr\n",
    "            torch.save(model.state_dict(),config[\"store_path\"])\n",
    "            print(\"successfully save model\")\n",
    "        \n",
    "        print(f\"Epoch {epoch+1}/{epochs}: train loss {float(train_total_loss / len(trainLoader)):0.04f}, Learning Rate {optimizer.param_groups[0]['lr']:0.04f}, val loss{float(val_total_loss/len(valLoader)):0.04f}, corr {float(val_total_corr / (i + 1)):0.04f}\")"
   ]
  },
  {
   "cell_type": "code",
   "execution_count": 22,
   "metadata": {},
   "outputs": [],
   "source": [
    "def Mixtest(model,testLoader,config):\n",
    "    #load model\n",
    "    att =SimpleAttention(Att_config[\"context\"],312).cuda()\n",
    "    att.load_state_dict(torch.load(Att_config['store_path']),strict=False)\n",
    "    att.eval()\n",
    "    \n",
    "    mlp =SimpleMLP(MLP_config[\"context\"],312).cuda()\n",
    "    mlp.load_state_dict(torch.load(MLP_config['store_path']),strict=False)\n",
    "    mlp.eval()\n",
    "    \n",
    "    dnn =DNN(DNN_config[\"context\"],312).cuda()\n",
    "    dnn.load_state_dict(torch.load(DNN_config['store_path']),strict=False)\n",
    "    dnn.eval()\n",
    "    \n",
    "    \n",
    "    model.load_state_dict(torch.load(config[\"store_path\"]))\n",
    "    model.eval()\n",
    "    test_total_loss = 0\n",
    "    test_total_corr = 0\n",
    "    batch_bar = tqdm(total = len(testLoader),dynamic_ncols = True,leave =False,position = 0,desc = \"Test\")\n",
    "    for i,(x1,x2,y) in enumerate(testLoader):\n",
    "        with torch.no_grad():\n",
    "            x1,x2,y = x1.cuda(),x2.cuda(),y.cuda()\n",
    "            f1 = att(x1,x2,Get_fea = True)\n",
    "            f2 = mlp(x1,x2,Get_fea = True)\n",
    "            f3 = dnn(x1,x2,Get_fea = True)   \n",
    "            x = torch.cat((f1,f2),axis =-1)\n",
    "            x = torch.cat((x,f3),axis =-1)\n",
    "            y_hat = model(x)\n",
    "            y_hat = y_hat.reshape(-1,1)\n",
    "            y =y.reshape(-1,1)\n",
    "            loss = model.cal_Loss(y_hat,y)\n",
    "                \n",
    "\n",
    "            corr = get_corr(y_hat,y)\n",
    "            test_total_corr+=corr\n",
    "            test_total_loss+=loss\n",
    "        batch_bar.set_postfix(\n",
    "                test_loss=\"{:.04f}\".format(float(test_total_loss / (i + 1))),\n",
    "                \n",
    "                test_corr=\"{:.04f}\".format(float(test_total_corr / (i + 1))),\n",
    "             )\n",
    "        batch_bar.update()\n",
    "    batch_bar.close()\n",
    "    print(f\"test loss{float(test_total_loss/len(testLoader)):0.04f},test corr {float(test_total_corr / len(testLoader)):0.04f}\")"
   ]
  },
  {
   "cell_type": "code",
   "execution_count": 23,
   "metadata": {},
   "outputs": [],
   "source": [
    "def mixMain():\n",
    "    model = MixModel().cuda()\n",
    "    model.train()\n",
    "    optimizer = getattr(torch.optim,mix_config[\"optimz\"])(model.parameters(),lr =mix_config[\"learning_rate\"])\n",
    "    scheduler = torch.optim.lr_scheduler.CosineAnnealingLR(optimizer, T_max=(len(trainLoader) * mix_config[\"epoch\"]))\n",
    "    print(\"///////////Start Train mix Model//////////\")\n",
    "    mixtrain(model,trainLoader,valLoader,optimizer,scheduler,mix_config)\n",
    "    print(\"//////////Start test///////////\")\n",
    "    print(\"----Attention-----\")\n",
    "    Mixtest(model,testLoader,mix_config)"
   ]
  },
  {
   "cell_type": "code",
   "execution_count": 24,
   "metadata": {},
   "outputs": [],
   "source": [
    "mix_config={\"epoch\" : 20,\"batch_size\":10000,\"learning_rate\":0.02,\"optimz\":\"Adam\",\"store_path\":\"/root/Ubiquant/Mix.pth\",\"context\":1}"
   ]
  },
  {
   "cell_type": "code",
   "execution_count": 25,
   "metadata": {
    "scrolled": true
   },
   "outputs": [
    {
     "name": "stdout",
     "output_type": "stream",
     "text": [
      "///////////Start Train mix Model//////////\n"
     ]
    },
    {
     "name": "stderr",
     "output_type": "stream",
     "text": [
      "train:   0%|          | 0/282 [00:00<?, ?it/s]                                  "
     ]
    },
    {
     "name": "stdout",
     "output_type": "stream",
     "text": [
      "successfully save model\n",
      "Epoch 1/20: train loss 0.8175, Learning Rate 0.0199, val loss0.8028, corr 0.1137\n"
     ]
    },
    {
     "name": "stderr",
     "output_type": "stream",
     "text": [
      "train:   0%|          | 0/282 [00:00<?, ?it/s]                                  "
     ]
    },
    {
     "name": "stdout",
     "output_type": "stream",
     "text": [
      "Epoch 2/20: train loss 0.8114, Learning Rate 0.0195, val loss0.8056, corr 0.1153\n"
     ]
    },
    {
     "name": "stderr",
     "output_type": "stream",
     "text": [
      "train:   0%|          | 0/282 [00:00<?, ?it/s]                                  "
     ]
    },
    {
     "name": "stdout",
     "output_type": "stream",
     "text": [
      "successfully save model\n",
      "Epoch 3/20: train loss 0.8110, Learning Rate 0.0189, val loss0.8024, corr 0.1150\n"
     ]
    },
    {
     "name": "stderr",
     "output_type": "stream",
     "text": [
      "train:   0%|          | 0/282 [00:00<?, ?it/s]                                  "
     ]
    },
    {
     "name": "stdout",
     "output_type": "stream",
     "text": [
      "Epoch 4/20: train loss 0.8107, Learning Rate 0.0181, val loss0.8109, corr 0.1141\n"
     ]
    },
    {
     "name": "stderr",
     "output_type": "stream",
     "text": [
      "train:   0%|          | 0/282 [00:00<?, ?it/s]                                  "
     ]
    },
    {
     "name": "stdout",
     "output_type": "stream",
     "text": [
      "Epoch 5/20: train loss 0.8105, Learning Rate 0.0171, val loss0.8071, corr 0.1193\n"
     ]
    },
    {
     "name": "stderr",
     "output_type": "stream",
     "text": [
      "train:   0%|          | 0/282 [00:00<?, ?it/s]                                  "
     ]
    },
    {
     "name": "stdout",
     "output_type": "stream",
     "text": [
      "Epoch 6/20: train loss 0.8104, Learning Rate 0.0159, val loss0.8075, corr 0.1165\n"
     ]
    },
    {
     "name": "stderr",
     "output_type": "stream",
     "text": [
      "train:   0%|          | 0/282 [00:00<?, ?it/s]                                  "
     ]
    },
    {
     "name": "stdout",
     "output_type": "stream",
     "text": [
      "Epoch 7/20: train loss 0.8102, Learning Rate 0.0145, val loss0.8073, corr 0.1155\n"
     ]
    },
    {
     "name": "stderr",
     "output_type": "stream",
     "text": [
      "train:   0%|          | 0/282 [00:00<?, ?it/s]                                  "
     ]
    },
    {
     "name": "stdout",
     "output_type": "stream",
     "text": [
      "Epoch 8/20: train loss 0.8102, Learning Rate 0.0131, val loss0.8102, corr 0.1200\n"
     ]
    },
    {
     "name": "stderr",
     "output_type": "stream",
     "text": [
      "train:   0%|          | 0/282 [00:00<?, ?it/s]                                  "
     ]
    },
    {
     "name": "stdout",
     "output_type": "stream",
     "text": [
      "Epoch 9/20: train loss 0.8104, Learning Rate 0.0116, val loss0.8078, corr 0.1171\n"
     ]
    },
    {
     "name": "stderr",
     "output_type": "stream",
     "text": [
      "train:   0%|          | 0/282 [00:00<?, ?it/s]                                  "
     ]
    },
    {
     "name": "stdout",
     "output_type": "stream",
     "text": [
      "Epoch 10/20: train loss 0.8099, Learning Rate 0.0100, val loss0.8073, corr 0.1147\n"
     ]
    },
    {
     "name": "stderr",
     "output_type": "stream",
     "text": [
      "train:   0%|          | 0/282 [00:00<?, ?it/s]                                  "
     ]
    },
    {
     "name": "stdout",
     "output_type": "stream",
     "text": [
      "Epoch 11/20: train loss 0.8099, Learning Rate 0.0084, val loss0.8060, corr 0.1149\n"
     ]
    },
    {
     "name": "stderr",
     "output_type": "stream",
     "text": [
      "train:   0%|          | 0/282 [00:00<?, ?it/s]                                  "
     ]
    },
    {
     "name": "stdout",
     "output_type": "stream",
     "text": [
      "Epoch 12/20: train loss 0.8096, Learning Rate 0.0069, val loss0.8075, corr 0.1136\n"
     ]
    },
    {
     "name": "stderr",
     "output_type": "stream",
     "text": [
      "train:   0%|          | 0/282 [00:00<?, ?it/s]                                  "
     ]
    },
    {
     "name": "stdout",
     "output_type": "stream",
     "text": [
      "Epoch 13/20: train loss 0.8095, Learning Rate 0.0055, val loss0.8091, corr 0.1135\n"
     ]
    },
    {
     "name": "stderr",
     "output_type": "stream",
     "text": [
      "train:   0%|          | 0/282 [00:00<?, ?it/s]                                  "
     ]
    },
    {
     "name": "stdout",
     "output_type": "stream",
     "text": [
      "Epoch 14/20: train loss 0.8095, Learning Rate 0.0041, val loss0.8100, corr 0.1195\n"
     ]
    },
    {
     "name": "stderr",
     "output_type": "stream",
     "text": [
      "train:   0%|          | 0/282 [00:00<?, ?it/s]                                  "
     ]
    },
    {
     "name": "stdout",
     "output_type": "stream",
     "text": [
      "Epoch 15/20: train loss 0.8094, Learning Rate 0.0029, val loss0.8091, corr 0.1175\n"
     ]
    },
    {
     "name": "stderr",
     "output_type": "stream",
     "text": [
      "train:   0%|          | 0/282 [00:00<?, ?it/s]                                  "
     ]
    },
    {
     "name": "stdout",
     "output_type": "stream",
     "text": [
      "Epoch 16/20: train loss 0.8091, Learning Rate 0.0019, val loss0.8068, corr 0.1152\n"
     ]
    },
    {
     "name": "stderr",
     "output_type": "stream",
     "text": [
      "train:   0%|          | 0/282 [00:00<?, ?it/s]                                  "
     ]
    },
    {
     "name": "stdout",
     "output_type": "stream",
     "text": [
      "Epoch 17/20: train loss 0.8092, Learning Rate 0.0011, val loss0.8082, corr 0.1170\n"
     ]
    },
    {
     "name": "stderr",
     "output_type": "stream",
     "text": [
      "train:   0%|          | 0/282 [00:00<?, ?it/s]                                  "
     ]
    },
    {
     "name": "stdout",
     "output_type": "stream",
     "text": [
      "Epoch 18/20: train loss 0.8092, Learning Rate 0.0005, val loss0.8058, corr 0.1179\n"
     ]
    },
    {
     "name": "stderr",
     "output_type": "stream",
     "text": [
      "train:   0%|          | 0/282 [00:00<?, ?it/s]                                  "
     ]
    },
    {
     "name": "stdout",
     "output_type": "stream",
     "text": [
      "Epoch 19/20: train loss 0.8090, Learning Rate 0.0001, val loss0.8090, corr 0.1164\n"
     ]
    },
    {
     "name": "stderr",
     "output_type": "stream",
     "text": [
      "                                                                                \r"
     ]
    },
    {
     "name": "stdout",
     "output_type": "stream",
     "text": [
      "Epoch 20/20: train loss 0.8091, Learning Rate 0.0000, val loss0.8062, corr 0.1174\n",
      "//////////Start test///////////\n",
      "----Attention-----\n"
     ]
    },
    {
     "ename": "RuntimeError",
     "evalue": "Error(s) in loading state_dict for MixModel:\n\tUnexpected key(s) in state_dict: \"id_embedding.weight\", \"cnn.weight\", \"cnn.bias\", \"att.in_proj_weight\", \"att.in_proj_bias\", \"att.out_proj.weight\", \"att.out_proj.bias\", \"FinalOutPut.0.weight\", \"FinalOutPut.0.bias\", \"FinalOutPut.0.running_mean\", \"FinalOutPut.0.running_var\", \"FinalOutPut.0.num_batches_tracked\", \"FinalOutPut.3.weight\", \"FinalOutPut.3.bias\", \"MLP.9.weight\", \"MLP.9.bias\", \"MLP.9.running_mean\", \"MLP.9.running_var\", \"MLP.9.num_batches_tracked\", \"MLP.12.weight\", \"MLP.12.bias\". \n\tsize mismatch for MLP.0.weight: copying a param with shape torch.Size([512, 19968]) from checkpoint, the shape in current model is torch.Size([64, 24]).\n\tsize mismatch for MLP.0.bias: copying a param with shape torch.Size([512]) from checkpoint, the shape in current model is torch.Size([64]).\n\tsize mismatch for MLP.1.weight: copying a param with shape torch.Size([512]) from checkpoint, the shape in current model is torch.Size([64]).\n\tsize mismatch for MLP.1.bias: copying a param with shape torch.Size([512]) from checkpoint, the shape in current model is torch.Size([64]).\n\tsize mismatch for MLP.1.running_mean: copying a param with shape torch.Size([512]) from checkpoint, the shape in current model is torch.Size([64]).\n\tsize mismatch for MLP.1.running_var: copying a param with shape torch.Size([512]) from checkpoint, the shape in current model is torch.Size([64]).\n\tsize mismatch for MLP.4.weight: copying a param with shape torch.Size([256, 512]) from checkpoint, the shape in current model is torch.Size([8, 64]).\n\tsize mismatch for MLP.4.bias: copying a param with shape torch.Size([256]) from checkpoint, the shape in current model is torch.Size([8]).\n\tsize mismatch for MLP.5.weight: copying a param with shape torch.Size([256]) from checkpoint, the shape in current model is torch.Size([8]).\n\tsize mismatch for MLP.5.bias: copying a param with shape torch.Size([256]) from checkpoint, the shape in current model is torch.Size([8]).\n\tsize mismatch for MLP.5.running_mean: copying a param with shape torch.Size([256]) from checkpoint, the shape in current model is torch.Size([8]).\n\tsize mismatch for MLP.5.running_var: copying a param with shape torch.Size([256]) from checkpoint, the shape in current model is torch.Size([8]).\n\tsize mismatch for MLP.8.weight: copying a param with shape torch.Size([128, 256]) from checkpoint, the shape in current model is torch.Size([1, 8]).\n\tsize mismatch for MLP.8.bias: copying a param with shape torch.Size([128]) from checkpoint, the shape in current model is torch.Size([1]).",
     "output_type": "error",
     "traceback": [
      "\u001b[0;31m---------------------------------------------------------------------------\u001b[0m",
      "\u001b[0;31mRuntimeError\u001b[0m                              Traceback (most recent call last)",
      "\u001b[0;32m<ipython-input-25-4bcb7d93be49>\u001b[0m in \u001b[0;36m<module>\u001b[0;34m\u001b[0m\n\u001b[0;32m----> 1\u001b[0;31m \u001b[0mmixMain\u001b[0m\u001b[0;34m(\u001b[0m\u001b[0;34m)\u001b[0m\u001b[0;34m\u001b[0m\u001b[0;34m\u001b[0m\u001b[0m\n\u001b[0m",
      "\u001b[0;32m<ipython-input-23-bab1c4dd560a>\u001b[0m in \u001b[0;36mmixMain\u001b[0;34m()\u001b[0m\n\u001b[1;32m      8\u001b[0m     \u001b[0mprint\u001b[0m\u001b[0;34m(\u001b[0m\u001b[0;34m\"//////////Start test///////////\"\u001b[0m\u001b[0;34m)\u001b[0m\u001b[0;34m\u001b[0m\u001b[0;34m\u001b[0m\u001b[0m\n\u001b[1;32m      9\u001b[0m     \u001b[0mprint\u001b[0m\u001b[0;34m(\u001b[0m\u001b[0;34m\"----Attention-----\"\u001b[0m\u001b[0;34m)\u001b[0m\u001b[0;34m\u001b[0m\u001b[0;34m\u001b[0m\u001b[0m\n\u001b[0;32m---> 10\u001b[0;31m     \u001b[0mMixtest\u001b[0m\u001b[0;34m(\u001b[0m\u001b[0mmodel\u001b[0m\u001b[0;34m,\u001b[0m\u001b[0mtestLoader\u001b[0m\u001b[0;34m,\u001b[0m\u001b[0mAtt_config\u001b[0m\u001b[0;34m)\u001b[0m\u001b[0;34m\u001b[0m\u001b[0;34m\u001b[0m\u001b[0m\n\u001b[0m",
      "\u001b[0;32m<ipython-input-22-b64434cee331>\u001b[0m in \u001b[0;36mMixtest\u001b[0;34m(model, testLoader, config)\u001b[0m\n\u001b[1;32m     14\u001b[0m \u001b[0;34m\u001b[0m\u001b[0m\n\u001b[1;32m     15\u001b[0m \u001b[0;34m\u001b[0m\u001b[0m\n\u001b[0;32m---> 16\u001b[0;31m     \u001b[0mmodel\u001b[0m\u001b[0;34m.\u001b[0m\u001b[0mload_state_dict\u001b[0m\u001b[0;34m(\u001b[0m\u001b[0mtorch\u001b[0m\u001b[0;34m.\u001b[0m\u001b[0mload\u001b[0m\u001b[0;34m(\u001b[0m\u001b[0mconfig\u001b[0m\u001b[0;34m[\u001b[0m\u001b[0;34m\"store_path\"\u001b[0m\u001b[0;34m]\u001b[0m\u001b[0;34m)\u001b[0m\u001b[0;34m)\u001b[0m\u001b[0;34m\u001b[0m\u001b[0;34m\u001b[0m\u001b[0m\n\u001b[0m\u001b[1;32m     17\u001b[0m     \u001b[0mmodel\u001b[0m\u001b[0;34m.\u001b[0m\u001b[0meval\u001b[0m\u001b[0;34m(\u001b[0m\u001b[0;34m)\u001b[0m\u001b[0;34m\u001b[0m\u001b[0;34m\u001b[0m\u001b[0m\n\u001b[1;32m     18\u001b[0m     \u001b[0mtest_total_loss\u001b[0m \u001b[0;34m=\u001b[0m \u001b[0;36m0\u001b[0m\u001b[0;34m\u001b[0m\u001b[0;34m\u001b[0m\u001b[0m\n",
      "\u001b[0;32m~/miniconda3/lib/python3.8/site-packages/torch/nn/modules/module.py\u001b[0m in \u001b[0;36mload_state_dict\u001b[0;34m(self, state_dict, strict)\u001b[0m\n\u001b[1;32m   1049\u001b[0m \u001b[0;34m\u001b[0m\u001b[0m\n\u001b[1;32m   1050\u001b[0m         \u001b[0;32mif\u001b[0m \u001b[0mlen\u001b[0m\u001b[0;34m(\u001b[0m\u001b[0merror_msgs\u001b[0m\u001b[0;34m)\u001b[0m \u001b[0;34m>\u001b[0m \u001b[0;36m0\u001b[0m\u001b[0;34m:\u001b[0m\u001b[0;34m\u001b[0m\u001b[0;34m\u001b[0m\u001b[0m\n\u001b[0;32m-> 1051\u001b[0;31m             raise RuntimeError('Error(s) in loading state_dict for {}:\\n\\t{}'.format(\n\u001b[0m\u001b[1;32m   1052\u001b[0m                                self.__class__.__name__, \"\\n\\t\".join(error_msgs)))\n\u001b[1;32m   1053\u001b[0m         \u001b[0;32mreturn\u001b[0m \u001b[0m_IncompatibleKeys\u001b[0m\u001b[0;34m(\u001b[0m\u001b[0mmissing_keys\u001b[0m\u001b[0;34m,\u001b[0m \u001b[0munexpected_keys\u001b[0m\u001b[0;34m)\u001b[0m\u001b[0;34m\u001b[0m\u001b[0;34m\u001b[0m\u001b[0m\n",
      "\u001b[0;31mRuntimeError\u001b[0m: Error(s) in loading state_dict for MixModel:\n\tUnexpected key(s) in state_dict: \"id_embedding.weight\", \"cnn.weight\", \"cnn.bias\", \"att.in_proj_weight\", \"att.in_proj_bias\", \"att.out_proj.weight\", \"att.out_proj.bias\", \"FinalOutPut.0.weight\", \"FinalOutPut.0.bias\", \"FinalOutPut.0.running_mean\", \"FinalOutPut.0.running_var\", \"FinalOutPut.0.num_batches_tracked\", \"FinalOutPut.3.weight\", \"FinalOutPut.3.bias\", \"MLP.9.weight\", \"MLP.9.bias\", \"MLP.9.running_mean\", \"MLP.9.running_var\", \"MLP.9.num_batches_tracked\", \"MLP.12.weight\", \"MLP.12.bias\". \n\tsize mismatch for MLP.0.weight: copying a param with shape torch.Size([512, 19968]) from checkpoint, the shape in current model is torch.Size([64, 24]).\n\tsize mismatch for MLP.0.bias: copying a param with shape torch.Size([512]) from checkpoint, the shape in current model is torch.Size([64]).\n\tsize mismatch for MLP.1.weight: copying a param with shape torch.Size([512]) from checkpoint, the shape in current model is torch.Size([64]).\n\tsize mismatch for MLP.1.bias: copying a param with shape torch.Size([512]) from checkpoint, the shape in current model is torch.Size([64]).\n\tsize mismatch for MLP.1.running_mean: copying a param with shape torch.Size([512]) from checkpoint, the shape in current model is torch.Size([64]).\n\tsize mismatch for MLP.1.running_var: copying a param with shape torch.Size([512]) from checkpoint, the shape in current model is torch.Size([64]).\n\tsize mismatch for MLP.4.weight: copying a param with shape torch.Size([256, 512]) from checkpoint, the shape in current model is torch.Size([8, 64]).\n\tsize mismatch for MLP.4.bias: copying a param with shape torch.Size([256]) from checkpoint, the shape in current model is torch.Size([8]).\n\tsize mismatch for MLP.5.weight: copying a param with shape torch.Size([256]) from checkpoint, the shape in current model is torch.Size([8]).\n\tsize mismatch for MLP.5.bias: copying a param with shape torch.Size([256]) from checkpoint, the shape in current model is torch.Size([8]).\n\tsize mismatch for MLP.5.running_mean: copying a param with shape torch.Size([256]) from checkpoint, the shape in current model is torch.Size([8]).\n\tsize mismatch for MLP.5.running_var: copying a param with shape torch.Size([256]) from checkpoint, the shape in current model is torch.Size([8]).\n\tsize mismatch for MLP.8.weight: copying a param with shape torch.Size([128, 256]) from checkpoint, the shape in current model is torch.Size([1, 8]).\n\tsize mismatch for MLP.8.bias: copying a param with shape torch.Size([128]) from checkpoint, the shape in current model is torch.Size([1])."
     ]
    }
   ],
   "source": [
    "mixMain()"
   ]
  },
  {
   "cell_type": "code",
   "execution_count": null,
   "metadata": {},
   "outputs": [],
   "source": []
  }
 ],
 "metadata": {
  "kernelspec": {
   "display_name": "Python 3",
   "language": "python",
   "name": "python3"
  },
  "language_info": {
   "codemirror_mode": {
    "name": "ipython",
    "version": 3
   },
   "file_extension": ".py",
   "mimetype": "text/x-python",
   "name": "python",
   "nbconvert_exporter": "python",
   "pygments_lexer": "ipython3",
   "version": "3.8.5"
  }
 },
 "nbformat": 4,
 "nbformat_minor": 5
}
