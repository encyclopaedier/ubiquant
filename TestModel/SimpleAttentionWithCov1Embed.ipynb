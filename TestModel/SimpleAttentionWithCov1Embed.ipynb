{
 "cells": [
  {
   "cell_type": "code",
   "execution_count": 22,
   "id": "973f64fc",
   "metadata": {},
   "outputs": [],
   "source": [
    "import pandas as pd\n",
    "import torch \n",
    "import torch.nn as nn\n",
    "from torch.utils.data import DataLoader,Dataset\n",
    "import numpy as np\n",
    "from tqdm import tqdm"
   ]
  },
  {
   "cell_type": "code",
   "execution_count": 23,
   "id": "4a8d7e67",
   "metadata": {},
   "outputs": [],
   "source": [
    "path=\"C:/Quant/project/\"\n",
    "targetpath =\"TRAIN.csv\"\n",
    "valpath = \"val.csv\"\n",
    "testpath =\"test.csv\""
   ]
  },
  {
   "cell_type": "code",
   "execution_count": 24,
   "id": "a20b05f6",
   "metadata": {},
   "outputs": [],
   "source": [
    "df= pd.read_csv(path+valpath)"
   ]
  },
  {
   "cell_type": "code",
   "execution_count": 25,
   "id": "c8c992b8",
   "metadata": {},
   "outputs": [
    {
     "data": {
      "text/html": [
       "<div>\n",
       "<style scoped>\n",
       "    .dataframe tbody tr th:only-of-type {\n",
       "        vertical-align: middle;\n",
       "    }\n",
       "\n",
       "    .dataframe tbody tr th {\n",
       "        vertical-align: top;\n",
       "    }\n",
       "\n",
       "    .dataframe thead th {\n",
       "        text-align: right;\n",
       "    }\n",
       "</style>\n",
       "<table border=\"1\" class=\"dataframe\">\n",
       "  <thead>\n",
       "    <tr style=\"text-align: right;\">\n",
       "      <th></th>\n",
       "      <th>Unnamed: 0</th>\n",
       "      <th>row_id</th>\n",
       "      <th>time_id</th>\n",
       "      <th>investment_id</th>\n",
       "      <th>target</th>\n",
       "      <th>f_0</th>\n",
       "      <th>f_1</th>\n",
       "      <th>f_2</th>\n",
       "      <th>f_3</th>\n",
       "      <th>f_4</th>\n",
       "      <th>...</th>\n",
       "      <th>f_290</th>\n",
       "      <th>f_291</th>\n",
       "      <th>f_292</th>\n",
       "      <th>f_293</th>\n",
       "      <th>f_294</th>\n",
       "      <th>f_295</th>\n",
       "      <th>f_296</th>\n",
       "      <th>f_297</th>\n",
       "      <th>f_298</th>\n",
       "      <th>f_299</th>\n",
       "    </tr>\n",
       "  </thead>\n",
       "  <tbody>\n",
       "    <tr>\n",
       "      <th>0</th>\n",
       "      <td>0</td>\n",
       "      <td>22_58</td>\n",
       "      <td>22</td>\n",
       "      <td>58</td>\n",
       "      <td>0.600911</td>\n",
       "      <td>1.081210</td>\n",
       "      <td>-1.635753</td>\n",
       "      <td>0.082000</td>\n",
       "      <td>-0.654596</td>\n",
       "      <td>2.116271</td>\n",
       "      <td>...</td>\n",
       "      <td>1.829991</td>\n",
       "      <td>1.225630</td>\n",
       "      <td>-0.133157</td>\n",
       "      <td>0.338368</td>\n",
       "      <td>-1.329777</td>\n",
       "      <td>0.458489</td>\n",
       "      <td>-1.171452</td>\n",
       "      <td>-1.116468</td>\n",
       "      <td>-1.403561</td>\n",
       "      <td>1.496008</td>\n",
       "    </tr>\n",
       "    <tr>\n",
       "      <th>1</th>\n",
       "      <td>1</td>\n",
       "      <td>22_59</td>\n",
       "      <td>22</td>\n",
       "      <td>59</td>\n",
       "      <td>-0.148273</td>\n",
       "      <td>-1.107688</td>\n",
       "      <td>-0.762889</td>\n",
       "      <td>0.759441</td>\n",
       "      <td>-0.661708</td>\n",
       "      <td>0.614619</td>\n",
       "      <td>...</td>\n",
       "      <td>0.329355</td>\n",
       "      <td>1.225630</td>\n",
       "      <td>0.335490</td>\n",
       "      <td>0.338368</td>\n",
       "      <td>0.752005</td>\n",
       "      <td>0.366660</td>\n",
       "      <td>-1.171452</td>\n",
       "      <td>0.843250</td>\n",
       "      <td>0.520654</td>\n",
       "      <td>0.824550</td>\n",
       "    </tr>\n",
       "    <tr>\n",
       "      <th>2</th>\n",
       "      <td>2</td>\n",
       "      <td>22_61</td>\n",
       "      <td>22</td>\n",
       "      <td>61</td>\n",
       "      <td>-0.595294</td>\n",
       "      <td>0.776524</td>\n",
       "      <td>0.546407</td>\n",
       "      <td>0.045971</td>\n",
       "      <td>-0.606577</td>\n",
       "      <td>-0.313791</td>\n",
       "      <td>...</td>\n",
       "      <td>-1.076004</td>\n",
       "      <td>-0.815907</td>\n",
       "      <td>-0.349123</td>\n",
       "      <td>0.338368</td>\n",
       "      <td>0.752005</td>\n",
       "      <td>-0.404179</td>\n",
       "      <td>0.084959</td>\n",
       "      <td>-0.250347</td>\n",
       "      <td>-0.819772</td>\n",
       "      <td>-0.118027</td>\n",
       "    </tr>\n",
       "    <tr>\n",
       "      <th>3</th>\n",
       "      <td>3</td>\n",
       "      <td>22_62</td>\n",
       "      <td>22</td>\n",
       "      <td>62</td>\n",
       "      <td>-0.983207</td>\n",
       "      <td>-0.227873</td>\n",
       "      <td>0.400930</td>\n",
       "      <td>-1.453166</td>\n",
       "      <td>0.601058</td>\n",
       "      <td>4.339244</td>\n",
       "      <td>...</td>\n",
       "      <td>0.840153</td>\n",
       "      <td>-0.815907</td>\n",
       "      <td>-0.667887</td>\n",
       "      <td>0.338368</td>\n",
       "      <td>-1.329777</td>\n",
       "      <td>3.346428</td>\n",
       "      <td>-1.171452</td>\n",
       "      <td>-0.388681</td>\n",
       "      <td>1.211371</td>\n",
       "      <td>4.564400</td>\n",
       "    </tr>\n",
       "    <tr>\n",
       "      <th>4</th>\n",
       "      <td>4</td>\n",
       "      <td>22_63</td>\n",
       "      <td>22</td>\n",
       "      <td>63</td>\n",
       "      <td>-0.229776</td>\n",
       "      <td>-0.004463</td>\n",
       "      <td>-0.035502</td>\n",
       "      <td>2.124675</td>\n",
       "      <td>-0.658155</td>\n",
       "      <td>-0.573081</td>\n",
       "      <td>...</td>\n",
       "      <td>0.808395</td>\n",
       "      <td>-0.815907</td>\n",
       "      <td>-0.425994</td>\n",
       "      <td>0.338368</td>\n",
       "      <td>0.752005</td>\n",
       "      <td>-0.606159</td>\n",
       "      <td>-1.171452</td>\n",
       "      <td>0.717530</td>\n",
       "      <td>-1.274164</td>\n",
       "      <td>-0.703374</td>\n",
       "    </tr>\n",
       "    <tr>\n",
       "      <th>...</th>\n",
       "      <td>...</td>\n",
       "      <td>...</td>\n",
       "      <td>...</td>\n",
       "      <td>...</td>\n",
       "      <td>...</td>\n",
       "      <td>...</td>\n",
       "      <td>...</td>\n",
       "      <td>...</td>\n",
       "      <td>...</td>\n",
       "      <td>...</td>\n",
       "      <td>...</td>\n",
       "      <td>...</td>\n",
       "      <td>...</td>\n",
       "      <td>...</td>\n",
       "      <td>...</td>\n",
       "      <td>...</td>\n",
       "      <td>...</td>\n",
       "      <td>...</td>\n",
       "      <td>...</td>\n",
       "      <td>...</td>\n",
       "      <td>...</td>\n",
       "    </tr>\n",
       "    <tr>\n",
       "      <th>24995</th>\n",
       "      <td>24995</td>\n",
       "      <td>33_213</td>\n",
       "      <td>33</td>\n",
       "      <td>213</td>\n",
       "      <td>-1.414616</td>\n",
       "      <td>0.833006</td>\n",
       "      <td>-1.078762</td>\n",
       "      <td>-0.972510</td>\n",
       "      <td>2.457652</td>\n",
       "      <td>-0.235570</td>\n",
       "      <td>...</td>\n",
       "      <td>-0.120991</td>\n",
       "      <td>-0.657001</td>\n",
       "      <td>-0.324576</td>\n",
       "      <td>0.173576</td>\n",
       "      <td>0.825183</td>\n",
       "      <td>-0.382438</td>\n",
       "      <td>-0.283733</td>\n",
       "      <td>-0.444719</td>\n",
       "      <td>1.520904</td>\n",
       "      <td>-0.176580</td>\n",
       "    </tr>\n",
       "    <tr>\n",
       "      <th>24996</th>\n",
       "      <td>24996</td>\n",
       "      <td>33_214</td>\n",
       "      <td>33</td>\n",
       "      <td>214</td>\n",
       "      <td>-0.006400</td>\n",
       "      <td>-0.584242</td>\n",
       "      <td>0.633364</td>\n",
       "      <td>0.188913</td>\n",
       "      <td>-0.773373</td>\n",
       "      <td>-0.483320</td>\n",
       "      <td>...</td>\n",
       "      <td>0.446051</td>\n",
       "      <td>-0.657001</td>\n",
       "      <td>-0.452254</td>\n",
       "      <td>0.173576</td>\n",
       "      <td>0.825183</td>\n",
       "      <td>-0.401591</td>\n",
       "      <td>-0.283733</td>\n",
       "      <td>-0.329566</td>\n",
       "      <td>0.846726</td>\n",
       "      <td>-0.484327</td>\n",
       "    </tr>\n",
       "    <tr>\n",
       "      <th>24997</th>\n",
       "      <td>24997</td>\n",
       "      <td>33_216</td>\n",
       "      <td>33</td>\n",
       "      <td>216</td>\n",
       "      <td>-0.275792</td>\n",
       "      <td>0.087031</td>\n",
       "      <td>1.204072</td>\n",
       "      <td>0.267470</td>\n",
       "      <td>-0.389980</td>\n",
       "      <td>-0.500376</td>\n",
       "      <td>...</td>\n",
       "      <td>-0.619648</td>\n",
       "      <td>-0.657001</td>\n",
       "      <td>-1.341064</td>\n",
       "      <td>0.173576</td>\n",
       "      <td>-1.211851</td>\n",
       "      <td>-0.528420</td>\n",
       "      <td>0.992241</td>\n",
       "      <td>-0.913289</td>\n",
       "      <td>-0.411646</td>\n",
       "      <td>-0.506684</td>\n",
       "    </tr>\n",
       "    <tr>\n",
       "      <th>24998</th>\n",
       "      <td>24998</td>\n",
       "      <td>33_217</td>\n",
       "      <td>33</td>\n",
       "      <td>217</td>\n",
       "      <td>-0.934072</td>\n",
       "      <td>0.528163</td>\n",
       "      <td>-1.649470</td>\n",
       "      <td>-1.010666</td>\n",
       "      <td>1.146295</td>\n",
       "      <td>-0.087223</td>\n",
       "      <td>...</td>\n",
       "      <td>0.394762</td>\n",
       "      <td>-0.657001</td>\n",
       "      <td>-0.934546</td>\n",
       "      <td>0.173576</td>\n",
       "      <td>0.825183</td>\n",
       "      <td>-0.255277</td>\n",
       "      <td>0.992241</td>\n",
       "      <td>-0.845721</td>\n",
       "      <td>-0.133167</td>\n",
       "      <td>-0.050718</td>\n",
       "    </tr>\n",
       "    <tr>\n",
       "      <th>24999</th>\n",
       "      <td>24999</td>\n",
       "      <td>33_218</td>\n",
       "      <td>33</td>\n",
       "      <td>218</td>\n",
       "      <td>-0.925161</td>\n",
       "      <td>-0.320688</td>\n",
       "      <td>1.917458</td>\n",
       "      <td>-0.796179</td>\n",
       "      <td>1.781502</td>\n",
       "      <td>-0.398205</td>\n",
       "      <td>...</td>\n",
       "      <td>-0.086799</td>\n",
       "      <td>-0.657001</td>\n",
       "      <td>0.119822</td>\n",
       "      <td>0.173576</td>\n",
       "      <td>0.825183</td>\n",
       "      <td>-0.417409</td>\n",
       "      <td>0.992241</td>\n",
       "      <td>-1.102599</td>\n",
       "      <td>1.377287</td>\n",
       "      <td>-0.373196</td>\n",
       "    </tr>\n",
       "  </tbody>\n",
       "</table>\n",
       "<p>25000 rows × 305 columns</p>\n",
       "</div>"
      ],
      "text/plain": [
       "       Unnamed: 0  row_id  time_id  investment_id    target       f_0  \\\n",
       "0               0   22_58       22             58  0.600911  1.081210   \n",
       "1               1   22_59       22             59 -0.148273 -1.107688   \n",
       "2               2   22_61       22             61 -0.595294  0.776524   \n",
       "3               3   22_62       22             62 -0.983207 -0.227873   \n",
       "4               4   22_63       22             63 -0.229776 -0.004463   \n",
       "...           ...     ...      ...            ...       ...       ...   \n",
       "24995       24995  33_213       33            213 -1.414616  0.833006   \n",
       "24996       24996  33_214       33            214 -0.006400 -0.584242   \n",
       "24997       24997  33_216       33            216 -0.275792  0.087031   \n",
       "24998       24998  33_217       33            217 -0.934072  0.528163   \n",
       "24999       24999  33_218       33            218 -0.925161 -0.320688   \n",
       "\n",
       "            f_1       f_2       f_3       f_4  ...     f_290     f_291  \\\n",
       "0     -1.635753  0.082000 -0.654596  2.116271  ...  1.829991  1.225630   \n",
       "1     -0.762889  0.759441 -0.661708  0.614619  ...  0.329355  1.225630   \n",
       "2      0.546407  0.045971 -0.606577 -0.313791  ... -1.076004 -0.815907   \n",
       "3      0.400930 -1.453166  0.601058  4.339244  ...  0.840153 -0.815907   \n",
       "4     -0.035502  2.124675 -0.658155 -0.573081  ...  0.808395 -0.815907   \n",
       "...         ...       ...       ...       ...  ...       ...       ...   \n",
       "24995 -1.078762 -0.972510  2.457652 -0.235570  ... -0.120991 -0.657001   \n",
       "24996  0.633364  0.188913 -0.773373 -0.483320  ...  0.446051 -0.657001   \n",
       "24997  1.204072  0.267470 -0.389980 -0.500376  ... -0.619648 -0.657001   \n",
       "24998 -1.649470 -1.010666  1.146295 -0.087223  ...  0.394762 -0.657001   \n",
       "24999  1.917458 -0.796179  1.781502 -0.398205  ... -0.086799 -0.657001   \n",
       "\n",
       "          f_292     f_293     f_294     f_295     f_296     f_297     f_298  \\\n",
       "0     -0.133157  0.338368 -1.329777  0.458489 -1.171452 -1.116468 -1.403561   \n",
       "1      0.335490  0.338368  0.752005  0.366660 -1.171452  0.843250  0.520654   \n",
       "2     -0.349123  0.338368  0.752005 -0.404179  0.084959 -0.250347 -0.819772   \n",
       "3     -0.667887  0.338368 -1.329777  3.346428 -1.171452 -0.388681  1.211371   \n",
       "4     -0.425994  0.338368  0.752005 -0.606159 -1.171452  0.717530 -1.274164   \n",
       "...         ...       ...       ...       ...       ...       ...       ...   \n",
       "24995 -0.324576  0.173576  0.825183 -0.382438 -0.283733 -0.444719  1.520904   \n",
       "24996 -0.452254  0.173576  0.825183 -0.401591 -0.283733 -0.329566  0.846726   \n",
       "24997 -1.341064  0.173576 -1.211851 -0.528420  0.992241 -0.913289 -0.411646   \n",
       "24998 -0.934546  0.173576  0.825183 -0.255277  0.992241 -0.845721 -0.133167   \n",
       "24999  0.119822  0.173576  0.825183 -0.417409  0.992241 -1.102599  1.377287   \n",
       "\n",
       "          f_299  \n",
       "0      1.496008  \n",
       "1      0.824550  \n",
       "2     -0.118027  \n",
       "3      4.564400  \n",
       "4     -0.703374  \n",
       "...         ...  \n",
       "24995 -0.176580  \n",
       "24996 -0.484327  \n",
       "24997 -0.506684  \n",
       "24998 -0.050718  \n",
       "24999 -0.373196  \n",
       "\n",
       "[25000 rows x 305 columns]"
      ]
     },
     "execution_count": 25,
     "metadata": {},
     "output_type": "execute_result"
    }
   ],
   "source": [
    "df"
   ]
  },
  {
   "cell_type": "code",
   "execution_count": 26,
   "id": "ee31a4b2",
   "metadata": {},
   "outputs": [],
   "source": [
    "#两方面去考虑attention,首先,可以忽视事件数据,将所有Id一样的人聚集在一起,将他们视作一个sequence,将他们的target作为另一个,观察两个sequence的关系\n",
    "#其次,可以以同一个时域做Attention,将这个时域中的数据作为一个切面sequence,然后跟他们的结果做相关性"
   ]
  },
  {
   "cell_type": "code",
   "execution_count": 27,
   "id": "3ebc158c",
   "metadata": {},
   "outputs": [],
   "source": [
    "def GetDataFromKaggle():\n",
    "    print(\"successful get date\")"
   ]
  },
  {
   "cell_type": "code",
   "execution_count": 28,
   "id": "3603bf54",
   "metadata": {},
   "outputs": [],
   "source": [
    "def GetMaxFeature(x):\n",
    "    id_size = x[\"investment_id\"].nunique()\n",
    "    time_id_size = x[\"time_id\"].nunique()\n",
    "    return id_size,time_id_size"
   ]
  },
  {
   "cell_type": "code",
   "execution_count": 29,
   "id": "c4562374",
   "metadata": {},
   "outputs": [],
   "source": [
    "class Ubiquant(Dataset):\n",
    "    def __init__(self,datapath,context = 100,train_data = True,get_time_data = True):\n",
    "        super(Ubiquant,self).__init__()\n",
    "        self.get_time = get_time_data\n",
    "        if(train_data):\n",
    "            self.data = pd.read_csv(datapath)\n",
    "            self.id_size,self.time_size = GetMaxFeature(self.data)\n",
    "            if(get_time_data):#get an x,y base on time frame\n",
    "                self.y = self.data.loc[:,\"target\"]\n",
    "                self.x = self.data.drop(columns=[\"Unnamed: 0\",\"row_id\",\"target\"])\n",
    "                self.x.loc[:,\"time_id\"] -=self.x.loc[0,\"time_id\"]\n",
    "                #self.id = self.x[[\"time_id\"]]\n",
    "                self.id = self.x[[\"investment_id\"]]\n",
    "                self.x = self.x.drop(columns=[\"investment_id\"])\n",
    "                #self.x = self.x.drop(columns=[\"time_id\"])\n",
    "            else:#get (x,y) base on investment_id\n",
    "                self.data = self.data.sort_values(by=[\"investment_id\"])\n",
    "                self.y = self.data.loc[:,\"target\"]\n",
    "                self.x = self.data.drop(columns=[\"Unnamed: 0\",\"row_id\",\"time_id\",\"target\"])\n",
    "                self.id = self.x[[\"investment_id\"]]\n",
    "                self.x = self.x.drop(columns=[\"investment_id\"])\n",
    "        \n",
    "        #pad context before the data\n",
    "        self.context = context\n",
    "        self.pad_id =np.pad(self.id.to_numpy(),((context-1,0),(0,0)),constant_values = 0)\n",
    "        self.pad_x =np.pad(self.x.to_numpy(),((context-1,0),(0,0)),constant_values = 0)\n",
    "        self.y =self.y.to_numpy()\n",
    "        \n",
    "        \n",
    "        self.pad_id =torch.LongTensor(self.pad_id)\n",
    "        self.pad_x = torch.FloatTensor(self.pad_x)\n",
    "        self.y = torch.FloatTensor(self.y)\n",
    "        \n",
    "        print(f\"succesfully load data with shape x : {self.x.shape} | shape y :{self.y.shape} | get time data is: {get_time_data}\")\n",
    "        \n",
    "                \n",
    "            \n",
    "    def __getitem__(self,index):\n",
    "        context = self.context\n",
    "        return self.pad_id[index:index+context],self.pad_x[index:index+context],self.y[index]\n",
    "        \n",
    "    def __len__(self):\n",
    "        return self.x.shape[0]\n",
    "    \n",
    "    def GetSize(self):\n",
    "        if(get_time_data):\n",
    "            return self.time_size\n",
    "        else:\n",
    "            return self.id_size\n",
    "\n",
    "            \n",
    "            "
   ]
  },
  {
   "cell_type": "code",
   "execution_count": 30,
   "id": "fbfea802",
   "metadata": {},
   "outputs": [],
   "source": [
    "def LoadData(get_time_data = True):\n",
    "    trainSet =Ubiquant(path+targetpath,context = config[\"context\"], get_time_data = get_time_data)\n",
    "    valSet =Ubiquant(path+valpath, context = config[\"context\"], get_time_data = get_time_data)\n",
    "    testSet =Ubiquant(path+testpath, context = config[\"context\"], get_time_data = get_time_data)\n",
    "    trainLoader = DataLoader(trainSet,batch_size = config[\"batch_size\"],shuffle =True,drop_last=True)#,num_workers=2)\n",
    "    valLoader = DataLoader(valSet,batch_size = config[\"batch_size\"],shuffle =True,drop_last=True)#,num_workers=2)\n",
    "    testLoader = DataLoader(testSet,batch_size = config[\"batch_size\"],shuffle =False,drop_last=False)\n",
    "    return trainLoader,valLoader,testLoader"
   ]
  },
  {
   "cell_type": "code",
   "execution_count": 31,
   "id": "8d0d5bcd",
   "metadata": {},
   "outputs": [],
   "source": [
    "class SimpleAttention(nn.Module):\n",
    "    def __init__(self,seq_len = 32, input_feature =311):\n",
    "        super(SimpleAttention,self).__init__() \n",
    "        \n",
    "        self.id_embedding = nn.Embedding(10000,11)\n",
    "        self.feature_embedding = nn.Sequential(\n",
    "            nn.Conv1d(seq_len,64,3,padding =\"same\"),\n",
    "            nn.BatchNorm1d(64),\n",
    "            nn.Sigmoid(),\n",
    "            nn.Conv1d(64,128,3,padding = \"same\"),\n",
    "            nn.BatchNorm1d(128),\n",
    "            nn.Sigmoid(),\n",
    "            nn.Conv1d(128,seq_len,3,padding =\"same\"),\n",
    "            \n",
    "        )\n",
    "        self.att = nn.MultiheadAttention(input_feature,8,batch_first=True)\n",
    "        self.flat = nn.Flatten()\n",
    "        self.MLP =nn.Sequential(\n",
    "            nn.Linear(input_feature*seq_len,64),\n",
    "            nn.BatchNorm1d(64),\n",
    "            nn.SiLU(),\n",
    "            nn.Dropout(0.4),\n",
    "            nn.Linear(64,128),\n",
    "            nn.BatchNorm1d(128),\n",
    "            nn.SiLU(),\n",
    "            nn.Dropout(0.4),\n",
    "            nn.Linear(128,256),\n",
    "            nn.BatchNorm1d(256),\n",
    "            nn.SiLU(),\n",
    "            nn.Dropout(0.4),\n",
    "            nn.Linear(256,512),\n",
    "            nn.BatchNorm1d(512),\n",
    "            nn.SiLU(),\n",
    "            nn.Dropout(0.4),\n",
    "            nn.Linear(512,256),\n",
    "            nn.BatchNorm1d(256),\n",
    "            nn.SiLU(),\n",
    "            nn.Dropout(0.4),\n",
    "            nn.Linear(256,128),\n",
    "            nn.BatchNorm1d(128),\n",
    "            nn.SiLU(),\n",
    "            nn.Dropout(0.4),\n",
    "            nn.Linear(128,8),\n",
    "            nn.BatchNorm1d(8),\n",
    "            nn.SiLU(),\n",
    "            nn.Dropout(0.4),\n",
    "            nn.Linear(8,1)\n",
    "        )\n",
    "            \n",
    "        self.criterion = nn.MSELoss()\n",
    "        \n",
    "    def forward(self,_id,f_features):\n",
    "        invest_embedding = self.id_embedding(_id).squeeze(dim=2)\n",
    "        f_features = self.feature_embedding(f_features)\n",
    "        #print(invest_embedding.shape)\n",
    "        #print(f_features.shape)\n",
    "        _input =torch.cat((invest_embedding,f_features),axis =-1)\n",
    "        #print(_input.shape)\n",
    "        #_input = _input.unsqueeze(dim=1)\n",
    "        #print(_input.shape)\n",
    "        output,_ = self.att(_input,_input,_input)\n",
    "        #print(output.shape)\n",
    "        output = self.flat(output)\n",
    "        #print(output.shape)\n",
    "        output = self.MLP(output)\n",
    "        return output\n",
    "    \n",
    "    def cal_Loss(self,y_hat,y):\n",
    "        return self.criterion(y_hat,y)"
   ]
  },
  {
   "cell_type": "code",
   "execution_count": 32,
   "id": "d0838ddf",
   "metadata": {},
   "outputs": [],
   "source": [
    "class SimpleMLP(nn.Module):\n",
    "    def __init__(self,seq_len = 32,input_feature = 311):\n",
    "        super(SimpleMLP,self).__init__()\n",
    "        \n",
    "        self.id_embedding = nn.Embedding(10000,11)\n",
    "        self.flat = nn.Flatten()\n",
    "        self.MLP =nn.Sequential(\n",
    "            nn.Linear(input_feature*seq_len,64),\n",
    "            nn.BatchNorm1d(64),\n",
    "            nn.SiLU(),\n",
    "            nn.Dropout(0.4),\n",
    "            nn.Linear(64,128),\n",
    "            nn.BatchNorm1d(128),\n",
    "            nn.SiLU(),\n",
    "            nn.Dropout(0.4),\n",
    "            nn.Linear(128,256),\n",
    "            nn.BatchNorm1d(256),\n",
    "            nn.SiLU(),\n",
    "            nn.Dropout(0.4),\n",
    "            nn.Linear(256,512),\n",
    "            nn.BatchNorm1d(512),\n",
    "            nn.SiLU(),\n",
    "            nn.Dropout(0.4),\n",
    "            nn.Linear(512,256),\n",
    "            nn.BatchNorm1d(256),\n",
    "            nn.SiLU(),\n",
    "            nn.Dropout(0.4),\n",
    "            nn.Linear(256,128),\n",
    "            nn.BatchNorm1d(128),\n",
    "            nn.SiLU(),\n",
    "            nn.Dropout(0.4),\n",
    "            nn.Linear(128,8),\n",
    "            nn.BatchNorm1d(8),\n",
    "            nn.SiLU(),\n",
    "            nn.Dropout(0.4),\n",
    "            nn.Linear(8,1)\n",
    "        )\n",
    "        \n",
    "        self.criterion = nn.MSELoss()\n",
    "        \n",
    "    def forward(self,_id,f_features):\n",
    "        invest_embedding = self.id_embedding(_id).squeeze(dim=2)\n",
    "     \n",
    "        #print(invest_embedding.shape)\n",
    "        #print(f_features.shape)\n",
    "        _input =torch.cat((invest_embedding,f_features),axis =-1)\n",
    "        #print(_input.shape)\n",
    "        #_input = _input.unsqueeze(dim=1)\n",
    "        #print(_input.shape)\n",
    "        _input = self.flat(_input)\n",
    "        output = self.MLP(_input)\n",
    "        return output\n",
    "\n",
    "    def cal_Loss(self,y_hat,y):\n",
    "        return self.criterion(y_hat,y)"
   ]
  },
  {
   "cell_type": "code",
   "execution_count": 33,
   "id": "6fdf7eb3",
   "metadata": {},
   "outputs": [],
   "source": [
    "def get_corr(y,target):\n",
    "    y,target = y.reshape(-1),target.reshape(-1)\n",
    "    ymean,targetmean = torch.mean(y),torch.mean(target)\n",
    "    \n",
    "    vy = y-ymean\n",
    "    vt = target-targetmean\n",
    "    \n",
    "    corr = torch.sum(vy*vt)/(torch.sqrt(torch.sum(vy**2))* torch.sqrt(torch.sum(vt**2)))\n",
    "    return corr"
   ]
  },
  {
   "cell_type": "code",
   "execution_count": 34,
   "id": "111db94c",
   "metadata": {},
   "outputs": [],
   "source": [
    "def train(model,trainLoader,valLoader, optimizer, scheduler, config):\n",
    "    best_loss =1000\n",
    "    epochs =config[\"epoch\"]\n",
    "    for epoch in range(epochs):\n",
    "        batch_bar = tqdm(total = len(trainLoader),dynamic_ncols = True,leave =False,position = 0,desc = \"train\")\n",
    "        model.train()\n",
    "        train_total_loss = 0\n",
    "        for i,(x1,x2,y) in enumerate(trainLoader):\n",
    "            optimizer.zero_grad()\n",
    "            x1,x2,y = x1.cuda(),x2.cuda(),y.cuda()\n",
    "            y_hat = model(x1,x2)\n",
    "            y_hat = y_hat.reshape(-1,1)\n",
    "            y =y.reshape(-1,1)\n",
    "            loss = model.cal_Loss(y_hat,y)\n",
    "            train_total_loss+=float(loss.cpu())\n",
    "            batch_bar.set_postfix(\n",
    "                loss=\"{:.04f}\".format(float(train_total_loss / (i + 1))),\n",
    "                lr=\"{:.04f}\".format(float(optimizer.param_groups[0]['lr'])))\n",
    "            loss.backward()\n",
    "            optimizer.step()\n",
    "            scheduler.step()\n",
    "            batch_bar.update()\n",
    "        batch_bar.close()\n",
    "        \n",
    "        val_total_loss = 0\n",
    "        val_total_corr = 0\n",
    "        batch_bar = tqdm(total = len(valLoader),dynamic_ncols = True,leave =False,position = 0,desc = \"val\")\n",
    "        model.eval()\n",
    "        for i,(x1,x2,y) in enumerate(valLoader):\n",
    "            with torch.no_grad():\n",
    "                x1,x2,y = x1.cuda(),x2.cuda(),y.cuda()\n",
    "                y_hat = model(x1,x2)\n",
    "                y_hat = y_hat.reshape(-1,1)\n",
    "                y =y.reshape(-1,1)\n",
    "                loss = model.cal_Loss(y_hat,y)\n",
    "                \n",
    "\n",
    "                corr = get_corr(y_hat,y)\n",
    "                val_total_corr+=corr\n",
    "               \n",
    "                val_total_loss+=loss\n",
    "            batch_bar.set_postfix(\n",
    "                loss=\"{:.04f}\".format(float(val_total_loss / (i + 1))),\n",
    "                \n",
    "                corr=\"{:.04f}\".format(float(val_total_corr / (i + 1))),\n",
    "             )\n",
    "            batch_bar.update()\n",
    "        batch_bar.close()\n",
    "        val_loss = float(val_total_loss/len(valLoader))\n",
    "        if(val_loss<best_loss):\n",
    "            best_loss = val_loss\n",
    "            torch.save(model.state_dict(),config[\"store_path\"])\n",
    "            print(\"successfully save model\")\n",
    "        \n",
    "        print(f\"Epoch {epoch+1}/{epochs}: train loss {float(train_total_loss / len(trainLoader)):0.04f}, Learning Rate {optimizer.param_groups[0]['lr']:0.04f}, val loss{float(val_total_loss/len(valLoader)):0.04f}, corr {float(val_total_corr / (i + 1)):0.04f}\")"
   ]
  },
  {
   "cell_type": "code",
   "execution_count": 35,
   "id": "2ca5deb3",
   "metadata": {},
   "outputs": [],
   "source": [
    "def test(model,testLoader,config):\n",
    "    model.load_state_dict(torch.load(config[\"store_path\"]))\n",
    "    model.eval()\n",
    "    test_total_loss = 0\n",
    "    test_total_corr = 0\n",
    "    batch_bar = tqdm(total = len(testLoader),dynamic_ncols = True,leave =False,position = 0,desc = \"Test\")\n",
    "    for i,(x1,x2,y) in enumerate(testLoader):\n",
    "        with torch.no_grad():\n",
    "            x1,x2,y = x1.cuda(),x2.cuda(),y.cuda()\n",
    "            y_hat = model(x1,x2)\n",
    "            y_hat = y_hat.reshape(-1,1)\n",
    "            y =y.reshape(-1,1)\n",
    "            loss = model.cal_Loss(y_hat,y)\n",
    "                \n",
    "\n",
    "            corr = get_corr(y_hat,y)\n",
    "            test_total_corr+=corr\n",
    "            test_total_loss+=loss\n",
    "        batch_bar.set_postfix(\n",
    "                test_loss=\"{:.04f}\".format(float(test_total_loss / (i + 1))),\n",
    "                \n",
    "                test_corr=\"{:.04f}\".format(float(test_total_corr / (i + 1))),\n",
    "             )\n",
    "        batch_bar.update()\n",
    "    batch_bar.close()\n",
    "    print(f\"test loss{float(test_total_loss/len(testLoader)):0.04f},test corr {float(test_total_corr / len(testLoader)):0.04f}\")"
   ]
  },
  {
   "cell_type": "code",
   "execution_count": 36,
   "id": "633f0a50",
   "metadata": {},
   "outputs": [],
   "source": [
    "def Main():\n",
    "    #set all parameter\n",
    "    trainLoader,valLoader,testLoader = LoadData(get_time_data = True)\n",
    "    model = SimpleAttention(config[\"context\"],312).cuda()\n",
    "    model.train()\n",
    "    baseline_model = SimpleMLP(config[\"context\"],312).cuda()\n",
    "    baseline_model.train()\n",
    "    optimizer = getattr(torch.optim,config[\"optimz\"])(model.parameters(),lr =config[\"learning_rate\"])\n",
    "    scheduler = torch.optim.lr_scheduler.CosineAnnealingLR(optimizer, T_max=(len(trainLoader) * config[\"epoch\"]))\n",
    "    \n",
    "    \n",
    "    base_optimizer = getattr(torch.optim,config[\"optimz\"])(model.parameters(),lr =config[\"learning_rate\"])\n",
    "    base_scheduler = torch.optim.lr_scheduler.CosineAnnealingLR(optimizer, T_max=(len(trainLoader) * config[\"epoch\"]))\n",
    "    #params\n",
    "    num_para =0\n",
    "    for p in model.parameters():\n",
    "        num_para+=p.numel()\n",
    "    print(f'Number of params : {num_para}')\n",
    "    \n",
    "    train(model,trainLoader,valLoader,optimizer,scheduler,config)\n",
    "    print(\"///////////Start Train Base Line//////////\")\n",
    "    train(baseline_model,trainLoader,valLoader,base_optimizer,base_scheduler,base_config)\n",
    "    \n",
    "    print(\"//////////Start test///////////\")\n",
    "    print(\"----BaseLine-----\")\n",
    "    test(baseline_model,testLoader,base_config)\n",
    "    print(\"----Attention-----\")\n",
    "    test(model,testLoader,config)"
   ]
  },
  {
   "cell_type": "code",
   "execution_count": 41,
   "id": "5fd12bf6",
   "metadata": {},
   "outputs": [],
   "source": [
    "config={\"epoch\" : 100,\"batch_size\":64,\"learning_rate\":0.1,\"optimz\":\"Adam\",\"store_path\":\"C:/Quant/project/Att.pth\",\"context\":1}"
   ]
  },
  {
   "cell_type": "code",
   "execution_count": 42,
   "id": "f9c1657b",
   "metadata": {},
   "outputs": [],
   "source": [
    "base_config={\"epoch\" :100,\"batch_size\":64,\"learning_rate\":0.1,\"optimz\":\"Adam\",\"store_path\":\"C:/Quant/project/MLP.pth\",\"context\":1}"
   ]
  },
  {
   "cell_type": "code",
   "execution_count": 43,
   "id": "29b82d2d",
   "metadata": {},
   "outputs": [
    {
     "name": "stdout",
     "output_type": "stream",
     "text": [
      "succesfully load data with shape x : (50000, 301) | shape y :torch.Size([50000]) | get time data is: True\n",
      "succesfully load data with shape x : (25000, 301) | shape y :torch.Size([25000]) | get time data is: True\n",
      "succesfully load data with shape x : (25000, 301) | shape y :torch.Size([25000]) | get time data is: True\n",
      "Number of params : 887282\n"
     ]
    },
    {
     "name": "stderr",
     "output_type": "stream",
     "text": [
      "                                                                                  \r"
     ]
    },
    {
     "name": "stdout",
     "output_type": "stream",
     "text": [
      "successfully save model\n",
      "Epoch 1/100: train loss 0.8985, Learning Rate 0.1000, val loss0.8941, corr -0.0010\n"
     ]
    },
    {
     "name": "stderr",
     "output_type": "stream",
     "text": [
      "                                                                                  \r"
     ]
    },
    {
     "name": "stdout",
     "output_type": "stream",
     "text": [
      "successfully save model\n",
      "Epoch 2/100: train loss 0.8958, Learning Rate 0.0999, val loss0.8676, corr -0.0770\n"
     ]
    },
    {
     "name": "stderr",
     "output_type": "stream",
     "text": [
      "                                                                                 \r"
     ]
    },
    {
     "name": "stdout",
     "output_type": "stream",
     "text": [
      "successfully save model\n",
      "Epoch 3/100: train loss 0.8917, Learning Rate 0.0998, val loss0.8628, corr 0.0826\n"
     ]
    },
    {
     "name": "stderr",
     "output_type": "stream",
     "text": [
      "                                                                                 \r"
     ]
    },
    {
     "name": "stdout",
     "output_type": "stream",
     "text": [
      "Epoch 4/100: train loss 0.8911, Learning Rate 0.0996, val loss0.8755, corr 0.0151\n"
     ]
    },
    {
     "name": "stderr",
     "output_type": "stream",
     "text": [
      "                                                                                 \r"
     ]
    },
    {
     "name": "stdout",
     "output_type": "stream",
     "text": [
      "Epoch 5/100: train loss 0.8982, Learning Rate 0.0994, val loss0.8646, corr 0.0363\n"
     ]
    },
    {
     "name": "stderr",
     "output_type": "stream",
     "text": [
      "                                                                                 \r"
     ]
    },
    {
     "name": "stdout",
     "output_type": "stream",
     "text": [
      "successfully save model\n",
      "Epoch 6/100: train loss 0.8964, Learning Rate 0.0991, val loss0.8542, corr 0.1708\n"
     ]
    },
    {
     "name": "stderr",
     "output_type": "stream",
     "text": [
      "                                                                                 \r"
     ]
    },
    {
     "name": "stdout",
     "output_type": "stream",
     "text": [
      "Epoch 7/100: train loss 0.8878, Learning Rate 0.0988, val loss0.8672, corr 0.0623\n"
     ]
    },
    {
     "name": "stderr",
     "output_type": "stream",
     "text": [
      "                                                                                 \r"
     ]
    },
    {
     "name": "stdout",
     "output_type": "stream",
     "text": [
      "Epoch 8/100: train loss 0.8839, Learning Rate 0.0984, val loss0.8847, corr 0.0188\n"
     ]
    },
    {
     "name": "stderr",
     "output_type": "stream",
     "text": [
      "                                                                                 \r"
     ]
    },
    {
     "name": "stdout",
     "output_type": "stream",
     "text": [
      "Epoch 9/100: train loss 0.8719, Learning Rate 0.0980, val loss0.8715, corr 0.0917\n"
     ]
    },
    {
     "name": "stderr",
     "output_type": "stream",
     "text": [
      "                                                                                 \r"
     ]
    },
    {
     "name": "stdout",
     "output_type": "stream",
     "text": [
      "Epoch 10/100: train loss 0.8593, Learning Rate 0.0976, val loss0.8729, corr 0.0341\n"
     ]
    },
    {
     "name": "stderr",
     "output_type": "stream",
     "text": [
      "                                                                                 \r"
     ]
    },
    {
     "name": "stdout",
     "output_type": "stream",
     "text": [
      "Epoch 11/100: train loss 0.8500, Learning Rate 0.0970, val loss0.8624, corr 0.1047\n"
     ]
    },
    {
     "name": "stderr",
     "output_type": "stream",
     "text": [
      "                                                                                 \r"
     ]
    },
    {
     "name": "stdout",
     "output_type": "stream",
     "text": [
      "Epoch 12/100: train loss 0.8444, Learning Rate 0.0965, val loss0.8887, corr 0.0503\n"
     ]
    },
    {
     "name": "stderr",
     "output_type": "stream",
     "text": [
      "                                                                                 \r"
     ]
    },
    {
     "name": "stdout",
     "output_type": "stream",
     "text": [
      "Epoch 13/100: train loss 0.8356, Learning Rate 0.0959, val loss0.9174, corr 0.1001\n"
     ]
    },
    {
     "name": "stderr",
     "output_type": "stream",
     "text": [
      "                                                                                 \r"
     ]
    },
    {
     "name": "stdout",
     "output_type": "stream",
     "text": [
      "Epoch 14/100: train loss 0.8330, Learning Rate 0.0952, val loss0.9008, corr 0.0683\n"
     ]
    },
    {
     "name": "stderr",
     "output_type": "stream",
     "text": [
      "                                                                                 \r"
     ]
    },
    {
     "name": "stdout",
     "output_type": "stream",
     "text": [
      "Epoch 15/100: train loss 0.8267, Learning Rate 0.0946, val loss0.8951, corr 0.0534\n"
     ]
    },
    {
     "name": "stderr",
     "output_type": "stream",
     "text": [
      "                                                                                 \r"
     ]
    },
    {
     "name": "stdout",
     "output_type": "stream",
     "text": [
      "Epoch 16/100: train loss 0.8231, Learning Rate 0.0938, val loss0.9045, corr 0.0626\n"
     ]
    },
    {
     "name": "stderr",
     "output_type": "stream",
     "text": [
      "                                                                                 \r"
     ]
    },
    {
     "name": "stdout",
     "output_type": "stream",
     "text": [
      "Epoch 17/100: train loss 0.8187, Learning Rate 0.0930, val loss0.8792, corr 0.0493\n"
     ]
    },
    {
     "name": "stderr",
     "output_type": "stream",
     "text": [
      "                                                                                 \r"
     ]
    },
    {
     "name": "stdout",
     "output_type": "stream",
     "text": [
      "Epoch 18/100: train loss 0.8145, Learning Rate 0.0922, val loss0.9321, corr 0.0828\n"
     ]
    },
    {
     "name": "stderr",
     "output_type": "stream",
     "text": [
      "                                                                                 \r"
     ]
    },
    {
     "name": "stdout",
     "output_type": "stream",
     "text": [
      "Epoch 19/100: train loss 0.8134, Learning Rate 0.0914, val loss0.8928, corr 0.0838\n"
     ]
    },
    {
     "name": "stderr",
     "output_type": "stream",
     "text": [
      "                                                                                 \r"
     ]
    },
    {
     "name": "stdout",
     "output_type": "stream",
     "text": [
      "Epoch 20/100: train loss 0.8129, Learning Rate 0.0905, val loss0.8779, corr 0.0851\n"
     ]
    },
    {
     "name": "stderr",
     "output_type": "stream",
     "text": [
      "                                                                                 \r"
     ]
    },
    {
     "name": "stdout",
     "output_type": "stream",
     "text": [
      "Epoch 21/100: train loss 0.8104, Learning Rate 0.0895, val loss0.9995, corr 0.0680\n"
     ]
    },
    {
     "name": "stderr",
     "output_type": "stream",
     "text": [
      "                                                                                 \r"
     ]
    },
    {
     "name": "stdout",
     "output_type": "stream",
     "text": [
      "Epoch 22/100: train loss 0.8114, Learning Rate 0.0885, val loss0.9118, corr 0.0741\n"
     ]
    },
    {
     "name": "stderr",
     "output_type": "stream",
     "text": [
      "                                                                                 \r"
     ]
    },
    {
     "name": "stdout",
     "output_type": "stream",
     "text": [
      "Epoch 23/100: train loss 0.8049, Learning Rate 0.0875, val loss0.9020, corr 0.0797\n"
     ]
    },
    {
     "name": "stderr",
     "output_type": "stream",
     "text": [
      "                                                                                 \r"
     ]
    },
    {
     "name": "stdout",
     "output_type": "stream",
     "text": [
      "Epoch 24/100: train loss 0.7988, Learning Rate 0.0864, val loss0.9030, corr 0.0555\n"
     ]
    },
    {
     "name": "stderr",
     "output_type": "stream",
     "text": [
      "                                                                                 \r"
     ]
    },
    {
     "name": "stdout",
     "output_type": "stream",
     "text": [
      "Epoch 25/100: train loss 0.8030, Learning Rate 0.0854, val loss0.8926, corr 0.0529\n"
     ]
    },
    {
     "name": "stderr",
     "output_type": "stream",
     "text": [
      "                                                                                 \r"
     ]
    },
    {
     "name": "stdout",
     "output_type": "stream",
     "text": [
      "Epoch 26/100: train loss 0.7981, Learning Rate 0.0842, val loss0.9436, corr 0.0751\n"
     ]
    },
    {
     "name": "stderr",
     "output_type": "stream",
     "text": [
      "                                                                                 \r"
     ]
    },
    {
     "name": "stdout",
     "output_type": "stream",
     "text": [
      "Epoch 27/100: train loss 0.7959, Learning Rate 0.0831, val loss0.9738, corr 0.0702\n"
     ]
    },
    {
     "name": "stderr",
     "output_type": "stream",
     "text": [
      "                                                                                 \r"
     ]
    },
    {
     "name": "stdout",
     "output_type": "stream",
     "text": [
      "Epoch 28/100: train loss 0.7961, Learning Rate 0.0819, val loss0.8691, corr 0.0753\n"
     ]
    },
    {
     "name": "stderr",
     "output_type": "stream",
     "text": [
      "                                                                                 \r"
     ]
    },
    {
     "name": "stdout",
     "output_type": "stream",
     "text": [
      "Epoch 29/100: train loss 0.7886, Learning Rate 0.0806, val loss1.1782, corr 0.0535\n"
     ]
    },
    {
     "name": "stderr",
     "output_type": "stream",
     "text": [
      "                                                                                 \r"
     ]
    },
    {
     "name": "stdout",
     "output_type": "stream",
     "text": [
      "Epoch 30/100: train loss 0.7858, Learning Rate 0.0794, val loss0.9139, corr 0.0439\n"
     ]
    },
    {
     "name": "stderr",
     "output_type": "stream",
     "text": [
      "                                                                                 \r"
     ]
    },
    {
     "name": "stdout",
     "output_type": "stream",
     "text": [
      "Epoch 31/100: train loss 0.7796, Learning Rate 0.0781, val loss0.9149, corr 0.0687\n"
     ]
    },
    {
     "name": "stderr",
     "output_type": "stream",
     "text": [
      "                                                                                 \r"
     ]
    },
    {
     "name": "stdout",
     "output_type": "stream",
     "text": [
      "Epoch 32/100: train loss 0.7794, Learning Rate 0.0768, val loss1.1402, corr 0.0671\n"
     ]
    },
    {
     "name": "stderr",
     "output_type": "stream",
     "text": [
      "                                                                                 \r"
     ]
    },
    {
     "name": "stdout",
     "output_type": "stream",
     "text": [
      "Epoch 33/100: train loss 0.7829, Learning Rate 0.0755, val loss1.0846, corr 0.0534\n"
     ]
    },
    {
     "name": "stderr",
     "output_type": "stream",
     "text": [
      "                                                                                 \r"
     ]
    },
    {
     "name": "stdout",
     "output_type": "stream",
     "text": [
      "Epoch 34/100: train loss 0.7749, Learning Rate 0.0741, val loss1.2087, corr 0.0692\n"
     ]
    },
    {
     "name": "stderr",
     "output_type": "stream",
     "text": [
      "                                                                                 \r"
     ]
    },
    {
     "name": "stdout",
     "output_type": "stream",
     "text": [
      "Epoch 35/100: train loss 0.7764, Learning Rate 0.0727, val loss0.9220, corr 0.0672\n"
     ]
    },
    {
     "name": "stderr",
     "output_type": "stream",
     "text": [
      "                                                                                 \r"
     ]
    },
    {
     "name": "stdout",
     "output_type": "stream",
     "text": [
      "Epoch 36/100: train loss 0.7725, Learning Rate 0.0713, val loss0.9449, corr 0.0782\n"
     ]
    },
    {
     "name": "stderr",
     "output_type": "stream",
     "text": [
      "                                                                                 \r"
     ]
    },
    {
     "name": "stdout",
     "output_type": "stream",
     "text": [
      "Epoch 37/100: train loss 0.7730, Learning Rate 0.0699, val loss0.9697, corr 0.0723\n"
     ]
    },
    {
     "name": "stderr",
     "output_type": "stream",
     "text": [
      "                                                                                 \r"
     ]
    },
    {
     "name": "stdout",
     "output_type": "stream",
     "text": [
      "Epoch 38/100: train loss 0.7666, Learning Rate 0.0684, val loss0.9477, corr 0.0720\n"
     ]
    },
    {
     "name": "stderr",
     "output_type": "stream",
     "text": [
      "                                                                                 \r"
     ]
    },
    {
     "name": "stdout",
     "output_type": "stream",
     "text": [
      "Epoch 39/100: train loss 0.7680, Learning Rate 0.0669, val loss0.9598, corr 0.0637\n"
     ]
    },
    {
     "name": "stderr",
     "output_type": "stream",
     "text": [
      "                                                                                 \r"
     ]
    },
    {
     "name": "stdout",
     "output_type": "stream",
     "text": [
      "Epoch 40/100: train loss 0.7645, Learning Rate 0.0655, val loss0.9757, corr 0.0398\n"
     ]
    },
    {
     "name": "stderr",
     "output_type": "stream",
     "text": [
      "                                                                                 \r"
     ]
    },
    {
     "name": "stdout",
     "output_type": "stream",
     "text": [
      "Epoch 41/100: train loss 0.7601, Learning Rate 0.0639, val loss0.9650, corr 0.0583\n"
     ]
    },
    {
     "name": "stderr",
     "output_type": "stream",
     "text": [
      "                                                                                 \r"
     ]
    },
    {
     "name": "stdout",
     "output_type": "stream",
     "text": [
      "Epoch 42/100: train loss 0.7554, Learning Rate 0.0624, val loss1.5893, corr 0.0594\n"
     ]
    },
    {
     "name": "stderr",
     "output_type": "stream",
     "text": [
      "                                                                                 \r"
     ]
    },
    {
     "name": "stdout",
     "output_type": "stream",
     "text": [
      "Epoch 43/100: train loss 0.7586, Learning Rate 0.0609, val loss0.9611, corr 0.0650\n"
     ]
    },
    {
     "name": "stderr",
     "output_type": "stream",
     "text": [
      "                                                                                 \r"
     ]
    },
    {
     "name": "stdout",
     "output_type": "stream",
     "text": [
      "Epoch 44/100: train loss 0.7529, Learning Rate 0.0594, val loss1.5406, corr 0.0650\n"
     ]
    },
    {
     "name": "stderr",
     "output_type": "stream",
     "text": [
      "                                                                                 \r"
     ]
    },
    {
     "name": "stdout",
     "output_type": "stream",
     "text": [
      "Epoch 45/100: train loss 0.7527, Learning Rate 0.0578, val loss0.8780, corr 0.0795\n"
     ]
    },
    {
     "name": "stderr",
     "output_type": "stream",
     "text": [
      "                                                                                 \r"
     ]
    },
    {
     "name": "stdout",
     "output_type": "stream",
     "text": [
      "Epoch 46/100: train loss 0.7493, Learning Rate 0.0563, val loss1.4552, corr 0.0809\n"
     ]
    },
    {
     "name": "stderr",
     "output_type": "stream",
     "text": [
      "                                                                                  \r"
     ]
    },
    {
     "name": "stdout",
     "output_type": "stream",
     "text": [
      "Epoch 47/100: train loss 0.7446, Learning Rate 0.0547, val loss1.0348, corr -0.0234\n"
     ]
    },
    {
     "name": "stderr",
     "output_type": "stream",
     "text": [
      "                                                                                 \r"
     ]
    },
    {
     "name": "stdout",
     "output_type": "stream",
     "text": [
      "Epoch 48/100: train loss 0.7443, Learning Rate 0.0531, val loss0.9487, corr 0.0699\n"
     ]
    },
    {
     "name": "stderr",
     "output_type": "stream",
     "text": [
      "                                                                                 \r"
     ]
    },
    {
     "name": "stdout",
     "output_type": "stream",
     "text": [
      "Epoch 49/100: train loss 0.7384, Learning Rate 0.0516, val loss0.9415, corr 0.0821\n"
     ]
    },
    {
     "name": "stderr",
     "output_type": "stream",
     "text": [
      "                                                                                 \r"
     ]
    },
    {
     "name": "stdout",
     "output_type": "stream",
     "text": [
      "Epoch 50/100: train loss 0.7451, Learning Rate 0.0500, val loss1.0126, corr 0.0452\n"
     ]
    },
    {
     "name": "stderr",
     "output_type": "stream",
     "text": [
      "                                                                                 \r"
     ]
    },
    {
     "name": "stdout",
     "output_type": "stream",
     "text": [
      "Epoch 51/100: train loss 0.7375, Learning Rate 0.0484, val loss0.9396, corr 0.0385\n"
     ]
    },
    {
     "name": "stderr",
     "output_type": "stream",
     "text": [
      "                                                                                 \r"
     ]
    },
    {
     "name": "stdout",
     "output_type": "stream",
     "text": [
      "Epoch 52/100: train loss 0.7340, Learning Rate 0.0469, val loss0.9784, corr 0.0532\n"
     ]
    },
    {
     "name": "stderr",
     "output_type": "stream",
     "text": [
      "                                                                                  \r"
     ]
    },
    {
     "name": "stdout",
     "output_type": "stream",
     "text": [
      "Epoch 53/100: train loss 0.7268, Learning Rate 0.0453, val loss1.0275, corr -0.0281\n"
     ]
    },
    {
     "name": "stderr",
     "output_type": "stream",
     "text": [
      "                                                                                 \r"
     ]
    },
    {
     "name": "stdout",
     "output_type": "stream",
     "text": [
      "Epoch 54/100: train loss 0.7266, Learning Rate 0.0437, val loss1.1019, corr 0.0856\n"
     ]
    },
    {
     "name": "stderr",
     "output_type": "stream",
     "text": [
      "                                                                                 \r"
     ]
    },
    {
     "name": "stdout",
     "output_type": "stream",
     "text": [
      "Epoch 55/100: train loss 0.7244, Learning Rate 0.0422, val loss0.9257, corr 0.0664\n"
     ]
    },
    {
     "name": "stderr",
     "output_type": "stream",
     "text": [
      "                                                                                  \r"
     ]
    },
    {
     "name": "stdout",
     "output_type": "stream",
     "text": [
      "Epoch 56/100: train loss 0.7255, Learning Rate 0.0406, val loss1.0380, corr 0.0067\n"
     ]
    },
    {
     "name": "stderr",
     "output_type": "stream",
     "text": [
      "                                                                                 \r"
     ]
    },
    {
     "name": "stdout",
     "output_type": "stream",
     "text": [
      "Epoch 57/100: train loss 0.7210, Learning Rate 0.0391, val loss1.1135, corr 0.0834\n"
     ]
    },
    {
     "name": "stderr",
     "output_type": "stream",
     "text": [
      "                                                                                 \r"
     ]
    },
    {
     "name": "stdout",
     "output_type": "stream",
     "text": [
      "Epoch 58/100: train loss 0.7173, Learning Rate 0.0376, val loss0.9574, corr 0.0241\n"
     ]
    },
    {
     "name": "stderr",
     "output_type": "stream",
     "text": [
      "                                                                                 \r"
     ]
    },
    {
     "name": "stdout",
     "output_type": "stream",
     "text": [
      "Epoch 59/100: train loss 0.7138, Learning Rate 0.0361, val loss0.9738, corr 0.0785\n"
     ]
    },
    {
     "name": "stderr",
     "output_type": "stream",
     "text": [
      "                                                                                 \r"
     ]
    },
    {
     "name": "stdout",
     "output_type": "stream",
     "text": [
      "Epoch 60/100: train loss 0.7131, Learning Rate 0.0345, val loss1.1145, corr 0.0708\n"
     ]
    },
    {
     "name": "stderr",
     "output_type": "stream",
     "text": [
      "                                                                                  \r"
     ]
    },
    {
     "name": "stdout",
     "output_type": "stream",
     "text": [
      "Epoch 61/100: train loss 0.7086, Learning Rate 0.0331, val loss1.0114, corr -0.0009\n"
     ]
    },
    {
     "name": "stderr",
     "output_type": "stream",
     "text": [
      "                                                                                 \r"
     ]
    },
    {
     "name": "stdout",
     "output_type": "stream",
     "text": [
      "Epoch 62/100: train loss 0.7062, Learning Rate 0.0316, val loss0.9589, corr 0.0164\n"
     ]
    },
    {
     "name": "stderr",
     "output_type": "stream",
     "text": [
      "                                                                                 \r"
     ]
    },
    {
     "name": "stdout",
     "output_type": "stream",
     "text": [
      "Epoch 63/100: train loss 0.7021, Learning Rate 0.0301, val loss0.9975, corr 0.0415\n"
     ]
    },
    {
     "name": "stderr",
     "output_type": "stream",
     "text": [
      "                                                                                 \r"
     ]
    },
    {
     "name": "stdout",
     "output_type": "stream",
     "text": [
      "Epoch 64/100: train loss 0.7013, Learning Rate 0.0287, val loss0.9296, corr 0.0568\n"
     ]
    },
    {
     "name": "stderr",
     "output_type": "stream",
     "text": [
      "                                                                                 \r"
     ]
    },
    {
     "name": "stdout",
     "output_type": "stream",
     "text": [
      "Epoch 65/100: train loss 0.6957, Learning Rate 0.0273, val loss0.9674, corr 0.0527\n"
     ]
    },
    {
     "name": "stderr",
     "output_type": "stream",
     "text": [
      "                                                                                 \r"
     ]
    },
    {
     "name": "stdout",
     "output_type": "stream",
     "text": [
      "Epoch 66/100: train loss 0.6965, Learning Rate 0.0259, val loss0.9752, corr 0.0273\n"
     ]
    },
    {
     "name": "stderr",
     "output_type": "stream",
     "text": [
      "                                                                                 \r"
     ]
    },
    {
     "name": "stdout",
     "output_type": "stream",
     "text": [
      "Epoch 67/100: train loss 0.6927, Learning Rate 0.0245, val loss1.0038, corr 0.0601\n"
     ]
    },
    {
     "name": "stderr",
     "output_type": "stream",
     "text": [
      "                                                                                 \r"
     ]
    },
    {
     "name": "stdout",
     "output_type": "stream",
     "text": [
      "Epoch 68/100: train loss 0.6919, Learning Rate 0.0232, val loss0.9796, corr 0.0523\n"
     ]
    },
    {
     "name": "stderr",
     "output_type": "stream",
     "text": [
      "                                                                                 \r"
     ]
    },
    {
     "name": "stdout",
     "output_type": "stream",
     "text": [
      "Epoch 69/100: train loss 0.6900, Learning Rate 0.0219, val loss0.9997, corr 0.0644\n"
     ]
    },
    {
     "name": "stderr",
     "output_type": "stream",
     "text": [
      "                                                                                 \r"
     ]
    },
    {
     "name": "stdout",
     "output_type": "stream",
     "text": [
      "Epoch 70/100: train loss 0.6842, Learning Rate 0.0206, val loss0.9237, corr 0.0645\n"
     ]
    },
    {
     "name": "stderr",
     "output_type": "stream",
     "text": [
      "                                                                                 \r"
     ]
    },
    {
     "name": "stdout",
     "output_type": "stream",
     "text": [
      "Epoch 71/100: train loss 0.6899, Learning Rate 0.0194, val loss0.9467, corr 0.0670\n"
     ]
    },
    {
     "name": "stderr",
     "output_type": "stream",
     "text": [
      "                                                                                 \r"
     ]
    },
    {
     "name": "stdout",
     "output_type": "stream",
     "text": [
      "Epoch 72/100: train loss 0.6821, Learning Rate 0.0181, val loss0.9548, corr 0.0532\n"
     ]
    },
    {
     "name": "stderr",
     "output_type": "stream",
     "text": [
      "                                                                                 \r"
     ]
    },
    {
     "name": "stdout",
     "output_type": "stream",
     "text": [
      "Epoch 73/100: train loss 0.6822, Learning Rate 0.0169, val loss1.0416, corr 0.0456\n"
     ]
    },
    {
     "name": "stderr",
     "output_type": "stream",
     "text": [
      "                                                                                 \r"
     ]
    },
    {
     "name": "stdout",
     "output_type": "stream",
     "text": [
      "Epoch 74/100: train loss 0.6811, Learning Rate 0.0158, val loss0.9534, corr 0.0669\n"
     ]
    },
    {
     "name": "stderr",
     "output_type": "stream",
     "text": [
      "                                                                                 \r"
     ]
    },
    {
     "name": "stdout",
     "output_type": "stream",
     "text": [
      "Epoch 75/100: train loss 0.6747, Learning Rate 0.0146, val loss0.9691, corr 0.0559\n"
     ]
    },
    {
     "name": "stderr",
     "output_type": "stream",
     "text": [
      "                                                                                 \r"
     ]
    },
    {
     "name": "stdout",
     "output_type": "stream",
     "text": [
      "Epoch 76/100: train loss 0.6731, Learning Rate 0.0136, val loss0.9473, corr 0.0542\n"
     ]
    },
    {
     "name": "stderr",
     "output_type": "stream",
     "text": [
      "                                                                                 \r"
     ]
    },
    {
     "name": "stdout",
     "output_type": "stream",
     "text": [
      "Epoch 77/100: train loss 0.6735, Learning Rate 0.0125, val loss0.9861, corr 0.0481\n"
     ]
    },
    {
     "name": "stderr",
     "output_type": "stream",
     "text": [
      "                                                                                 \r"
     ]
    },
    {
     "name": "stdout",
     "output_type": "stream",
     "text": [
      "Epoch 78/100: train loss 0.6764, Learning Rate 0.0115, val loss0.9620, corr 0.0549\n"
     ]
    },
    {
     "name": "stderr",
     "output_type": "stream",
     "text": [
      "                                                                                 \r"
     ]
    },
    {
     "name": "stdout",
     "output_type": "stream",
     "text": [
      "Epoch 79/100: train loss 0.6679, Learning Rate 0.0105, val loss0.9758, corr 0.0505\n"
     ]
    },
    {
     "name": "stderr",
     "output_type": "stream",
     "text": [
      "                                                                                 \r"
     ]
    },
    {
     "name": "stdout",
     "output_type": "stream",
     "text": [
      "Epoch 80/100: train loss 0.6673, Learning Rate 0.0095, val loss1.0290, corr 0.0549\n"
     ]
    },
    {
     "name": "stderr",
     "output_type": "stream",
     "text": [
      "                                                                                 \r"
     ]
    },
    {
     "name": "stdout",
     "output_type": "stream",
     "text": [
      "Epoch 81/100: train loss 0.6697, Learning Rate 0.0086, val loss0.9997, corr 0.0488\n"
     ]
    },
    {
     "name": "stderr",
     "output_type": "stream",
     "text": [
      "                                                                                 \r"
     ]
    },
    {
     "name": "stdout",
     "output_type": "stream",
     "text": [
      "Epoch 82/100: train loss 0.6672, Learning Rate 0.0078, val loss1.0083, corr 0.0494\n"
     ]
    },
    {
     "name": "stderr",
     "output_type": "stream",
     "text": [
      "                                                                                 \r"
     ]
    },
    {
     "name": "stdout",
     "output_type": "stream",
     "text": [
      "Epoch 83/100: train loss 0.6661, Learning Rate 0.0070, val loss0.9870, corr 0.0524\n"
     ]
    },
    {
     "name": "stderr",
     "output_type": "stream",
     "text": [
      "                                                                                 \r"
     ]
    },
    {
     "name": "stdout",
     "output_type": "stream",
     "text": [
      "Epoch 84/100: train loss 0.6633, Learning Rate 0.0062, val loss1.0037, corr 0.0485\n"
     ]
    },
    {
     "name": "stderr",
     "output_type": "stream",
     "text": [
      "                                                                                 \r"
     ]
    },
    {
     "name": "stdout",
     "output_type": "stream",
     "text": [
      "Epoch 85/100: train loss 0.6635, Learning Rate 0.0054, val loss0.9814, corr 0.0552\n"
     ]
    },
    {
     "name": "stderr",
     "output_type": "stream",
     "text": [
      "                                                                                 \r"
     ]
    },
    {
     "name": "stdout",
     "output_type": "stream",
     "text": [
      "Epoch 86/100: train loss 0.6627, Learning Rate 0.0048, val loss1.0044, corr 0.0539\n"
     ]
    },
    {
     "name": "stderr",
     "output_type": "stream",
     "text": [
      "                                                                                 \r"
     ]
    },
    {
     "name": "stdout",
     "output_type": "stream",
     "text": [
      "Epoch 87/100: train loss 0.6570, Learning Rate 0.0041, val loss0.9821, corr 0.0531\n"
     ]
    },
    {
     "name": "stderr",
     "output_type": "stream",
     "text": [
      "                                                                                 \r"
     ]
    },
    {
     "name": "stdout",
     "output_type": "stream",
     "text": [
      "Epoch 88/100: train loss 0.6586, Learning Rate 0.0035, val loss0.9989, corr 0.0504\n"
     ]
    },
    {
     "name": "stderr",
     "output_type": "stream",
     "text": [
      "                                                                                 \r"
     ]
    },
    {
     "name": "stdout",
     "output_type": "stream",
     "text": [
      "Epoch 89/100: train loss 0.6578, Learning Rate 0.0030, val loss1.0194, corr 0.0528\n"
     ]
    },
    {
     "name": "stderr",
     "output_type": "stream",
     "text": [
      "                                                                                 \r"
     ]
    },
    {
     "name": "stdout",
     "output_type": "stream",
     "text": [
      "Epoch 90/100: train loss 0.6591, Learning Rate 0.0024, val loss1.0018, corr 0.0520\n"
     ]
    },
    {
     "name": "stderr",
     "output_type": "stream",
     "text": [
      "                                                                                 \r"
     ]
    },
    {
     "name": "stdout",
     "output_type": "stream",
     "text": [
      "Epoch 91/100: train loss 0.6595, Learning Rate 0.0020, val loss0.9986, corr 0.0549\n"
     ]
    },
    {
     "name": "stderr",
     "output_type": "stream",
     "text": [
      "                                                                                 \r"
     ]
    },
    {
     "name": "stdout",
     "output_type": "stream",
     "text": [
      "Epoch 92/100: train loss 0.6581, Learning Rate 0.0016, val loss0.9944, corr 0.0500\n"
     ]
    },
    {
     "name": "stderr",
     "output_type": "stream",
     "text": [
      "                                                                                 \r"
     ]
    },
    {
     "name": "stdout",
     "output_type": "stream",
     "text": [
      "Epoch 93/100: train loss 0.6565, Learning Rate 0.0012, val loss1.0049, corr 0.0521\n"
     ]
    },
    {
     "name": "stderr",
     "output_type": "stream",
     "text": [
      "                                                                                 \r"
     ]
    },
    {
     "name": "stdout",
     "output_type": "stream",
     "text": [
      "Epoch 94/100: train loss 0.6603, Learning Rate 0.0009, val loss0.9898, corr 0.0502\n"
     ]
    },
    {
     "name": "stderr",
     "output_type": "stream",
     "text": [
      "                                                                                 \r"
     ]
    },
    {
     "name": "stdout",
     "output_type": "stream",
     "text": [
      "Epoch 95/100: train loss 0.6571, Learning Rate 0.0006, val loss1.0040, corr 0.0545\n"
     ]
    },
    {
     "name": "stderr",
     "output_type": "stream",
     "text": [
      "                                                                                 \r"
     ]
    },
    {
     "name": "stdout",
     "output_type": "stream",
     "text": [
      "Epoch 96/100: train loss 0.6541, Learning Rate 0.0004, val loss1.0027, corr 0.0506\n"
     ]
    },
    {
     "name": "stderr",
     "output_type": "stream",
     "text": [
      "                                                                                 \r"
     ]
    },
    {
     "name": "stdout",
     "output_type": "stream",
     "text": [
      "Epoch 97/100: train loss 0.6552, Learning Rate 0.0002, val loss0.9996, corr 0.0488\n"
     ]
    },
    {
     "name": "stderr",
     "output_type": "stream",
     "text": [
      "                                                                                 \r"
     ]
    },
    {
     "name": "stdout",
     "output_type": "stream",
     "text": [
      "Epoch 98/100: train loss 0.6598, Learning Rate 0.0001, val loss1.0086, corr 0.0499\n"
     ]
    },
    {
     "name": "stderr",
     "output_type": "stream",
     "text": [
      "                                                                                 \r"
     ]
    },
    {
     "name": "stdout",
     "output_type": "stream",
     "text": [
      "Epoch 99/100: train loss 0.6546, Learning Rate 0.0000, val loss0.9937, corr 0.0539\n"
     ]
    },
    {
     "name": "stderr",
     "output_type": "stream",
     "text": [
      "                                                                                 \r"
     ]
    },
    {
     "name": "stdout",
     "output_type": "stream",
     "text": [
      "Epoch 100/100: train loss 0.6526, Learning Rate 0.0000, val loss1.0061, corr 0.0530\n",
      "///////////Start Train Base Line//////////\n"
     ]
    },
    {
     "name": "stderr",
     "output_type": "stream",
     "text": [
      "                                                                                  \r"
     ]
    },
    {
     "name": "stdout",
     "output_type": "stream",
     "text": [
      "successfully save model\n",
      "Epoch 1/100: train loss 1.0739, Learning Rate 0.1000, val loss0.8721, corr -0.0281\n"
     ]
    },
    {
     "name": "stderr",
     "output_type": "stream",
     "text": [
      "                                                                                  \r"
     ]
    },
    {
     "name": "stdout",
     "output_type": "stream",
     "text": [
      "successfully save model\n",
      "Epoch 2/100: train loss 1.0811, Learning Rate 0.1000, val loss0.8699, corr -0.0286\n"
     ]
    },
    {
     "name": "stderr",
     "output_type": "stream",
     "text": [
      "                                                                                  \r"
     ]
    },
    {
     "name": "stdout",
     "output_type": "stream",
     "text": [
      "Epoch 3/100: train loss 1.0851, Learning Rate 0.1000, val loss0.8713, corr -0.0402\n"
     ]
    },
    {
     "name": "stderr",
     "output_type": "stream",
     "text": [
      "                                                                                  \r"
     ]
    },
    {
     "name": "stdout",
     "output_type": "stream",
     "text": [
      "Epoch 4/100: train loss 1.0871, Learning Rate 0.1000, val loss0.8721, corr -0.0370\n"
     ]
    },
    {
     "name": "stderr",
     "output_type": "stream",
     "text": [
      "                                                                                  \r"
     ]
    },
    {
     "name": "stdout",
     "output_type": "stream",
     "text": [
      "Epoch 5/100: train loss 1.0832, Learning Rate 0.1000, val loss0.8737, corr -0.0285\n"
     ]
    },
    {
     "name": "stderr",
     "output_type": "stream",
     "text": [
      "                                                                                  \r"
     ]
    },
    {
     "name": "stdout",
     "output_type": "stream",
     "text": [
      "Epoch 6/100: train loss 1.0827, Learning Rate 0.1000, val loss0.8724, corr -0.0371\n"
     ]
    },
    {
     "name": "stderr",
     "output_type": "stream",
     "text": [
      "                                                                                  \r"
     ]
    },
    {
     "name": "stdout",
     "output_type": "stream",
     "text": [
      "Epoch 7/100: train loss 1.0821, Learning Rate 0.1000, val loss0.8709, corr -0.0386\n"
     ]
    },
    {
     "name": "stderr",
     "output_type": "stream",
     "text": [
      "                                                                                  \r"
     ]
    },
    {
     "name": "stdout",
     "output_type": "stream",
     "text": [
      "Epoch 8/100: train loss 1.0844, Learning Rate 0.1000, val loss0.8719, corr -0.0261\n"
     ]
    },
    {
     "name": "stderr",
     "output_type": "stream",
     "text": [
      "                                                                                  \r"
     ]
    },
    {
     "name": "stdout",
     "output_type": "stream",
     "text": [
      "Epoch 9/100: train loss 1.0750, Learning Rate 0.1000, val loss0.8714, corr -0.0417\n"
     ]
    },
    {
     "name": "stderr",
     "output_type": "stream",
     "text": [
      "                                                                                  \r"
     ]
    },
    {
     "name": "stdout",
     "output_type": "stream",
     "text": [
      "Epoch 10/100: train loss 1.0839, Learning Rate 0.1000, val loss0.8715, corr -0.0336\n"
     ]
    },
    {
     "name": "stderr",
     "output_type": "stream",
     "text": [
      "                                                                                  \r"
     ]
    },
    {
     "name": "stdout",
     "output_type": "stream",
     "text": [
      "Epoch 11/100: train loss 1.0795, Learning Rate 0.1000, val loss0.8711, corr -0.0374\n"
     ]
    },
    {
     "name": "stderr",
     "output_type": "stream",
     "text": [
      "                                                                                  \r"
     ]
    },
    {
     "name": "stdout",
     "output_type": "stream",
     "text": [
      "Epoch 12/100: train loss 1.0728, Learning Rate 0.1000, val loss0.8724, corr -0.0316\n"
     ]
    },
    {
     "name": "stderr",
     "output_type": "stream",
     "text": [
      "                                                                                  \r"
     ]
    },
    {
     "name": "stdout",
     "output_type": "stream",
     "text": [
      "Epoch 13/100: train loss 1.0774, Learning Rate 0.1000, val loss0.8730, corr -0.0362\n"
     ]
    },
    {
     "name": "stderr",
     "output_type": "stream",
     "text": [
      "                                                                                  \r"
     ]
    },
    {
     "name": "stdout",
     "output_type": "stream",
     "text": [
      "successfully save model\n",
      "Epoch 14/100: train loss 1.0694, Learning Rate 0.1000, val loss0.8696, corr -0.0337\n"
     ]
    },
    {
     "name": "stderr",
     "output_type": "stream",
     "text": [
      "                                                                                  \r"
     ]
    },
    {
     "name": "stdout",
     "output_type": "stream",
     "text": [
      "Epoch 15/100: train loss 1.0831, Learning Rate 0.1000, val loss0.8713, corr -0.0364\n"
     ]
    },
    {
     "name": "stderr",
     "output_type": "stream",
     "text": [
      "                                                                                  \r"
     ]
    },
    {
     "name": "stdout",
     "output_type": "stream",
     "text": [
      "Epoch 16/100: train loss 1.0785, Learning Rate 0.1000, val loss0.8707, corr -0.0325\n"
     ]
    },
    {
     "name": "stderr",
     "output_type": "stream",
     "text": [
      "                                                                                  \r"
     ]
    },
    {
     "name": "stdout",
     "output_type": "stream",
     "text": [
      "Epoch 17/100: train loss 1.0754, Learning Rate 0.1000, val loss0.8729, corr -0.0285\n"
     ]
    },
    {
     "name": "stderr",
     "output_type": "stream",
     "text": [
      "                                                                                  \r"
     ]
    },
    {
     "name": "stdout",
     "output_type": "stream",
     "text": [
      "Epoch 18/100: train loss 1.0762, Learning Rate 0.1000, val loss0.8726, corr -0.0300\n"
     ]
    },
    {
     "name": "stderr",
     "output_type": "stream",
     "text": [
      "                                                                                  \r"
     ]
    },
    {
     "name": "stdout",
     "output_type": "stream",
     "text": [
      "Epoch 19/100: train loss 1.0794, Learning Rate 0.1000, val loss0.8701, corr -0.0269\n"
     ]
    },
    {
     "name": "stderr",
     "output_type": "stream",
     "text": [
      "                                                                                  \r"
     ]
    },
    {
     "name": "stdout",
     "output_type": "stream",
     "text": [
      "Epoch 20/100: train loss 1.0757, Learning Rate 0.1000, val loss0.8716, corr -0.0296\n"
     ]
    },
    {
     "name": "stderr",
     "output_type": "stream",
     "text": [
      "                                                                                  \r"
     ]
    },
    {
     "name": "stdout",
     "output_type": "stream",
     "text": [
      "Epoch 21/100: train loss 1.0779, Learning Rate 0.1000, val loss0.8723, corr -0.0300\n"
     ]
    },
    {
     "name": "stderr",
     "output_type": "stream",
     "text": [
      "                                                                                  \r"
     ]
    },
    {
     "name": "stdout",
     "output_type": "stream",
     "text": [
      "Epoch 22/100: train loss 1.0855, Learning Rate 0.1000, val loss0.8726, corr -0.0325\n"
     ]
    },
    {
     "name": "stderr",
     "output_type": "stream",
     "text": [
      "                                                                                  \r"
     ]
    },
    {
     "name": "stdout",
     "output_type": "stream",
     "text": [
      "Epoch 23/100: train loss 1.0842, Learning Rate 0.1000, val loss0.8713, corr -0.0321\n"
     ]
    },
    {
     "name": "stderr",
     "output_type": "stream",
     "text": [
      "                                                                                  \r"
     ]
    },
    {
     "name": "stdout",
     "output_type": "stream",
     "text": [
      "Epoch 24/100: train loss 1.0791, Learning Rate 0.1000, val loss0.8748, corr -0.0337\n"
     ]
    },
    {
     "name": "stderr",
     "output_type": "stream",
     "text": [
      "                                                                                  \r"
     ]
    },
    {
     "name": "stdout",
     "output_type": "stream",
     "text": [
      "Epoch 25/100: train loss 1.0810, Learning Rate 0.1000, val loss0.8716, corr -0.0322\n"
     ]
    },
    {
     "name": "stderr",
     "output_type": "stream",
     "text": [
      "                                                                                  \r"
     ]
    },
    {
     "name": "stdout",
     "output_type": "stream",
     "text": [
      "Epoch 26/100: train loss 1.0884, Learning Rate 0.1000, val loss0.8730, corr -0.0327\n"
     ]
    },
    {
     "name": "stderr",
     "output_type": "stream",
     "text": [
      "                                                                                  \r"
     ]
    },
    {
     "name": "stdout",
     "output_type": "stream",
     "text": [
      "Epoch 27/100: train loss 1.0793, Learning Rate 0.1000, val loss0.8712, corr -0.0324\n"
     ]
    },
    {
     "name": "stderr",
     "output_type": "stream",
     "text": [
      "                                                                                  \r"
     ]
    },
    {
     "name": "stdout",
     "output_type": "stream",
     "text": [
      "Epoch 28/100: train loss 1.0877, Learning Rate 0.1000, val loss0.8716, corr -0.0336\n"
     ]
    },
    {
     "name": "stderr",
     "output_type": "stream",
     "text": [
      "                                                                                  \r"
     ]
    },
    {
     "name": "stdout",
     "output_type": "stream",
     "text": [
      "Epoch 29/100: train loss 1.0848, Learning Rate 0.1000, val loss0.8723, corr -0.0343\n"
     ]
    },
    {
     "name": "stderr",
     "output_type": "stream",
     "text": [
      "                                                                                  \r"
     ]
    },
    {
     "name": "stdout",
     "output_type": "stream",
     "text": [
      "Epoch 30/100: train loss 1.0853, Learning Rate 0.1000, val loss0.8700, corr -0.0346\n"
     ]
    },
    {
     "name": "stderr",
     "output_type": "stream",
     "text": [
      "                                                                                  \r"
     ]
    },
    {
     "name": "stdout",
     "output_type": "stream",
     "text": [
      "Epoch 31/100: train loss 1.0834, Learning Rate 0.1000, val loss0.8719, corr -0.0316\n"
     ]
    },
    {
     "name": "stderr",
     "output_type": "stream",
     "text": [
      "                                                                                  \r"
     ]
    },
    {
     "name": "stdout",
     "output_type": "stream",
     "text": [
      "Epoch 32/100: train loss 1.0866, Learning Rate 0.1000, val loss0.8714, corr -0.0361\n"
     ]
    },
    {
     "name": "stderr",
     "output_type": "stream",
     "text": [
      "                                                                                  \r"
     ]
    },
    {
     "name": "stdout",
     "output_type": "stream",
     "text": [
      "Epoch 33/100: train loss 1.0705, Learning Rate 0.1000, val loss0.8723, corr -0.0308\n"
     ]
    },
    {
     "name": "stderr",
     "output_type": "stream",
     "text": [
      "                                                                                  \r"
     ]
    },
    {
     "name": "stdout",
     "output_type": "stream",
     "text": [
      "Epoch 34/100: train loss 1.0867, Learning Rate 0.1000, val loss0.8730, corr -0.0409\n"
     ]
    },
    {
     "name": "stderr",
     "output_type": "stream",
     "text": [
      "                                                                                  \r"
     ]
    },
    {
     "name": "stdout",
     "output_type": "stream",
     "text": [
      "Epoch 35/100: train loss 1.0816, Learning Rate 0.1000, val loss0.8710, corr -0.0295\n"
     ]
    },
    {
     "name": "stderr",
     "output_type": "stream",
     "text": [
      "                                                                                  \r"
     ]
    },
    {
     "name": "stdout",
     "output_type": "stream",
     "text": [
      "Epoch 36/100: train loss 1.0815, Learning Rate 0.1000, val loss0.8719, corr -0.0320\n"
     ]
    },
    {
     "name": "stderr",
     "output_type": "stream",
     "text": [
      "                                                                                  \r"
     ]
    },
    {
     "name": "stdout",
     "output_type": "stream",
     "text": [
      "Epoch 37/100: train loss 1.0769, Learning Rate 0.1000, val loss0.8714, corr -0.0299\n"
     ]
    },
    {
     "name": "stderr",
     "output_type": "stream",
     "text": [
      "                                                                                  \r"
     ]
    },
    {
     "name": "stdout",
     "output_type": "stream",
     "text": [
      "Epoch 38/100: train loss 1.0780, Learning Rate 0.1000, val loss0.8728, corr -0.0304\n"
     ]
    },
    {
     "name": "stderr",
     "output_type": "stream",
     "text": [
      "                                                                                  \r"
     ]
    },
    {
     "name": "stdout",
     "output_type": "stream",
     "text": [
      "Epoch 39/100: train loss 1.0811, Learning Rate 0.1000, val loss0.8719, corr -0.0310\n"
     ]
    },
    {
     "name": "stderr",
     "output_type": "stream",
     "text": [
      "                                                                                  \r"
     ]
    },
    {
     "name": "stdout",
     "output_type": "stream",
     "text": [
      "Epoch 40/100: train loss 1.0790, Learning Rate 0.1000, val loss0.8722, corr -0.0363\n"
     ]
    },
    {
     "name": "stderr",
     "output_type": "stream",
     "text": [
      "                                                                                  \r"
     ]
    },
    {
     "name": "stdout",
     "output_type": "stream",
     "text": [
      "Epoch 41/100: train loss 1.0714, Learning Rate 0.1000, val loss0.8712, corr -0.0282\n"
     ]
    },
    {
     "name": "stderr",
     "output_type": "stream",
     "text": [
      "                                                                                  \r"
     ]
    },
    {
     "name": "stdout",
     "output_type": "stream",
     "text": [
      "Epoch 42/100: train loss 1.0842, Learning Rate 0.1000, val loss0.8719, corr -0.0325\n"
     ]
    },
    {
     "name": "stderr",
     "output_type": "stream",
     "text": [
      "                                                                                  \r"
     ]
    },
    {
     "name": "stdout",
     "output_type": "stream",
     "text": [
      "Epoch 43/100: train loss 1.0757, Learning Rate 0.1000, val loss0.8726, corr -0.0355\n"
     ]
    },
    {
     "name": "stderr",
     "output_type": "stream",
     "text": [
      "                                                                                  \r"
     ]
    },
    {
     "name": "stdout",
     "output_type": "stream",
     "text": [
      "Epoch 44/100: train loss 1.0894, Learning Rate 0.1000, val loss0.8714, corr -0.0393\n"
     ]
    },
    {
     "name": "stderr",
     "output_type": "stream",
     "text": [
      "                                                                                  \r"
     ]
    },
    {
     "name": "stdout",
     "output_type": "stream",
     "text": [
      "Epoch 45/100: train loss 1.0833, Learning Rate 0.1000, val loss0.8725, corr -0.0419\n"
     ]
    },
    {
     "name": "stderr",
     "output_type": "stream",
     "text": [
      "                                                                                  \r"
     ]
    },
    {
     "name": "stdout",
     "output_type": "stream",
     "text": [
      "Epoch 46/100: train loss 1.0696, Learning Rate 0.1000, val loss0.8723, corr -0.0404\n"
     ]
    },
    {
     "name": "stderr",
     "output_type": "stream",
     "text": [
      "                                                                                  \r"
     ]
    },
    {
     "name": "stdout",
     "output_type": "stream",
     "text": [
      "Epoch 47/100: train loss 1.0818, Learning Rate 0.1000, val loss0.8735, corr -0.0376\n"
     ]
    },
    {
     "name": "stderr",
     "output_type": "stream",
     "text": [
      "                                                                                  \r"
     ]
    },
    {
     "name": "stdout",
     "output_type": "stream",
     "text": [
      "Epoch 48/100: train loss 1.0830, Learning Rate 0.1000, val loss0.8718, corr -0.0299\n"
     ]
    },
    {
     "name": "stderr",
     "output_type": "stream",
     "text": [
      "                                                                                  \r"
     ]
    },
    {
     "name": "stdout",
     "output_type": "stream",
     "text": [
      "Epoch 49/100: train loss 1.0735, Learning Rate 0.1000, val loss0.8714, corr -0.0373\n"
     ]
    },
    {
     "name": "stderr",
     "output_type": "stream",
     "text": [
      "                                                                                  \r"
     ]
    },
    {
     "name": "stdout",
     "output_type": "stream",
     "text": [
      "Epoch 50/100: train loss 1.0763, Learning Rate 0.1000, val loss0.8713, corr -0.0323\n"
     ]
    },
    {
     "name": "stderr",
     "output_type": "stream",
     "text": [
      "                                                                                  \r"
     ]
    },
    {
     "name": "stdout",
     "output_type": "stream",
     "text": [
      "Epoch 51/100: train loss 1.0730, Learning Rate 0.1000, val loss0.8728, corr -0.0364\n"
     ]
    },
    {
     "name": "stderr",
     "output_type": "stream",
     "text": [
      "                                                                                  \r"
     ]
    },
    {
     "name": "stdout",
     "output_type": "stream",
     "text": [
      "Epoch 52/100: train loss 1.0840, Learning Rate 0.1000, val loss0.8725, corr -0.0338\n"
     ]
    },
    {
     "name": "stderr",
     "output_type": "stream",
     "text": [
      "                                                                                  \r"
     ]
    },
    {
     "name": "stdout",
     "output_type": "stream",
     "text": [
      "Epoch 53/100: train loss 1.0796, Learning Rate 0.1000, val loss0.8711, corr -0.0315\n"
     ]
    },
    {
     "name": "stderr",
     "output_type": "stream",
     "text": [
      "                                                                                  \r"
     ]
    },
    {
     "name": "stdout",
     "output_type": "stream",
     "text": [
      "Epoch 54/100: train loss 1.0824, Learning Rate 0.1000, val loss0.8731, corr -0.0312\n"
     ]
    },
    {
     "name": "stderr",
     "output_type": "stream",
     "text": [
      "                                                                                  \r"
     ]
    },
    {
     "name": "stdout",
     "output_type": "stream",
     "text": [
      "Epoch 55/100: train loss 1.0805, Learning Rate 0.1000, val loss0.8727, corr -0.0348\n"
     ]
    },
    {
     "name": "stderr",
     "output_type": "stream",
     "text": [
      "                                                                                  \r"
     ]
    },
    {
     "name": "stdout",
     "output_type": "stream",
     "text": [
      "Epoch 56/100: train loss 1.0771, Learning Rate 0.1000, val loss0.8731, corr -0.0353\n"
     ]
    },
    {
     "name": "stderr",
     "output_type": "stream",
     "text": [
      "                                                                                  \r"
     ]
    },
    {
     "name": "stdout",
     "output_type": "stream",
     "text": [
      "Epoch 57/100: train loss 1.0764, Learning Rate 0.1000, val loss0.8730, corr -0.0366\n"
     ]
    },
    {
     "name": "stderr",
     "output_type": "stream",
     "text": [
      "                                                                                  \r"
     ]
    },
    {
     "name": "stdout",
     "output_type": "stream",
     "text": [
      "Epoch 58/100: train loss 1.0800, Learning Rate 0.1000, val loss0.8712, corr -0.0320\n"
     ]
    },
    {
     "name": "stderr",
     "output_type": "stream",
     "text": [
      "                                                                                  \r"
     ]
    },
    {
     "name": "stdout",
     "output_type": "stream",
     "text": [
      "Epoch 59/100: train loss 1.0747, Learning Rate 0.1000, val loss0.8730, corr -0.0364\n"
     ]
    },
    {
     "name": "stderr",
     "output_type": "stream",
     "text": [
      "                                                                                  \r"
     ]
    },
    {
     "name": "stdout",
     "output_type": "stream",
     "text": [
      "Epoch 60/100: train loss 1.0865, Learning Rate 0.1000, val loss0.8749, corr -0.0374\n"
     ]
    },
    {
     "name": "stderr",
     "output_type": "stream",
     "text": [
      "                                                                                  \r"
     ]
    },
    {
     "name": "stdout",
     "output_type": "stream",
     "text": [
      "Epoch 61/100: train loss 1.0868, Learning Rate 0.1000, val loss0.8734, corr -0.0301\n"
     ]
    },
    {
     "name": "stderr",
     "output_type": "stream",
     "text": [
      "                                                                                  \r"
     ]
    },
    {
     "name": "stdout",
     "output_type": "stream",
     "text": [
      "Epoch 62/100: train loss 1.0831, Learning Rate 0.1000, val loss0.8710, corr -0.0313\n"
     ]
    },
    {
     "name": "stderr",
     "output_type": "stream",
     "text": [
      "                                                                                  \r"
     ]
    },
    {
     "name": "stdout",
     "output_type": "stream",
     "text": [
      "Epoch 63/100: train loss 1.0882, Learning Rate 0.1000, val loss0.8726, corr -0.0367\n"
     ]
    },
    {
     "name": "stderr",
     "output_type": "stream",
     "text": [
      "                                                                                  \r"
     ]
    },
    {
     "name": "stdout",
     "output_type": "stream",
     "text": [
      "Epoch 64/100: train loss 1.0957, Learning Rate 0.1000, val loss0.8709, corr -0.0336\n"
     ]
    },
    {
     "name": "stderr",
     "output_type": "stream",
     "text": [
      "                                                                                  \r"
     ]
    },
    {
     "name": "stdout",
     "output_type": "stream",
     "text": [
      "Epoch 65/100: train loss 1.0758, Learning Rate 0.1000, val loss0.8749, corr -0.0404\n"
     ]
    },
    {
     "name": "stderr",
     "output_type": "stream",
     "text": [
      "                                                                                  \r"
     ]
    },
    {
     "name": "stdout",
     "output_type": "stream",
     "text": [
      "Epoch 66/100: train loss 1.0855, Learning Rate 0.1000, val loss0.8714, corr -0.0335\n"
     ]
    },
    {
     "name": "stderr",
     "output_type": "stream",
     "text": [
      "                                                                                  \r"
     ]
    },
    {
     "name": "stdout",
     "output_type": "stream",
     "text": [
      "Epoch 67/100: train loss 1.0780, Learning Rate 0.1000, val loss0.8715, corr -0.0332\n"
     ]
    },
    {
     "name": "stderr",
     "output_type": "stream",
     "text": [
      "                                                                                  \r"
     ]
    },
    {
     "name": "stdout",
     "output_type": "stream",
     "text": [
      "Epoch 68/100: train loss 1.0790, Learning Rate 0.1000, val loss0.8724, corr -0.0284\n"
     ]
    },
    {
     "name": "stderr",
     "output_type": "stream",
     "text": [
      "                                                                                  \r"
     ]
    },
    {
     "name": "stdout",
     "output_type": "stream",
     "text": [
      "Epoch 69/100: train loss 1.0914, Learning Rate 0.1000, val loss0.8743, corr -0.0336\n"
     ]
    },
    {
     "name": "stderr",
     "output_type": "stream",
     "text": [
      "                                                                                  \r"
     ]
    },
    {
     "name": "stdout",
     "output_type": "stream",
     "text": [
      "Epoch 70/100: train loss 1.0755, Learning Rate 0.1000, val loss0.8726, corr -0.0395\n"
     ]
    },
    {
     "name": "stderr",
     "output_type": "stream",
     "text": [
      "                                                                                  \r"
     ]
    },
    {
     "name": "stdout",
     "output_type": "stream",
     "text": [
      "Epoch 71/100: train loss 1.0760, Learning Rate 0.1000, val loss0.8708, corr -0.0325\n"
     ]
    },
    {
     "name": "stderr",
     "output_type": "stream",
     "text": [
      "                                                                                  \r"
     ]
    },
    {
     "name": "stdout",
     "output_type": "stream",
     "text": [
      "Epoch 72/100: train loss 1.0858, Learning Rate 0.1000, val loss0.8712, corr -0.0337\n"
     ]
    },
    {
     "name": "stderr",
     "output_type": "stream",
     "text": [
      "                                                                                  \r"
     ]
    },
    {
     "name": "stdout",
     "output_type": "stream",
     "text": [
      "Epoch 73/100: train loss 1.0811, Learning Rate 0.1000, val loss0.8716, corr -0.0343\n"
     ]
    },
    {
     "name": "stderr",
     "output_type": "stream",
     "text": [
      "                                                                                  \r"
     ]
    },
    {
     "name": "stdout",
     "output_type": "stream",
     "text": [
      "Epoch 74/100: train loss 1.0806, Learning Rate 0.1000, val loss0.8717, corr -0.0367\n"
     ]
    },
    {
     "name": "stderr",
     "output_type": "stream",
     "text": [
      "                                                                                  \r"
     ]
    },
    {
     "name": "stdout",
     "output_type": "stream",
     "text": [
      "Epoch 75/100: train loss 1.0763, Learning Rate 0.1000, val loss0.8722, corr -0.0375\n"
     ]
    },
    {
     "name": "stderr",
     "output_type": "stream",
     "text": [
      "                                                                                  \r"
     ]
    },
    {
     "name": "stdout",
     "output_type": "stream",
     "text": [
      "Epoch 76/100: train loss 1.0815, Learning Rate 0.1000, val loss0.8709, corr -0.0361\n"
     ]
    },
    {
     "name": "stderr",
     "output_type": "stream",
     "text": [
      "                                                                                  \r"
     ]
    },
    {
     "name": "stdout",
     "output_type": "stream",
     "text": [
      "Epoch 77/100: train loss 1.0824, Learning Rate 0.1000, val loss0.8711, corr -0.0376\n"
     ]
    },
    {
     "name": "stderr",
     "output_type": "stream",
     "text": [
      "                                                                                  \r"
     ]
    },
    {
     "name": "stdout",
     "output_type": "stream",
     "text": [
      "Epoch 78/100: train loss 1.0813, Learning Rate 0.1000, val loss0.8715, corr -0.0280\n"
     ]
    },
    {
     "name": "stderr",
     "output_type": "stream",
     "text": [
      "                                                                                  \r"
     ]
    },
    {
     "name": "stdout",
     "output_type": "stream",
     "text": [
      "Epoch 79/100: train loss 1.0803, Learning Rate 0.1000, val loss0.8722, corr -0.0343\n"
     ]
    },
    {
     "name": "stderr",
     "output_type": "stream",
     "text": [
      "                                                                                  \r"
     ]
    },
    {
     "name": "stdout",
     "output_type": "stream",
     "text": [
      "Epoch 80/100: train loss 1.0804, Learning Rate 0.1000, val loss0.8725, corr -0.0387\n"
     ]
    },
    {
     "name": "stderr",
     "output_type": "stream",
     "text": [
      "                                                                                  \r"
     ]
    },
    {
     "name": "stdout",
     "output_type": "stream",
     "text": [
      "Epoch 81/100: train loss 1.0810, Learning Rate 0.1000, val loss0.8711, corr -0.0343\n"
     ]
    },
    {
     "name": "stderr",
     "output_type": "stream",
     "text": [
      "                                                                                  \r"
     ]
    },
    {
     "name": "stdout",
     "output_type": "stream",
     "text": [
      "Epoch 82/100: train loss 1.0854, Learning Rate 0.1000, val loss0.8727, corr -0.0367\n"
     ]
    },
    {
     "name": "stderr",
     "output_type": "stream",
     "text": [
      "                                                                                  \r"
     ]
    },
    {
     "name": "stdout",
     "output_type": "stream",
     "text": [
      "Epoch 83/100: train loss 1.0839, Learning Rate 0.1000, val loss0.8754, corr -0.0344\n"
     ]
    },
    {
     "name": "stderr",
     "output_type": "stream",
     "text": [
      "                                                                                  \r"
     ]
    },
    {
     "name": "stdout",
     "output_type": "stream",
     "text": [
      "Epoch 84/100: train loss 1.0780, Learning Rate 0.1000, val loss0.8710, corr -0.0373\n"
     ]
    },
    {
     "name": "stderr",
     "output_type": "stream",
     "text": [
      "                                                                                  \r"
     ]
    },
    {
     "name": "stdout",
     "output_type": "stream",
     "text": [
      "Epoch 85/100: train loss 1.0763, Learning Rate 0.1000, val loss0.8705, corr -0.0346\n"
     ]
    },
    {
     "name": "stderr",
     "output_type": "stream",
     "text": [
      "                                                                                  \r"
     ]
    },
    {
     "name": "stdout",
     "output_type": "stream",
     "text": [
      "Epoch 86/100: train loss 1.0898, Learning Rate 0.1000, val loss0.8718, corr -0.0347\n"
     ]
    },
    {
     "name": "stderr",
     "output_type": "stream",
     "text": [
      "                                                                                  \r"
     ]
    },
    {
     "name": "stdout",
     "output_type": "stream",
     "text": [
      "Epoch 87/100: train loss 1.0899, Learning Rate 0.1000, val loss0.8715, corr -0.0374\n"
     ]
    },
    {
     "name": "stderr",
     "output_type": "stream",
     "text": [
      "                                                                                  \r"
     ]
    },
    {
     "name": "stdout",
     "output_type": "stream",
     "text": [
      "Epoch 88/100: train loss 1.0871, Learning Rate 0.1000, val loss0.8719, corr -0.0344\n"
     ]
    },
    {
     "name": "stderr",
     "output_type": "stream",
     "text": [
      "                                                                                  \r"
     ]
    },
    {
     "name": "stdout",
     "output_type": "stream",
     "text": [
      "Epoch 89/100: train loss 1.0784, Learning Rate 0.1000, val loss0.8726, corr -0.0375\n"
     ]
    },
    {
     "name": "stderr",
     "output_type": "stream",
     "text": [
      "                                                                                  \r"
     ]
    },
    {
     "name": "stdout",
     "output_type": "stream",
     "text": [
      "Epoch 90/100: train loss 1.0823, Learning Rate 0.1000, val loss0.8732, corr -0.0397\n"
     ]
    },
    {
     "name": "stderr",
     "output_type": "stream",
     "text": [
      "                                                                                  \r"
     ]
    },
    {
     "name": "stdout",
     "output_type": "stream",
     "text": [
      "Epoch 91/100: train loss 1.0752, Learning Rate 0.1000, val loss0.8720, corr -0.0381\n"
     ]
    },
    {
     "name": "stderr",
     "output_type": "stream",
     "text": [
      "                                                                                  \r"
     ]
    },
    {
     "name": "stdout",
     "output_type": "stream",
     "text": [
      "Epoch 92/100: train loss 1.0822, Learning Rate 0.1000, val loss0.8715, corr -0.0419\n"
     ]
    },
    {
     "name": "stderr",
     "output_type": "stream",
     "text": [
      "                                                                                  \r"
     ]
    },
    {
     "name": "stdout",
     "output_type": "stream",
     "text": [
      "Epoch 93/100: train loss 1.0856, Learning Rate 0.1000, val loss0.8748, corr -0.0304\n"
     ]
    },
    {
     "name": "stderr",
     "output_type": "stream",
     "text": [
      "                                                                                  \r"
     ]
    },
    {
     "name": "stdout",
     "output_type": "stream",
     "text": [
      "Epoch 94/100: train loss 1.0745, Learning Rate 0.1000, val loss0.8724, corr -0.0377\n"
     ]
    },
    {
     "name": "stderr",
     "output_type": "stream",
     "text": [
      "                                                                                  \r"
     ]
    },
    {
     "name": "stdout",
     "output_type": "stream",
     "text": [
      "Epoch 95/100: train loss 1.0888, Learning Rate 0.1000, val loss0.8728, corr -0.0343\n"
     ]
    },
    {
     "name": "stderr",
     "output_type": "stream",
     "text": [
      "                                                                                  \r"
     ]
    },
    {
     "name": "stdout",
     "output_type": "stream",
     "text": [
      "Epoch 96/100: train loss 1.0818, Learning Rate 0.1000, val loss0.8718, corr -0.0364\n"
     ]
    },
    {
     "name": "stderr",
     "output_type": "stream",
     "text": [
      "                                                                                  \r"
     ]
    },
    {
     "name": "stdout",
     "output_type": "stream",
     "text": [
      "Epoch 97/100: train loss 1.0740, Learning Rate 0.1000, val loss0.8743, corr -0.0351\n"
     ]
    },
    {
     "name": "stderr",
     "output_type": "stream",
     "text": [
      "                                                                                  \r"
     ]
    },
    {
     "name": "stdout",
     "output_type": "stream",
     "text": [
      "Epoch 98/100: train loss 1.0866, Learning Rate 0.1000, val loss0.8734, corr -0.0351\n"
     ]
    },
    {
     "name": "stderr",
     "output_type": "stream",
     "text": [
      "                                                                                  \r"
     ]
    },
    {
     "name": "stdout",
     "output_type": "stream",
     "text": [
      "Epoch 99/100: train loss 1.0806, Learning Rate 0.1000, val loss0.8718, corr -0.0355\n"
     ]
    },
    {
     "name": "stderr",
     "output_type": "stream",
     "text": [
      "                                                                                  \r"
     ]
    },
    {
     "name": "stdout",
     "output_type": "stream",
     "text": [
      "Epoch 100/100: train loss 1.0774, Learning Rate 0.1000, val loss0.8718, corr -0.0331\n",
      "//////////Start test///////////\n",
      "----BaseLine-----\n"
     ]
    },
    {
     "name": "stderr",
     "output_type": "stream",
     "text": [
      "                                                                                             \r"
     ]
    },
    {
     "name": "stdout",
     "output_type": "stream",
     "text": [
      "test loss0.8627,test corr -0.0148\n",
      "----Attention-----\n"
     ]
    },
    {
     "name": "stderr",
     "output_type": "stream",
     "text": [
      "                                                                                            \r"
     ]
    },
    {
     "name": "stdout",
     "output_type": "stream",
     "text": [
      "test loss0.8542,test corr 0.0951\n"
     ]
    }
   ],
   "source": [
    "Main()"
   ]
  },
  {
   "cell_type": "code",
   "execution_count": null,
   "id": "628b1992",
   "metadata": {},
   "outputs": [],
   "source": []
  },
  {
   "cell_type": "code",
   "execution_count": null,
   "id": "fb9e32f4",
   "metadata": {},
   "outputs": [],
   "source": []
  },
  {
   "cell_type": "code",
   "execution_count": null,
   "id": "1ec5c3b5",
   "metadata": {},
   "outputs": [],
   "source": []
  }
 ],
 "metadata": {
  "kernelspec": {
   "display_name": "Python 3 (ipykernel)",
   "language": "python",
   "name": "python3"
  },
  "language_info": {
   "codemirror_mode": {
    "name": "ipython",
    "version": 3
   },
   "file_extension": ".py",
   "mimetype": "text/x-python",
   "name": "python",
   "nbconvert_exporter": "python",
   "pygments_lexer": "ipython3",
   "version": "3.8.12"
  }
 },
 "nbformat": 4,
 "nbformat_minor": 5
}
