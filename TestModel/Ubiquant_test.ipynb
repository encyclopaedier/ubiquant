{
  "nbformat": 4,
  "nbformat_minor": 0,
  "metadata": {
    "colab": {
      "name": "Ubiquant_test.ipynb",
      "provenance": [],
      "collapsed_sections": []
    },
    "kernelspec": {
      "name": "python3",
      "display_name": "Python 3"
    },
    "language_info": {
      "name": "python"
    }
  },
  "cells": [
    {
      "cell_type": "markdown",
      "source": [
        "# Import"
      ],
      "metadata": {
        "id": "u1NCVKBPn_UJ"
      }
    },
    {
      "cell_type": "code",
      "execution_count": null,
      "metadata": {
        "id": "c2nCATppn2fO"
      },
      "outputs": [],
      "source": [
        "import pandas as pd\n",
        "import torch \n",
        "import torch.nn as nn\n",
        "from torch.utils.data import DataLoader,Dataset\n",
        "import numpy as np\n",
        "from tqdm import tqdm\n",
        "import pandas as pd\n",
        "import slugify\n",
        "import os\n",
        "# import dask.dataframe as dd\n",
        "\n",
        "FULL_DATA_DIR = '/content'"
      ]
    },
    {
      "cell_type": "code",
      "source": [
        "def GetMaxFeature(x):\n",
        "    id_size = x[\"investment_id\"].nunique()\n",
        "    time_id_size = x[\"time_id\"].nunique()\n",
        "    return id_size,time_id_size"
      ],
      "metadata": {
        "id": "U2gxssl7hxc5"
      },
      "execution_count": null,
      "outputs": []
    },
    {
      "cell_type": "code",
      "source": [
        "class Ubiquant_test(Dataset):\n",
        "    def __init__(self,test_df,context = 100,get_time_data = True):\n",
        "        super(Ubiquant_test,self).__init__()\n",
        "        self.get_time = get_time_data\n",
        "        self.data = test_df\n",
        "        self.id_size,self.time_size = GetMaxFeature(self.data)\n",
        "        if(get_time_data):#get an x base on time frame\n",
        "            self.x = self.data.drop(columns=[\"row_id\"])\n",
        "            self.x.loc[:,\"time_id\"] -=self.x.loc[0,\"time_id\"]\n",
        "            #self.id = self.x[[\"time_id\"]]\n",
        "            self.id = self.x[[\"investment_id\"]]\n",
        "            self.x = self.x.drop(columns=[\"investment_id\"])\n",
        "            #self.x = self.x.drop(columns=[\"time_id\"])\n",
        "        else:#get (x) base on investment_id\n",
        "            self.data = self.data.sort_values(by=[\"investment_id\"])\n",
        "            self.x = self.data.drop(columns=[\"row_id\",\"time_id\"])\n",
        "            self.id = self.x[[\"investment_id\"]]\n",
        "            self.x = self.x.drop(columns=[\"investment_id\"])\n",
        "        \n",
        "        #pad context before the data\n",
        "        self.context = context\n",
        "        self.pad_id =np.pad(self.id.to_numpy(),((context-1,0),(0,0)),constant_values = 0)\n",
        "        self.pad_x =np.pad(self.x.to_numpy(),((context-1,0),(0,0)),constant_values = 0)\n",
        "        \n",
        "        \n",
        "        self.pad_id =torch.LongTensor(self.pad_id)\n",
        "        self.pad_x = torch.FloatTensor(self.pad_x)\n",
        "        \n",
        "        # print(f\"succesfully load test data with shape x : {self.x.shape} | get time data is: {get_time_data}\")      \n",
        "                           \n",
        "    def __getitem__(self,index):\n",
        "        context = self.context\n",
        "        return self.pad_id[index:index+context],self.pad_x[index:index+context]\n",
        "        \n",
        "    def __len__(self):\n",
        "        return self.x.shape[0]\n",
        "    \n",
        "    def GetSize(self):\n",
        "        if(self.get_time):\n",
        "            return self.time_size\n",
        "        else:\n",
        "            return self.id_size"
      ],
      "metadata": {
        "id": "Jw_F3IsYonmW"
      },
      "execution_count": null,
      "outputs": []
    },
    {
      "cell_type": "code",
      "source": [
        "class SimpleAttention(nn.Module):\n",
        "    def __init__(self,seq_len = 32, input_feature =311):\n",
        "        super(SimpleAttention,self).__init__() \n",
        "        \n",
        "        self.id_embedding = nn.Embedding(10000,11)\n",
        "        self.att = nn.MultiheadAttention(input_feature,8,batch_first=True)\n",
        "        self.flat = nn.Flatten()\n",
        "        self.MLP =nn.Sequential(\n",
        "            nn.Linear(input_feature*seq_len,64),\n",
        "            nn.BatchNorm1d(64),\n",
        "            nn.SiLU(),\n",
        "            nn.Dropout(0.4),\n",
        "            nn.Linear(64,128),\n",
        "            nn.BatchNorm1d(128),\n",
        "            nn.SiLU(),\n",
        "            nn.Dropout(0.4),\n",
        "            nn.Linear(128,256),\n",
        "            nn.BatchNorm1d(256),\n",
        "            nn.SiLU(),\n",
        "            nn.Dropout(0.4),\n",
        "            nn.Linear(256,512),\n",
        "            nn.BatchNorm1d(512),\n",
        "            nn.SiLU(),\n",
        "            nn.Dropout(0.4),\n",
        "            nn.Linear(512,256),\n",
        "            nn.BatchNorm1d(256),\n",
        "            nn.SiLU(),\n",
        "            nn.Dropout(0.4),\n",
        "            nn.Linear(256,128),\n",
        "            nn.BatchNorm1d(128),\n",
        "            nn.SiLU(),\n",
        "            nn.Dropout(0.4),\n",
        "            nn.Linear(128,8),\n",
        "            nn.BatchNorm1d(8),\n",
        "            nn.SiLU(),\n",
        "            nn.Dropout(0.4),\n",
        "            nn.Linear(8,1)\n",
        "        )\n",
        "            \n",
        "        self.criterion = nn.MSELoss()\n",
        "        \n",
        "    def forward(self,_id,f_features):\n",
        "        invest_embedding = self.id_embedding(_id).squeeze(dim=2)\n",
        "        #print(invest_embedding.shape)\n",
        "        #print(f_features.shape)\n",
        "        _input =torch.cat((invest_embedding,f_features),axis =-1)\n",
        "        #print(_input.shape)\n",
        "        #_input = _input.unsqueeze(dim=1)\n",
        "        #print(_input.shape)\n",
        "        output,_ = self.att(_input,_input,_input)\n",
        "        #print(output.shape)\n",
        "        output = self.flat(output)\n",
        "        #print(output.shape)\n",
        "        output = self.MLP(output)\n",
        "        return output\n",
        "    \n",
        "    def cal_Loss(self,y_hat,y):\n",
        "        return self.criterion(y_hat,y)"
      ],
      "metadata": {
        "id": "HSTNPnUhspoM"
      },
      "execution_count": null,
      "outputs": []
    },
    {
      "cell_type": "code",
      "source": [
        "class SimpleMLP(nn.Module):\n",
        "    def __init__(self,seq_len = 32,input_feature = 311):\n",
        "        super(SimpleMLP,self).__init__()\n",
        "        \n",
        "        self.id_embedding = nn.Embedding(10000,11)\n",
        "        self.flat = nn.Flatten()\n",
        "        self.MLP =nn.Sequential(\n",
        "            nn.Linear(input_feature*seq_len,64),\n",
        "            nn.BatchNorm1d(64),\n",
        "            nn.SiLU(),\n",
        "            nn.Dropout(0.4),\n",
        "            nn.Linear(64,128),\n",
        "            nn.BatchNorm1d(128),\n",
        "            nn.SiLU(),\n",
        "            nn.Dropout(0.4),\n",
        "            nn.Linear(128,256),\n",
        "            nn.BatchNorm1d(256),\n",
        "            nn.SiLU(),\n",
        "            nn.Dropout(0.4),\n",
        "            nn.Linear(256,512),\n",
        "            nn.BatchNorm1d(512),\n",
        "            nn.SiLU(),\n",
        "            nn.Dropout(0.4),\n",
        "            nn.Linear(512,256),\n",
        "            nn.BatchNorm1d(256),\n",
        "            nn.SiLU(),\n",
        "            nn.Dropout(0.4),\n",
        "            nn.Linear(256,128),\n",
        "            nn.BatchNorm1d(128),\n",
        "            nn.SiLU(),\n",
        "            nn.Dropout(0.4),\n",
        "            nn.Linear(128,8),\n",
        "            nn.BatchNorm1d(8),\n",
        "            nn.SiLU(),\n",
        "            nn.Dropout(0.4),\n",
        "            nn.Linear(8,1)\n",
        "        )\n",
        "        \n",
        "        self.criterion = nn.MSELoss()\n",
        "        \n",
        "    def forward(self,_id,f_features):\n",
        "        invest_embedding = self.id_embedding(_id).squeeze(dim=2)\n",
        "        #print(invest_embedding.shape)\n",
        "        #print(f_features.shape)\n",
        "        _input =torch.cat((invest_embedding,f_features),axis =-1)\n",
        "        #print(_input.shape)\n",
        "        #_input = _input.unsqueeze(dim=1)\n",
        "        #print(_input.shape)\n",
        "        _input = self.flat(_input)\n",
        "        output = self.MLP(_input)\n",
        "        return output\n",
        "\n",
        "    def cal_Loss(self,y_hat,y):\n",
        "        return self.criterion(y_hat,y)"
      ],
      "metadata": {
        "id": "rqay6z1Isqso"
      },
      "execution_count": null,
      "outputs": []
    },
    {
      "cell_type": "code",
      "source": [
        "def test(model,testLoader,config):\n",
        "    target = []\n",
        "    for i,(x1,x2) in enumerate(testLoader):\n",
        "        with torch.no_grad():\n",
        "            x1,x2 = x1.cuda(),x2.cuda()\n",
        "            y_hat = model(x1,x2)\n",
        "            y_hat = y_hat.reshape(-1,1)\n",
        "            target += y_hat\n",
        "    return target"
      ],
      "metadata": {
        "id": "g60Vow1MKbSM"
      },
      "execution_count": null,
      "outputs": []
    },
    {
      "cell_type": "code",
      "source": [
        "config={\"epoch\" : 50,\"batch_size\":12800,\"learning_rate\":0.1,\"optimz\":\"Adam\",\"store_path\":\"./Att.pth\",\"context\":32}\n",
        "base_config={\"epoch\" : 50,\"batch_size\":12800,\"learning_rate\":0.1,\"optimz\":\"Adam\",\"store_path\":\"./MLP.pth\",\"context\":32}"
      ],
      "metadata": {
        "id": "NbPgF6-OlM6a"
      },
      "execution_count": null,
      "outputs": []
    },
    {
      "cell_type": "code",
      "source": [
        "model = SimpleAttention(32,312).cuda()\n",
        "model.load_state_dict(torch.load(config[\"store_path\"]))\n",
        "model.eval()\n",
        "import ubiquant\n",
        "env = ubiquant.make_env()\n",
        "iter_test = env.iter_test() \n",
        "for (test_df, sample_prediction_df) in iter_test:\n",
        "    testSet = Ubiquant_test(test_df, context = config[\"context\"], get_time_data = get_time_data)\n",
        "    testLoader = DataLoader(testSet,batch_size = config[\"batch_size\"],shuffle =False,drop_last=False)\n",
        "    sample_prediction_df['target'] = test(model, testLoader,config)\n",
        "    env.predict(sample_prediction_df) "
      ],
      "metadata": {
        "id": "SpTQjP44nQKM"
      },
      "execution_count": null,
      "outputs": []
    },
    {
      "cell_type": "code",
      "source": [
        "# import test1\n",
        "# env = test1.make_env()\n",
        "# iter_test = env.iter_test() \n",
        "# for (test_df, sample_prediction_df) in iter_test:\n",
        "#     # ds = make_test_dataset(test_df[features], test_df[\"investment_id\"])\n",
        "#     # sample_prediction_df['target'] = test(models, ds)\n",
        "#     # env.predict(sample_prediction_df) \n",
        "#     print(test_df.columns)\n",
        "#     print(sample_prediction_df.columns)\n"
      ],
      "metadata": {
        "id": "pKVkuiSZzBWc",
        "colab": {
          "base_uri": "https://localhost:8080/",
          "height": 391
        },
        "outputId": "09b50d73-7b36-4fcb-da17-dd85d10f4a96"
      },
      "execution_count": null,
      "outputs": [
        {
          "output_type": "stream",
          "name": "stdout",
          "text": [
            "This version of the API is not optimized and should not be used to estimate the runtime of your code on the hidden test set.\n",
            "Index(['row_id', 'investment_id', 'f_0', 'f_1', 'f_2', 'f_3', 'f_4', 'f_5',\n",
            "       'f_6', 'f_7',\n",
            "       ...\n",
            "       'f_290', 'f_291', 'f_292', 'f_293', 'f_294', 'f_295', 'f_296', 'f_297',\n",
            "       'f_298', 'f_299'],\n",
            "      dtype='object', length=302)\n",
            "Index(['row_id', 'target'], dtype='object')\n",
            "You must call `predict()` successfully before you can continue with `iter_test()`\n"
          ]
        },
        {
          "output_type": "error",
          "ename": "TypeError",
          "evalue": "ignored",
          "traceback": [
            "\u001b[0;31m---------------------------------------------------------------------------\u001b[0m",
            "\u001b[0;31mTypeError\u001b[0m                                 Traceback (most recent call last)",
            "\u001b[0;32m<ipython-input-4-aae73ea38463>\u001b[0m in \u001b[0;36m<module>\u001b[0;34m()\u001b[0m\n\u001b[1;32m      2\u001b[0m \u001b[0menv\u001b[0m \u001b[0;34m=\u001b[0m \u001b[0mtest1\u001b[0m\u001b[0;34m.\u001b[0m\u001b[0mmake_env\u001b[0m\u001b[0;34m(\u001b[0m\u001b[0;34m)\u001b[0m\u001b[0;34m\u001b[0m\u001b[0;34m\u001b[0m\u001b[0m\n\u001b[1;32m      3\u001b[0m \u001b[0miter_test\u001b[0m \u001b[0;34m=\u001b[0m \u001b[0menv\u001b[0m\u001b[0;34m.\u001b[0m\u001b[0miter_test\u001b[0m\u001b[0;34m(\u001b[0m\u001b[0;34m)\u001b[0m\u001b[0;34m\u001b[0m\u001b[0;34m\u001b[0m\u001b[0m\n\u001b[0;32m----> 4\u001b[0;31m \u001b[0;32mfor\u001b[0m \u001b[0;34m(\u001b[0m\u001b[0mtest_df\u001b[0m\u001b[0;34m,\u001b[0m \u001b[0msample_prediction_df\u001b[0m\u001b[0;34m)\u001b[0m \u001b[0;32min\u001b[0m \u001b[0miter_test\u001b[0m\u001b[0;34m:\u001b[0m\u001b[0;34m\u001b[0m\u001b[0;34m\u001b[0m\u001b[0m\n\u001b[0m\u001b[1;32m      5\u001b[0m     \u001b[0;31m# ds = make_test_dataset(test_df[features], test_df[\"investment_id\"])\u001b[0m\u001b[0;34m\u001b[0m\u001b[0;34m\u001b[0m\u001b[0;34m\u001b[0m\u001b[0m\n\u001b[1;32m      6\u001b[0m     \u001b[0;31m# sample_prediction_df['target'] = test(models, ds)\u001b[0m\u001b[0;34m\u001b[0m\u001b[0;34m\u001b[0m\u001b[0;34m\u001b[0m\u001b[0m\n",
            "\u001b[0;31mTypeError\u001b[0m: cannot unpack non-iterable NoneType object"
          ]
        }
      ]
    },
    {
      "cell_type": "markdown",
      "source": [
        "Index(['row_id', 'investment_id', 'f_0', 'f_1', 'f_2', 'f_3', 'f_4', 'f_5',\n",
        "       'f_6', 'f_7',\n",
        "       ...\n",
        "       'f_290', 'f_291', 'f_292', 'f_293', 'f_294', 'f_295', 'f_296', 'f_297',\n",
        "       'f_298', 'f_299'],\n",
        "      dtype='object', length=302)\n",
        "Index(['row_id', 'target'], dtype='object')\n",
        "You must call `predict()` successfully before you can continue with `iter_test()`"
      ],
      "metadata": {
        "id": "DHC-sk_YjK6R"
      }
    }
  ]
}